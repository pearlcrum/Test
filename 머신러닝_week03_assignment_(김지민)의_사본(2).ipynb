{
  "cells": [
    {
      "cell_type": "markdown",
      "metadata": {
        "id": "view-in-github",
        "colab_type": "text"
      },
      "source": [
        "<a href=\"https://colab.research.google.com/github/pearlcrum/Test/blob/main/%EB%A8%B8%EC%8B%A0%EB%9F%AC%EB%8B%9D_week03_assignment_(%EA%B9%80%EC%A7%80%EB%AF%BC)%EC%9D%98_%EC%82%AC%EB%B3%B8(2).ipynb\" target=\"_parent\"><img src=\"https://colab.research.google.com/assets/colab-badge.svg\" alt=\"Open In Colab\"/></a>"
      ]
    },
    {
      "cell_type": "markdown",
      "metadata": {
        "id": "QZRzoMRYdhp5"
      },
      "source": [
        "2022.06.12\n",
        "\n",
        "---"
      ],
      "id": "QZRzoMRYdhp5"
    },
    {
      "cell_type": "markdown",
      "metadata": {
        "id": "42daca7b"
      },
      "source": [
        "# 머신러닝(GSI7645.01-00)\n",
        "## [week 03] 지도학습1\n",
        "---\n",
        "### Spaceship titanic\n",
        "* kaggle 결과 제출\n",
        "---"
      ],
      "id": "42daca7b"
    },
    {
      "cell_type": "markdown",
      "metadata": {
        "id": "138a92da"
      },
      "source": [
        "<h1> Spaceship titanic </h1>\n",
        "\n",
        "<img src=\"https://velog.velcdn.com/images/lifeisbeautiful/post/386322a9-5edf-437f-a3aa-39ba929b3414/image.jpg\" alt=\"post-thumbnail\" class=\"sc-eGRUor hxxOgP\">"
      ],
      "id": "138a92da"
    },
    {
      "cell_type": "markdown",
      "metadata": {
        "id": "7df52840"
      },
      "source": [
        "<p><a href=\"https://www.kaggle.com/competitions/spaceship-titanic\">https://www.kaggle.com/competitions/spaceship-titanic</a></p>"
      ],
      "id": "7df52840"
    },
    {
      "cell_type": "markdown",
      "metadata": {
        "id": "9bb230e0"
      },
      "source": [
        "<h2 id=\"span-stylecolorrgb1-124-200-데이터-구조-span\"><span style=\"color:rgb(1, 124, 200)\"> <strong>데이터 구조</strong> </span></h2>\n",
        "\n",
        "<ul>\n",
        "<li>\n",
        "<p><strong>train.csv</strong> - 승객의 약 3분의 2(~8700명)에 대한 개인 기록으로, 훈련 데이터로 사용됩니다.</p>\n",
        "<ul>\n",
        "<li><code>PassengerId</code> : 각 승객의 고유 ID입니다. 각 Id는 <code>ggg_pp</code> 형식을 취합니다. 여기서 <code>gggg</code>는 승객과 함께 여행하는 그룹을 나타내고 pp는 그룹 내에서 승객의 번호입니다. 그룹의 사람들은 종종 가족 구성원이지만 항상 그렇지는 않습니다.</li>\n",
        "<li><code>HomePlanet</code> : 승객이 출발한 행성, 일반적으로 영구 거주지의 행성입니다.</li>\n",
        "<li><code>CryoSleep</code> : 승객이 항해 중 수면상태로 전환되도록 선택했는지 여부를 나타냅니다. 극저온 수면 중인 승객들은 객실에 갇혀 있습니다.<br>\n",
        "- <code>Cabin</code> : 승객이 묵고 있는 객실 번호. <code>deck/num/side</code> 형태를 취합니다. 여기서 <code>side</code>는 좌현의 경우 <code>P</code>, 우현의 경우 <code>S</code>일 수 있습니다.<br>\n",
        "- <code>Destination</code> : 승객이 내리는 도착지.</li>\n",
        "<li><code>Age</code> : 승객의 나이</li>\n",
        "<li><code>VIP</code> : 승객이 항해 중 특별 VIP 서비스에 대한 비용을 지불했는지 여부</li>\n",
        "<li><code>RoomService</code>, <code>FoodCourt</code>, <code>ShoppingMall</code>, <code>Spa</code>, <code>VRDeck</code> : 승객들이 우주선 타이타닉의 많은 고급 편의시설 각각에 청구한 금액입니다.</li>\n",
        "<li><code>Name</code> : 승객의 성 및 이름</li>\n",
        "<li><code>Transported</code> : 승객이 다른 차원으로 운송되었는지 여부. 예측하려는 열인 목표값입니다.</li>\n",
        "</ul>\n",
        "</li>\n",
        "<li>\n",
        "<p><strong>test.csv</strong> : 남은 승객의 1/3(약 4300명)에 대한 개인 기록으로, 테스트 데이터로 사용됩니다. 이 세트의 승객에 대한 Transported 값을 예측하는 것이 작업입니다.</p>\n",
        "</li>\n",
        "<li>\n",
        "<p><strong>sample_submission.csv</strong> - 제출 파일 형식의 예시입니다.</p>\n",
        "<ul>\n",
        "<li><code>PassengerId</code> : 각 승객에 대한 ID입니다.</li>\n",
        "<li><code>Transported</code> : 목표값 입니다. 승객에 따라<code>True</code> 또는 <code>False</code> 를 예측합니다.</li>\n",
        "</ul>\n",
        "</li>\n",
        "</ul>"
      ],
      "id": "9bb230e0"
    },
    {
      "cell_type": "code",
      "execution_count": 107,
      "metadata": {
        "colab": {
          "base_uri": "https://localhost:8080/"
        },
        "id": "bc5af0ce",
        "outputId": "da594e58-e48a-46f8-b4c9-1e4a3ace5d8c"
      },
      "outputs": [
        {
          "output_type": "stream",
          "name": "stdout",
          "text": [
            "The autoreload extension is already loaded. To reload it, use:\n",
            "  %reload_ext autoreload\n"
          ]
        },
        {
          "output_type": "stream",
          "name": "stderr",
          "text": [
            "/usr/local/lib/python3.7/dist-packages/ipykernel_launcher.py:5: UserWarning: Config option `use_jedi` not recognized by `IPCompleter`.\n",
            "  \"\"\"\n"
          ]
        }
      ],
      "source": [
        "%load_ext autoreload\n",
        "%autoreload 2\n",
        "%config InlineBackend.figure_format = 'retina'\n",
        "%matplotlib inline\n",
        "%config IPCompleter.use_jedi = False"
      ],
      "id": "bc5af0ce"
    },
    {
      "cell_type": "markdown",
      "metadata": {
        "id": "70987e8c"
      },
      "source": [
        "## 0. kaggle"
      ],
      "id": "70987e8c"
    },
    {
      "cell_type": "code",
      "execution_count": 2,
      "metadata": {
        "id": "6a3b7b4a"
      },
      "outputs": [],
      "source": [
        "## B. 환경변수에 등록\n",
        "\n",
        "import os\n",
        "\n",
        "os.environ['KAGGLE_USERNAME'] = 'jamiekeem'\n",
        "os.environ['KAGGLE_KEY'] = '3fe7e3478d4f09a5ecb64d52cab37972'"
      ],
      "id": "6a3b7b4a"
    },
    {
      "cell_type": "markdown",
      "metadata": {
        "id": "ca961543"
      },
      "source": [
        "# 1. 문제 정의\n",
        "## 1.1 download dataset"
      ],
      "id": "ca961543"
    },
    {
      "cell_type": "code",
      "execution_count": 3,
      "metadata": {
        "colab": {
          "base_uri": "https://localhost:8080/"
        },
        "id": "7abbe03c",
        "outputId": "805be419-7dd7-41c8-e80d-2e51514a4d6f"
      },
      "outputs": [
        {
          "output_type": "stream",
          "name": "stdout",
          "text": [
            "Downloading spaceship-titanic.zip to .\n",
            "\r  0% 0.00/299k [00:00<?, ?B/s]\n",
            "\r100% 299k/299k [00:00<00:00, 87.1MB/s]\n",
            "Archive:  ./spaceship-titanic.zip\n",
            "  inflating: sample_submission.csv   \n",
            "  inflating: test.csv                \n",
            "  inflating: train.csv               \n"
          ]
        }
      ],
      "source": [
        "! kaggle competitions download -c spaceship-titanic -w\n",
        "! unzip ./spaceship-titanic.zip"
      ],
      "id": "7abbe03c"
    },
    {
      "cell_type": "code",
      "execution_count": 150,
      "metadata": {
        "colab": {
          "base_uri": "https://localhost:8080/"
        },
        "id": "a4a348c6",
        "outputId": "0707e7d1-dbfd-430f-b1a4-e86e8715cb31"
      },
      "outputs": [
        {
          "output_type": "stream",
          "name": "stdout",
          "text": [
            "./sample_submission.csv  ./test.csv  ./train.csv\n"
          ]
        }
      ],
      "source": [
        "! ls ./*.csv"
      ],
      "id": "a4a348c6"
    },
    {
      "cell_type": "markdown",
      "metadata": {
        "id": "af266c40"
      },
      "source": [
        "## 1.2 inspect dataset"
      ],
      "id": "af266c40"
    },
    {
      "cell_type": "code",
      "execution_count": 151,
      "metadata": {
        "colab": {
          "base_uri": "https://localhost:8080/"
        },
        "id": "dcb200ad",
        "outputId": "b3e76093-249d-4375-b79a-72885ff854e5"
      },
      "outputs": [
        {
          "output_type": "stream",
          "name": "stdout",
          "text": [
            "(train): (8693, 14)\n",
            "(test): (4277, 13)\n",
            "# of id_columns: 1 (['PassengerId'])\n",
            "# of label_columns: 1 (['Transported'])\n",
            "# of feature_columns: 12 (['HomePlanet', 'CryoSleep', 'Cabin', 'Destination', 'Age', 'VIP', 'RoomService', 'FoodCourt', 'ShoppingMall', 'Spa', 'VRDeck', 'Name'])\n"
          ]
        }
      ],
      "source": [
        "import pandas as pd\n",
        "\n",
        "df_train = pd.read_csv('./train.csv')\n",
        "df_test = pd.read_csv('./test.csv')\n",
        "\n",
        "\n",
        "## On Your Own\n",
        "# count records (shape)\n",
        "print(\"(train): {}\".format(df_train.shape))  # print shape\n",
        "print(\"(test): {}\".format(df_test.shape))    # print shape\n",
        "\n",
        "# count features & labels\n",
        "id_columns = ['PassengerId']\n",
        "label_columns = ['Transported']\n",
        "feature_columns = [c for c in df_train.columns if c not in id_columns + label_columns]\n",
        "# list comph: df_train의 columns 중에서 id_columns와 label_columns가 아닌 컬럼들을 전부 불러와라\n",
        "print(\"# of id_columns: {} ({})\".format(len(id_columns), id_columns))\n",
        "print(\"# of label_columns: {} ({})\".format(len(label_columns), label_columns))\n",
        "print(\"# of feature_columns: {} ({})\".format(len(feature_columns), feature_columns))"
      ],
      "id": "dcb200ad"
    },
    {
      "cell_type": "markdown",
      "metadata": {
        "id": "38cabd99"
      },
      "source": [
        "# 2. EDA"
      ],
      "id": "38cabd99"
    },
    {
      "cell_type": "code",
      "execution_count": 152,
      "metadata": {
        "colab": {
          "base_uri": "https://localhost:8080/",
          "height": 206
        },
        "id": "M9x8Q0FAdhqU",
        "outputId": "0a560b7e-5ce5-4023-868b-54e71e70557e"
      },
      "outputs": [
        {
          "output_type": "execute_result",
          "data": {
            "text/plain": [
              "  PassengerId HomePlanet CryoSleep  Cabin  Destination   Age    VIP  \\\n",
              "0     0001_01     Europa     False  B/0/P  TRAPPIST-1e  39.0  False   \n",
              "1     0002_01      Earth     False  F/0/S  TRAPPIST-1e  24.0  False   \n",
              "2     0003_01     Europa     False  A/0/S  TRAPPIST-1e  58.0   True   \n",
              "3     0003_02     Europa     False  A/0/S  TRAPPIST-1e  33.0  False   \n",
              "4     0004_01      Earth     False  F/1/S  TRAPPIST-1e  16.0  False   \n",
              "\n",
              "   RoomService  FoodCourt  ShoppingMall     Spa  VRDeck               Name  \\\n",
              "0          0.0        0.0           0.0     0.0     0.0    Maham Ofracculy   \n",
              "1        109.0        9.0          25.0   549.0    44.0       Juanna Vines   \n",
              "2         43.0     3576.0           0.0  6715.0    49.0      Altark Susent   \n",
              "3          0.0     1283.0         371.0  3329.0   193.0       Solam Susent   \n",
              "4        303.0       70.0         151.0   565.0     2.0  Willy Santantines   \n",
              "\n",
              "   Transported  \n",
              "0        False  \n",
              "1         True  \n",
              "2        False  \n",
              "3        False  \n",
              "4         True  "
            ],
            "text/html": [
              "\n",
              "  <div id=\"df-70536206-ec45-463e-8e87-5ca09964829e\">\n",
              "    <div class=\"colab-df-container\">\n",
              "      <div>\n",
              "<style scoped>\n",
              "    .dataframe tbody tr th:only-of-type {\n",
              "        vertical-align: middle;\n",
              "    }\n",
              "\n",
              "    .dataframe tbody tr th {\n",
              "        vertical-align: top;\n",
              "    }\n",
              "\n",
              "    .dataframe thead th {\n",
              "        text-align: right;\n",
              "    }\n",
              "</style>\n",
              "<table border=\"1\" class=\"dataframe\">\n",
              "  <thead>\n",
              "    <tr style=\"text-align: right;\">\n",
              "      <th></th>\n",
              "      <th>PassengerId</th>\n",
              "      <th>HomePlanet</th>\n",
              "      <th>CryoSleep</th>\n",
              "      <th>Cabin</th>\n",
              "      <th>Destination</th>\n",
              "      <th>Age</th>\n",
              "      <th>VIP</th>\n",
              "      <th>RoomService</th>\n",
              "      <th>FoodCourt</th>\n",
              "      <th>ShoppingMall</th>\n",
              "      <th>Spa</th>\n",
              "      <th>VRDeck</th>\n",
              "      <th>Name</th>\n",
              "      <th>Transported</th>\n",
              "    </tr>\n",
              "  </thead>\n",
              "  <tbody>\n",
              "    <tr>\n",
              "      <th>0</th>\n",
              "      <td>0001_01</td>\n",
              "      <td>Europa</td>\n",
              "      <td>False</td>\n",
              "      <td>B/0/P</td>\n",
              "      <td>TRAPPIST-1e</td>\n",
              "      <td>39.0</td>\n",
              "      <td>False</td>\n",
              "      <td>0.0</td>\n",
              "      <td>0.0</td>\n",
              "      <td>0.0</td>\n",
              "      <td>0.0</td>\n",
              "      <td>0.0</td>\n",
              "      <td>Maham Ofracculy</td>\n",
              "      <td>False</td>\n",
              "    </tr>\n",
              "    <tr>\n",
              "      <th>1</th>\n",
              "      <td>0002_01</td>\n",
              "      <td>Earth</td>\n",
              "      <td>False</td>\n",
              "      <td>F/0/S</td>\n",
              "      <td>TRAPPIST-1e</td>\n",
              "      <td>24.0</td>\n",
              "      <td>False</td>\n",
              "      <td>109.0</td>\n",
              "      <td>9.0</td>\n",
              "      <td>25.0</td>\n",
              "      <td>549.0</td>\n",
              "      <td>44.0</td>\n",
              "      <td>Juanna Vines</td>\n",
              "      <td>True</td>\n",
              "    </tr>\n",
              "    <tr>\n",
              "      <th>2</th>\n",
              "      <td>0003_01</td>\n",
              "      <td>Europa</td>\n",
              "      <td>False</td>\n",
              "      <td>A/0/S</td>\n",
              "      <td>TRAPPIST-1e</td>\n",
              "      <td>58.0</td>\n",
              "      <td>True</td>\n",
              "      <td>43.0</td>\n",
              "      <td>3576.0</td>\n",
              "      <td>0.0</td>\n",
              "      <td>6715.0</td>\n",
              "      <td>49.0</td>\n",
              "      <td>Altark Susent</td>\n",
              "      <td>False</td>\n",
              "    </tr>\n",
              "    <tr>\n",
              "      <th>3</th>\n",
              "      <td>0003_02</td>\n",
              "      <td>Europa</td>\n",
              "      <td>False</td>\n",
              "      <td>A/0/S</td>\n",
              "      <td>TRAPPIST-1e</td>\n",
              "      <td>33.0</td>\n",
              "      <td>False</td>\n",
              "      <td>0.0</td>\n",
              "      <td>1283.0</td>\n",
              "      <td>371.0</td>\n",
              "      <td>3329.0</td>\n",
              "      <td>193.0</td>\n",
              "      <td>Solam Susent</td>\n",
              "      <td>False</td>\n",
              "    </tr>\n",
              "    <tr>\n",
              "      <th>4</th>\n",
              "      <td>0004_01</td>\n",
              "      <td>Earth</td>\n",
              "      <td>False</td>\n",
              "      <td>F/1/S</td>\n",
              "      <td>TRAPPIST-1e</td>\n",
              "      <td>16.0</td>\n",
              "      <td>False</td>\n",
              "      <td>303.0</td>\n",
              "      <td>70.0</td>\n",
              "      <td>151.0</td>\n",
              "      <td>565.0</td>\n",
              "      <td>2.0</td>\n",
              "      <td>Willy Santantines</td>\n",
              "      <td>True</td>\n",
              "    </tr>\n",
              "  </tbody>\n",
              "</table>\n",
              "</div>\n",
              "      <button class=\"colab-df-convert\" onclick=\"convertToInteractive('df-70536206-ec45-463e-8e87-5ca09964829e')\"\n",
              "              title=\"Convert this dataframe to an interactive table.\"\n",
              "              style=\"display:none;\">\n",
              "        \n",
              "  <svg xmlns=\"http://www.w3.org/2000/svg\" height=\"24px\"viewBox=\"0 0 24 24\"\n",
              "       width=\"24px\">\n",
              "    <path d=\"M0 0h24v24H0V0z\" fill=\"none\"/>\n",
              "    <path d=\"M18.56 5.44l.94 2.06.94-2.06 2.06-.94-2.06-.94-.94-2.06-.94 2.06-2.06.94zm-11 1L8.5 8.5l.94-2.06 2.06-.94-2.06-.94L8.5 2.5l-.94 2.06-2.06.94zm10 10l.94 2.06.94-2.06 2.06-.94-2.06-.94-.94-2.06-.94 2.06-2.06.94z\"/><path d=\"M17.41 7.96l-1.37-1.37c-.4-.4-.92-.59-1.43-.59-.52 0-1.04.2-1.43.59L10.3 9.45l-7.72 7.72c-.78.78-.78 2.05 0 2.83L4 21.41c.39.39.9.59 1.41.59.51 0 1.02-.2 1.41-.59l7.78-7.78 2.81-2.81c.8-.78.8-2.07 0-2.86zM5.41 20L4 18.59l7.72-7.72 1.47 1.35L5.41 20z\"/>\n",
              "  </svg>\n",
              "      </button>\n",
              "      \n",
              "  <style>\n",
              "    .colab-df-container {\n",
              "      display:flex;\n",
              "      flex-wrap:wrap;\n",
              "      gap: 12px;\n",
              "    }\n",
              "\n",
              "    .colab-df-convert {\n",
              "      background-color: #E8F0FE;\n",
              "      border: none;\n",
              "      border-radius: 50%;\n",
              "      cursor: pointer;\n",
              "      display: none;\n",
              "      fill: #1967D2;\n",
              "      height: 32px;\n",
              "      padding: 0 0 0 0;\n",
              "      width: 32px;\n",
              "    }\n",
              "\n",
              "    .colab-df-convert:hover {\n",
              "      background-color: #E2EBFA;\n",
              "      box-shadow: 0px 1px 2px rgba(60, 64, 67, 0.3), 0px 1px 3px 1px rgba(60, 64, 67, 0.15);\n",
              "      fill: #174EA6;\n",
              "    }\n",
              "\n",
              "    [theme=dark] .colab-df-convert {\n",
              "      background-color: #3B4455;\n",
              "      fill: #D2E3FC;\n",
              "    }\n",
              "\n",
              "    [theme=dark] .colab-df-convert:hover {\n",
              "      background-color: #434B5C;\n",
              "      box-shadow: 0px 1px 3px 1px rgba(0, 0, 0, 0.15);\n",
              "      filter: drop-shadow(0px 1px 2px rgba(0, 0, 0, 0.3));\n",
              "      fill: #FFFFFF;\n",
              "    }\n",
              "  </style>\n",
              "\n",
              "      <script>\n",
              "        const buttonEl =\n",
              "          document.querySelector('#df-70536206-ec45-463e-8e87-5ca09964829e button.colab-df-convert');\n",
              "        buttonEl.style.display =\n",
              "          google.colab.kernel.accessAllowed ? 'block' : 'none';\n",
              "\n",
              "        async function convertToInteractive(key) {\n",
              "          const element = document.querySelector('#df-70536206-ec45-463e-8e87-5ca09964829e');\n",
              "          const dataTable =\n",
              "            await google.colab.kernel.invokeFunction('convertToInteractive',\n",
              "                                                     [key], {});\n",
              "          if (!dataTable) return;\n",
              "\n",
              "          const docLinkHtml = 'Like what you see? Visit the ' +\n",
              "            '<a target=\"_blank\" href=https://colab.research.google.com/notebooks/data_table.ipynb>data table notebook</a>'\n",
              "            + ' to learn more about interactive tables.';\n",
              "          element.innerHTML = '';\n",
              "          dataTable['output_type'] = 'display_data';\n",
              "          await google.colab.output.renderOutput(dataTable, element);\n",
              "          const docLink = document.createElement('div');\n",
              "          docLink.innerHTML = docLinkHtml;\n",
              "          element.appendChild(docLink);\n",
              "        }\n",
              "      </script>\n",
              "    </div>\n",
              "  </div>\n",
              "  "
            ]
          },
          "metadata": {},
          "execution_count": 152
        }
      ],
      "source": [
        "# df_train 의 상위 5개 행을 확인해주세요\n",
        "\n",
        "df_train.head(5)"
      ],
      "id": "M9x8Q0FAdhqU"
    },
    {
      "cell_type": "code",
      "execution_count": 153,
      "metadata": {
        "id": "vSRKEx3YdhqV",
        "colab": {
          "base_uri": "https://localhost:8080/"
        },
        "outputId": "1091960b-32d5-4c78-adbe-a615e300972c"
      },
      "outputs": [
        {
          "output_type": "execute_result",
          "data": {
            "text/plain": [
              "(8693, 14)"
            ]
          },
          "metadata": {},
          "execution_count": 153
        }
      ],
      "source": [
        "# df_train 데이터의 행과 열의 개수를 확인해주세요\n",
        "df_train.shape"
      ],
      "id": "vSRKEx3YdhqV"
    },
    {
      "cell_type": "code",
      "execution_count": 154,
      "metadata": {
        "id": "brFw0Qy3dhqV",
        "colab": {
          "base_uri": "https://localhost:8080/"
        },
        "outputId": "145cf08c-76d3-40b7-a54c-242c99ec1d0d"
      },
      "outputs": [
        {
          "output_type": "stream",
          "name": "stdout",
          "text": [
            "<class 'pandas.core.frame.DataFrame'>\n",
            "RangeIndex: 8693 entries, 0 to 8692\n",
            "Data columns (total 14 columns):\n",
            " #   Column        Non-Null Count  Dtype  \n",
            "---  ------        --------------  -----  \n",
            " 0   PassengerId   8693 non-null   object \n",
            " 1   HomePlanet    8492 non-null   object \n",
            " 2   CryoSleep     8476 non-null   object \n",
            " 3   Cabin         8494 non-null   object \n",
            " 4   Destination   8511 non-null   object \n",
            " 5   Age           8514 non-null   float64\n",
            " 6   VIP           8490 non-null   object \n",
            " 7   RoomService   8512 non-null   float64\n",
            " 8   FoodCourt     8510 non-null   float64\n",
            " 9   ShoppingMall  8485 non-null   float64\n",
            " 10  Spa           8510 non-null   float64\n",
            " 11  VRDeck        8505 non-null   float64\n",
            " 12  Name          8493 non-null   object \n",
            " 13  Transported   8693 non-null   bool   \n",
            "dtypes: bool(1), float64(6), object(7)\n",
            "memory usage: 891.5+ KB\n"
          ]
        }
      ],
      "source": [
        "# df_train 데이터의 정보와 타입을 확인해주세요\n",
        "df_train.info()"
      ],
      "id": "brFw0Qy3dhqV"
    },
    {
      "cell_type": "markdown",
      "metadata": {
        "id": "LEG_Dnslo7QE"
      },
      "source": [
        "[평가 종합]\n",
        "\n",
        "* Tranported 변수는 bool 변수라서, 수치형으로 변경하지 않아도 된다.\n",
        "* object 변수가 많다 -> label, one-hot encoder로 변환 필요함!"
      ],
      "id": "LEG_Dnslo7QE"
    },
    {
      "cell_type": "markdown",
      "source": [
        "Name은 필요없는 변수라 생각 DROP"
      ],
      "metadata": {
        "id": "6m0foy_6T0zW"
      },
      "id": "6m0foy_6T0zW"
    },
    {
      "cell_type": "code",
      "source": [
        "df_train=df_train.drop(columns='Name')"
      ],
      "metadata": {
        "id": "3RxPEKNPUJP8"
      },
      "id": "3RxPEKNPUJP8",
      "execution_count": 155,
      "outputs": []
    },
    {
      "cell_type": "code",
      "source": [
        "df_test=df_test.drop(columns='Name')"
      ],
      "metadata": {
        "id": "MFnxN5FmUpaV"
      },
      "id": "MFnxN5FmUpaV",
      "execution_count": 156,
      "outputs": []
    },
    {
      "cell_type": "code",
      "source": [
        "df_train.info()"
      ],
      "metadata": {
        "colab": {
          "base_uri": "https://localhost:8080/"
        },
        "id": "e6XOhcjdUWOE",
        "outputId": "b5bbffe1-5a25-4922-8811-0e0d3ca69db3"
      },
      "id": "e6XOhcjdUWOE",
      "execution_count": 157,
      "outputs": [
        {
          "output_type": "stream",
          "name": "stdout",
          "text": [
            "<class 'pandas.core.frame.DataFrame'>\n",
            "RangeIndex: 8693 entries, 0 to 8692\n",
            "Data columns (total 13 columns):\n",
            " #   Column        Non-Null Count  Dtype  \n",
            "---  ------        --------------  -----  \n",
            " 0   PassengerId   8693 non-null   object \n",
            " 1   HomePlanet    8492 non-null   object \n",
            " 2   CryoSleep     8476 non-null   object \n",
            " 3   Cabin         8494 non-null   object \n",
            " 4   Destination   8511 non-null   object \n",
            " 5   Age           8514 non-null   float64\n",
            " 6   VIP           8490 non-null   object \n",
            " 7   RoomService   8512 non-null   float64\n",
            " 8   FoodCourt     8510 non-null   float64\n",
            " 9   ShoppingMall  8485 non-null   float64\n",
            " 10  Spa           8510 non-null   float64\n",
            " 11  VRDeck        8505 non-null   float64\n",
            " 12  Transported   8693 non-null   bool   \n",
            "dtypes: bool(1), float64(6), object(6)\n",
            "memory usage: 823.6+ KB\n"
          ]
        }
      ]
    },
    {
      "cell_type": "code",
      "source": [
        "df_test.info()"
      ],
      "metadata": {
        "colab": {
          "base_uri": "https://localhost:8080/"
        },
        "id": "rmmfZfmcUq4b",
        "outputId": "9e9ee30a-430a-4891-8cb8-b4d875658ce8"
      },
      "id": "rmmfZfmcUq4b",
      "execution_count": 158,
      "outputs": [
        {
          "output_type": "stream",
          "name": "stdout",
          "text": [
            "<class 'pandas.core.frame.DataFrame'>\n",
            "RangeIndex: 4277 entries, 0 to 4276\n",
            "Data columns (total 12 columns):\n",
            " #   Column        Non-Null Count  Dtype  \n",
            "---  ------        --------------  -----  \n",
            " 0   PassengerId   4277 non-null   object \n",
            " 1   HomePlanet    4190 non-null   object \n",
            " 2   CryoSleep     4184 non-null   object \n",
            " 3   Cabin         4177 non-null   object \n",
            " 4   Destination   4185 non-null   object \n",
            " 5   Age           4186 non-null   float64\n",
            " 6   VIP           4184 non-null   object \n",
            " 7   RoomService   4195 non-null   float64\n",
            " 8   FoodCourt     4171 non-null   float64\n",
            " 9   ShoppingMall  4179 non-null   float64\n",
            " 10  Spa           4176 non-null   float64\n",
            " 11  VRDeck        4197 non-null   float64\n",
            "dtypes: float64(6), object(6)\n",
            "memory usage: 401.1+ KB\n"
          ]
        }
      ]
    },
    {
      "cell_type": "code",
      "execution_count": 159,
      "metadata": {
        "colab": {
          "base_uri": "https://localhost:8080/"
        },
        "id": "mmtrqYHcpl3d",
        "outputId": "c6b00cf4-a0df-498e-d4b4-7296b5942971"
      },
      "outputs": [
        {
          "output_type": "stream",
          "name": "stdout",
          "text": [
            "PassengerId :\t ['0001_01' '0002_01' '0003_01' ... '9279_01' '9280_01' '9280_02']\n",
            "HomePlanet :\t ['Europa' 'Earth' 'Mars' nan]\n",
            "CryoSleep :\t [False True nan]\n",
            "Cabin :\t ['B/0/P' 'F/0/S' 'A/0/S' ... 'G/1499/S' 'G/1500/S' 'E/608/S']\n",
            "Destination :\t ['TRAPPIST-1e' 'PSO J318.5-22' '55 Cancri e' nan]\n",
            "VIP :\t [False True nan]\n"
          ]
        }
      ],
      "source": [
        "object_type = ['PassengerId','HomePlanet', 'CryoSleep', 'Cabin', 'Destination', 'VIP']\n",
        "\n",
        "for column in object_type:\n",
        "    a = df_train[column].unique()\n",
        "    print(column, ':\\t', a)\n",
        "\n",
        "# \"컬럼 이름: [unique로 확인한 변수 구성]\""
      ],
      "id": "mmtrqYHcpl3d"
    },
    {
      "cell_type": "markdown",
      "metadata": {
        "id": "Ev5zlUcUquB9"
      },
      "source": [
        "[평가]\n",
        "* 'CryoSleep', 'VIP'는 bool 형태 또는 수치형으로 바꿀 필요가 있다.\n",
        "* HomePlanet, Destination은 label -> one-hot 인코딩을 해야할 것 같다\n",
        "* Cabin은 ... 뭐지?"
      ],
      "id": "Ev5zlUcUquB9"
    },
    {
      "cell_type": "code",
      "execution_count": 160,
      "metadata": {
        "colab": {
          "base_uri": "https://localhost:8080/"
        },
        "id": "gCVeP1OzdhqW",
        "outputId": "22806609-2fce-4dd9-e737-c74374d36afc"
      },
      "outputs": [
        {
          "output_type": "stream",
          "name": "stdout",
          "text": [
            "['B/0/P' 'F/0/S' 'A/0/S' ... 'G/1499/S' 'G/1500/S' 'E/608/S']\n",
            "['TRAPPIST-1e' 'PSO J318.5-22' '55 Cancri e' nan]\n"
          ]
        }
      ],
      "source": [
        "# df_train 에서 object type 변수의 구성을 확인해봅시다\n",
        "\n",
        "a= df_train['Cabin'].unique()\n",
        "b= df_train['Destination'].unique()\n",
        "print(a)\n",
        "print(b)"
      ],
      "id": "gCVeP1OzdhqW"
    },
    {
      "cell_type": "code",
      "execution_count": 161,
      "metadata": {
        "id": "CyrWR85PdhqW",
        "colab": {
          "base_uri": "https://localhost:8080/"
        },
        "outputId": "9f0ce9c8-3568-4f3c-9df7-907755a01be8"
      },
      "outputs": [
        {
          "output_type": "execute_result",
          "data": {
            "text/plain": [
              "6561"
            ]
          },
          "metadata": {},
          "execution_count": 161
        }
      ],
      "source": [
        "# Cabin 변수의 유일값들은 모두 몇개일까요?\n",
        "# Cabin : 승객이 묵고 있는 객실 번호. deck/num/side 형태를 취합니다.\n",
        "# 여기서 side는 좌현의 경우 P, 우현의 경우 S일 수 있습니다.\n",
        "\n",
        "len(df_train['Cabin'].unique())"
      ],
      "id": "CyrWR85PdhqW"
    },
    {
      "cell_type": "code",
      "execution_count": 162,
      "metadata": {
        "colab": {
          "base_uri": "https://localhost:8080/",
          "height": 206
        },
        "id": "e_SRHUc5dhqX",
        "outputId": "514f8ddf-87e4-403c-e5bd-93d1294f2da6"
      },
      "outputs": [
        {
          "output_type": "execute_result",
          "data": {
            "text/plain": [
              "  PassengerId HomePlanet CryoSleep  Cabin  Destination   Age    VIP  \\\n",
              "0     0001_01     Europa     False  B/0/P  TRAPPIST-1e  39.0  False   \n",
              "1     0002_01      Earth     False  F/0/S  TRAPPIST-1e  24.0  False   \n",
              "2     0003_01     Europa     False  A/0/S  TRAPPIST-1e  58.0   True   \n",
              "3     0003_02     Europa     False  A/0/S  TRAPPIST-1e  33.0  False   \n",
              "4     0004_01      Earth     False  F/1/S  TRAPPIST-1e  16.0  False   \n",
              "\n",
              "   RoomService  FoodCourt  ShoppingMall     Spa  VRDeck  Transported Deck  \n",
              "0          0.0        0.0           0.0     0.0     0.0        False    B  \n",
              "1        109.0        9.0          25.0   549.0    44.0         True    F  \n",
              "2         43.0     3576.0           0.0  6715.0    49.0        False    A  \n",
              "3          0.0     1283.0         371.0  3329.0   193.0        False    A  \n",
              "4        303.0       70.0         151.0   565.0     2.0         True    F  "
            ],
            "text/html": [
              "\n",
              "  <div id=\"df-d89a63d9-e85c-4871-8922-33c1673c16e9\">\n",
              "    <div class=\"colab-df-container\">\n",
              "      <div>\n",
              "<style scoped>\n",
              "    .dataframe tbody tr th:only-of-type {\n",
              "        vertical-align: middle;\n",
              "    }\n",
              "\n",
              "    .dataframe tbody tr th {\n",
              "        vertical-align: top;\n",
              "    }\n",
              "\n",
              "    .dataframe thead th {\n",
              "        text-align: right;\n",
              "    }\n",
              "</style>\n",
              "<table border=\"1\" class=\"dataframe\">\n",
              "  <thead>\n",
              "    <tr style=\"text-align: right;\">\n",
              "      <th></th>\n",
              "      <th>PassengerId</th>\n",
              "      <th>HomePlanet</th>\n",
              "      <th>CryoSleep</th>\n",
              "      <th>Cabin</th>\n",
              "      <th>Destination</th>\n",
              "      <th>Age</th>\n",
              "      <th>VIP</th>\n",
              "      <th>RoomService</th>\n",
              "      <th>FoodCourt</th>\n",
              "      <th>ShoppingMall</th>\n",
              "      <th>Spa</th>\n",
              "      <th>VRDeck</th>\n",
              "      <th>Transported</th>\n",
              "      <th>Deck</th>\n",
              "    </tr>\n",
              "  </thead>\n",
              "  <tbody>\n",
              "    <tr>\n",
              "      <th>0</th>\n",
              "      <td>0001_01</td>\n",
              "      <td>Europa</td>\n",
              "      <td>False</td>\n",
              "      <td>B/0/P</td>\n",
              "      <td>TRAPPIST-1e</td>\n",
              "      <td>39.0</td>\n",
              "      <td>False</td>\n",
              "      <td>0.0</td>\n",
              "      <td>0.0</td>\n",
              "      <td>0.0</td>\n",
              "      <td>0.0</td>\n",
              "      <td>0.0</td>\n",
              "      <td>False</td>\n",
              "      <td>B</td>\n",
              "    </tr>\n",
              "    <tr>\n",
              "      <th>1</th>\n",
              "      <td>0002_01</td>\n",
              "      <td>Earth</td>\n",
              "      <td>False</td>\n",
              "      <td>F/0/S</td>\n",
              "      <td>TRAPPIST-1e</td>\n",
              "      <td>24.0</td>\n",
              "      <td>False</td>\n",
              "      <td>109.0</td>\n",
              "      <td>9.0</td>\n",
              "      <td>25.0</td>\n",
              "      <td>549.0</td>\n",
              "      <td>44.0</td>\n",
              "      <td>True</td>\n",
              "      <td>F</td>\n",
              "    </tr>\n",
              "    <tr>\n",
              "      <th>2</th>\n",
              "      <td>0003_01</td>\n",
              "      <td>Europa</td>\n",
              "      <td>False</td>\n",
              "      <td>A/0/S</td>\n",
              "      <td>TRAPPIST-1e</td>\n",
              "      <td>58.0</td>\n",
              "      <td>True</td>\n",
              "      <td>43.0</td>\n",
              "      <td>3576.0</td>\n",
              "      <td>0.0</td>\n",
              "      <td>6715.0</td>\n",
              "      <td>49.0</td>\n",
              "      <td>False</td>\n",
              "      <td>A</td>\n",
              "    </tr>\n",
              "    <tr>\n",
              "      <th>3</th>\n",
              "      <td>0003_02</td>\n",
              "      <td>Europa</td>\n",
              "      <td>False</td>\n",
              "      <td>A/0/S</td>\n",
              "      <td>TRAPPIST-1e</td>\n",
              "      <td>33.0</td>\n",
              "      <td>False</td>\n",
              "      <td>0.0</td>\n",
              "      <td>1283.0</td>\n",
              "      <td>371.0</td>\n",
              "      <td>3329.0</td>\n",
              "      <td>193.0</td>\n",
              "      <td>False</td>\n",
              "      <td>A</td>\n",
              "    </tr>\n",
              "    <tr>\n",
              "      <th>4</th>\n",
              "      <td>0004_01</td>\n",
              "      <td>Earth</td>\n",
              "      <td>False</td>\n",
              "      <td>F/1/S</td>\n",
              "      <td>TRAPPIST-1e</td>\n",
              "      <td>16.0</td>\n",
              "      <td>False</td>\n",
              "      <td>303.0</td>\n",
              "      <td>70.0</td>\n",
              "      <td>151.0</td>\n",
              "      <td>565.0</td>\n",
              "      <td>2.0</td>\n",
              "      <td>True</td>\n",
              "      <td>F</td>\n",
              "    </tr>\n",
              "  </tbody>\n",
              "</table>\n",
              "</div>\n",
              "      <button class=\"colab-df-convert\" onclick=\"convertToInteractive('df-d89a63d9-e85c-4871-8922-33c1673c16e9')\"\n",
              "              title=\"Convert this dataframe to an interactive table.\"\n",
              "              style=\"display:none;\">\n",
              "        \n",
              "  <svg xmlns=\"http://www.w3.org/2000/svg\" height=\"24px\"viewBox=\"0 0 24 24\"\n",
              "       width=\"24px\">\n",
              "    <path d=\"M0 0h24v24H0V0z\" fill=\"none\"/>\n",
              "    <path d=\"M18.56 5.44l.94 2.06.94-2.06 2.06-.94-2.06-.94-.94-2.06-.94 2.06-2.06.94zm-11 1L8.5 8.5l.94-2.06 2.06-.94-2.06-.94L8.5 2.5l-.94 2.06-2.06.94zm10 10l.94 2.06.94-2.06 2.06-.94-2.06-.94-.94-2.06-.94 2.06-2.06.94z\"/><path d=\"M17.41 7.96l-1.37-1.37c-.4-.4-.92-.59-1.43-.59-.52 0-1.04.2-1.43.59L10.3 9.45l-7.72 7.72c-.78.78-.78 2.05 0 2.83L4 21.41c.39.39.9.59 1.41.59.51 0 1.02-.2 1.41-.59l7.78-7.78 2.81-2.81c.8-.78.8-2.07 0-2.86zM5.41 20L4 18.59l7.72-7.72 1.47 1.35L5.41 20z\"/>\n",
              "  </svg>\n",
              "      </button>\n",
              "      \n",
              "  <style>\n",
              "    .colab-df-container {\n",
              "      display:flex;\n",
              "      flex-wrap:wrap;\n",
              "      gap: 12px;\n",
              "    }\n",
              "\n",
              "    .colab-df-convert {\n",
              "      background-color: #E8F0FE;\n",
              "      border: none;\n",
              "      border-radius: 50%;\n",
              "      cursor: pointer;\n",
              "      display: none;\n",
              "      fill: #1967D2;\n",
              "      height: 32px;\n",
              "      padding: 0 0 0 0;\n",
              "      width: 32px;\n",
              "    }\n",
              "\n",
              "    .colab-df-convert:hover {\n",
              "      background-color: #E2EBFA;\n",
              "      box-shadow: 0px 1px 2px rgba(60, 64, 67, 0.3), 0px 1px 3px 1px rgba(60, 64, 67, 0.15);\n",
              "      fill: #174EA6;\n",
              "    }\n",
              "\n",
              "    [theme=dark] .colab-df-convert {\n",
              "      background-color: #3B4455;\n",
              "      fill: #D2E3FC;\n",
              "    }\n",
              "\n",
              "    [theme=dark] .colab-df-convert:hover {\n",
              "      background-color: #434B5C;\n",
              "      box-shadow: 0px 1px 3px 1px rgba(0, 0, 0, 0.15);\n",
              "      filter: drop-shadow(0px 1px 2px rgba(0, 0, 0, 0.3));\n",
              "      fill: #FFFFFF;\n",
              "    }\n",
              "  </style>\n",
              "\n",
              "      <script>\n",
              "        const buttonEl =\n",
              "          document.querySelector('#df-d89a63d9-e85c-4871-8922-33c1673c16e9 button.colab-df-convert');\n",
              "        buttonEl.style.display =\n",
              "          google.colab.kernel.accessAllowed ? 'block' : 'none';\n",
              "\n",
              "        async function convertToInteractive(key) {\n",
              "          const element = document.querySelector('#df-d89a63d9-e85c-4871-8922-33c1673c16e9');\n",
              "          const dataTable =\n",
              "            await google.colab.kernel.invokeFunction('convertToInteractive',\n",
              "                                                     [key], {});\n",
              "          if (!dataTable) return;\n",
              "\n",
              "          const docLinkHtml = 'Like what you see? Visit the ' +\n",
              "            '<a target=\"_blank\" href=https://colab.research.google.com/notebooks/data_table.ipynb>data table notebook</a>'\n",
              "            + ' to learn more about interactive tables.';\n",
              "          element.innerHTML = '';\n",
              "          dataTable['output_type'] = 'display_data';\n",
              "          await google.colab.output.renderOutput(dataTable, element);\n",
              "          const docLink = document.createElement('div');\n",
              "          docLink.innerHTML = docLinkHtml;\n",
              "          element.appendChild(docLink);\n",
              "        }\n",
              "      </script>\n",
              "    </div>\n",
              "  </div>\n",
              "  "
            ]
          },
          "metadata": {},
          "execution_count": 162
        }
      ],
      "source": [
        "# Deck 변수를 만들어주세요\n",
        "\n",
        "df_train['Deck'] = df_train['Cabin'].str[0]\n",
        "df_train.head()"
      ],
      "id": "e_SRHUc5dhqX"
    },
    {
      "cell_type": "code",
      "source": [
        "df_test['Deck'] = df_test['Cabin'].str[0]\n",
        "df_test.head()"
      ],
      "metadata": {
        "colab": {
          "base_uri": "https://localhost:8080/",
          "height": 206
        },
        "id": "iMeWnuhOtaJ3",
        "outputId": "5e7a4a72-6161-4ecb-ebdb-681e4f30c610"
      },
      "id": "iMeWnuhOtaJ3",
      "execution_count": 163,
      "outputs": [
        {
          "output_type": "execute_result",
          "data": {
            "text/plain": [
              "  PassengerId HomePlanet CryoSleep  Cabin  Destination   Age    VIP  \\\n",
              "0     0013_01      Earth      True  G/3/S  TRAPPIST-1e  27.0  False   \n",
              "1     0018_01      Earth     False  F/4/S  TRAPPIST-1e  19.0  False   \n",
              "2     0019_01     Europa      True  C/0/S  55 Cancri e  31.0  False   \n",
              "3     0021_01     Europa     False  C/1/S  TRAPPIST-1e  38.0  False   \n",
              "4     0023_01      Earth     False  F/5/S  TRAPPIST-1e  20.0  False   \n",
              "\n",
              "   RoomService  FoodCourt  ShoppingMall     Spa  VRDeck Deck  \n",
              "0          0.0        0.0           0.0     0.0     0.0    G  \n",
              "1          0.0        9.0           0.0  2823.0     0.0    F  \n",
              "2          0.0        0.0           0.0     0.0     0.0    C  \n",
              "3          0.0     6652.0           0.0   181.0   585.0    C  \n",
              "4         10.0        0.0         635.0     0.0     0.0    F  "
            ],
            "text/html": [
              "\n",
              "  <div id=\"df-78dedc79-a0c7-4fc5-9d5e-271434fc5280\">\n",
              "    <div class=\"colab-df-container\">\n",
              "      <div>\n",
              "<style scoped>\n",
              "    .dataframe tbody tr th:only-of-type {\n",
              "        vertical-align: middle;\n",
              "    }\n",
              "\n",
              "    .dataframe tbody tr th {\n",
              "        vertical-align: top;\n",
              "    }\n",
              "\n",
              "    .dataframe thead th {\n",
              "        text-align: right;\n",
              "    }\n",
              "</style>\n",
              "<table border=\"1\" class=\"dataframe\">\n",
              "  <thead>\n",
              "    <tr style=\"text-align: right;\">\n",
              "      <th></th>\n",
              "      <th>PassengerId</th>\n",
              "      <th>HomePlanet</th>\n",
              "      <th>CryoSleep</th>\n",
              "      <th>Cabin</th>\n",
              "      <th>Destination</th>\n",
              "      <th>Age</th>\n",
              "      <th>VIP</th>\n",
              "      <th>RoomService</th>\n",
              "      <th>FoodCourt</th>\n",
              "      <th>ShoppingMall</th>\n",
              "      <th>Spa</th>\n",
              "      <th>VRDeck</th>\n",
              "      <th>Deck</th>\n",
              "    </tr>\n",
              "  </thead>\n",
              "  <tbody>\n",
              "    <tr>\n",
              "      <th>0</th>\n",
              "      <td>0013_01</td>\n",
              "      <td>Earth</td>\n",
              "      <td>True</td>\n",
              "      <td>G/3/S</td>\n",
              "      <td>TRAPPIST-1e</td>\n",
              "      <td>27.0</td>\n",
              "      <td>False</td>\n",
              "      <td>0.0</td>\n",
              "      <td>0.0</td>\n",
              "      <td>0.0</td>\n",
              "      <td>0.0</td>\n",
              "      <td>0.0</td>\n",
              "      <td>G</td>\n",
              "    </tr>\n",
              "    <tr>\n",
              "      <th>1</th>\n",
              "      <td>0018_01</td>\n",
              "      <td>Earth</td>\n",
              "      <td>False</td>\n",
              "      <td>F/4/S</td>\n",
              "      <td>TRAPPIST-1e</td>\n",
              "      <td>19.0</td>\n",
              "      <td>False</td>\n",
              "      <td>0.0</td>\n",
              "      <td>9.0</td>\n",
              "      <td>0.0</td>\n",
              "      <td>2823.0</td>\n",
              "      <td>0.0</td>\n",
              "      <td>F</td>\n",
              "    </tr>\n",
              "    <tr>\n",
              "      <th>2</th>\n",
              "      <td>0019_01</td>\n",
              "      <td>Europa</td>\n",
              "      <td>True</td>\n",
              "      <td>C/0/S</td>\n",
              "      <td>55 Cancri e</td>\n",
              "      <td>31.0</td>\n",
              "      <td>False</td>\n",
              "      <td>0.0</td>\n",
              "      <td>0.0</td>\n",
              "      <td>0.0</td>\n",
              "      <td>0.0</td>\n",
              "      <td>0.0</td>\n",
              "      <td>C</td>\n",
              "    </tr>\n",
              "    <tr>\n",
              "      <th>3</th>\n",
              "      <td>0021_01</td>\n",
              "      <td>Europa</td>\n",
              "      <td>False</td>\n",
              "      <td>C/1/S</td>\n",
              "      <td>TRAPPIST-1e</td>\n",
              "      <td>38.0</td>\n",
              "      <td>False</td>\n",
              "      <td>0.0</td>\n",
              "      <td>6652.0</td>\n",
              "      <td>0.0</td>\n",
              "      <td>181.0</td>\n",
              "      <td>585.0</td>\n",
              "      <td>C</td>\n",
              "    </tr>\n",
              "    <tr>\n",
              "      <th>4</th>\n",
              "      <td>0023_01</td>\n",
              "      <td>Earth</td>\n",
              "      <td>False</td>\n",
              "      <td>F/5/S</td>\n",
              "      <td>TRAPPIST-1e</td>\n",
              "      <td>20.0</td>\n",
              "      <td>False</td>\n",
              "      <td>10.0</td>\n",
              "      <td>0.0</td>\n",
              "      <td>635.0</td>\n",
              "      <td>0.0</td>\n",
              "      <td>0.0</td>\n",
              "      <td>F</td>\n",
              "    </tr>\n",
              "  </tbody>\n",
              "</table>\n",
              "</div>\n",
              "      <button class=\"colab-df-convert\" onclick=\"convertToInteractive('df-78dedc79-a0c7-4fc5-9d5e-271434fc5280')\"\n",
              "              title=\"Convert this dataframe to an interactive table.\"\n",
              "              style=\"display:none;\">\n",
              "        \n",
              "  <svg xmlns=\"http://www.w3.org/2000/svg\" height=\"24px\"viewBox=\"0 0 24 24\"\n",
              "       width=\"24px\">\n",
              "    <path d=\"M0 0h24v24H0V0z\" fill=\"none\"/>\n",
              "    <path d=\"M18.56 5.44l.94 2.06.94-2.06 2.06-.94-2.06-.94-.94-2.06-.94 2.06-2.06.94zm-11 1L8.5 8.5l.94-2.06 2.06-.94-2.06-.94L8.5 2.5l-.94 2.06-2.06.94zm10 10l.94 2.06.94-2.06 2.06-.94-2.06-.94-.94-2.06-.94 2.06-2.06.94z\"/><path d=\"M17.41 7.96l-1.37-1.37c-.4-.4-.92-.59-1.43-.59-.52 0-1.04.2-1.43.59L10.3 9.45l-7.72 7.72c-.78.78-.78 2.05 0 2.83L4 21.41c.39.39.9.59 1.41.59.51 0 1.02-.2 1.41-.59l7.78-7.78 2.81-2.81c.8-.78.8-2.07 0-2.86zM5.41 20L4 18.59l7.72-7.72 1.47 1.35L5.41 20z\"/>\n",
              "  </svg>\n",
              "      </button>\n",
              "      \n",
              "  <style>\n",
              "    .colab-df-container {\n",
              "      display:flex;\n",
              "      flex-wrap:wrap;\n",
              "      gap: 12px;\n",
              "    }\n",
              "\n",
              "    .colab-df-convert {\n",
              "      background-color: #E8F0FE;\n",
              "      border: none;\n",
              "      border-radius: 50%;\n",
              "      cursor: pointer;\n",
              "      display: none;\n",
              "      fill: #1967D2;\n",
              "      height: 32px;\n",
              "      padding: 0 0 0 0;\n",
              "      width: 32px;\n",
              "    }\n",
              "\n",
              "    .colab-df-convert:hover {\n",
              "      background-color: #E2EBFA;\n",
              "      box-shadow: 0px 1px 2px rgba(60, 64, 67, 0.3), 0px 1px 3px 1px rgba(60, 64, 67, 0.15);\n",
              "      fill: #174EA6;\n",
              "    }\n",
              "\n",
              "    [theme=dark] .colab-df-convert {\n",
              "      background-color: #3B4455;\n",
              "      fill: #D2E3FC;\n",
              "    }\n",
              "\n",
              "    [theme=dark] .colab-df-convert:hover {\n",
              "      background-color: #434B5C;\n",
              "      box-shadow: 0px 1px 3px 1px rgba(0, 0, 0, 0.15);\n",
              "      filter: drop-shadow(0px 1px 2px rgba(0, 0, 0, 0.3));\n",
              "      fill: #FFFFFF;\n",
              "    }\n",
              "  </style>\n",
              "\n",
              "      <script>\n",
              "        const buttonEl =\n",
              "          document.querySelector('#df-78dedc79-a0c7-4fc5-9d5e-271434fc5280 button.colab-df-convert');\n",
              "        buttonEl.style.display =\n",
              "          google.colab.kernel.accessAllowed ? 'block' : 'none';\n",
              "\n",
              "        async function convertToInteractive(key) {\n",
              "          const element = document.querySelector('#df-78dedc79-a0c7-4fc5-9d5e-271434fc5280');\n",
              "          const dataTable =\n",
              "            await google.colab.kernel.invokeFunction('convertToInteractive',\n",
              "                                                     [key], {});\n",
              "          if (!dataTable) return;\n",
              "\n",
              "          const docLinkHtml = 'Like what you see? Visit the ' +\n",
              "            '<a target=\"_blank\" href=https://colab.research.google.com/notebooks/data_table.ipynb>data table notebook</a>'\n",
              "            + ' to learn more about interactive tables.';\n",
              "          element.innerHTML = '';\n",
              "          dataTable['output_type'] = 'display_data';\n",
              "          await google.colab.output.renderOutput(dataTable, element);\n",
              "          const docLink = document.createElement('div');\n",
              "          docLink.innerHTML = docLinkHtml;\n",
              "          element.appendChild(docLink);\n",
              "        }\n",
              "      </script>\n",
              "    </div>\n",
              "  </div>\n",
              "  "
            ]
          },
          "metadata": {},
          "execution_count": 163
        }
      ]
    },
    {
      "cell_type": "code",
      "execution_count": 164,
      "metadata": {
        "colab": {
          "base_uri": "https://localhost:8080/",
          "height": 206
        },
        "id": "FyZf04YTdhqX",
        "outputId": "11407672-d377-4b07-b359-1af67a27e4e6"
      },
      "outputs": [
        {
          "output_type": "execute_result",
          "data": {
            "text/plain": [
              "  PassengerId HomePlanet CryoSleep  Cabin  Destination   Age    VIP  \\\n",
              "0     0001_01     Europa     False  B/0/P  TRAPPIST-1e  39.0  False   \n",
              "1     0002_01      Earth     False  F/0/S  TRAPPIST-1e  24.0  False   \n",
              "2     0003_01     Europa     False  A/0/S  TRAPPIST-1e  58.0   True   \n",
              "3     0003_02     Europa     False  A/0/S  TRAPPIST-1e  33.0  False   \n",
              "4     0004_01      Earth     False  F/1/S  TRAPPIST-1e  16.0  False   \n",
              "\n",
              "   RoomService  FoodCourt  ShoppingMall     Spa  VRDeck  Transported Deck Side  \n",
              "0          0.0        0.0           0.0     0.0     0.0        False    B    P  \n",
              "1        109.0        9.0          25.0   549.0    44.0         True    F    S  \n",
              "2         43.0     3576.0           0.0  6715.0    49.0        False    A    S  \n",
              "3          0.0     1283.0         371.0  3329.0   193.0        False    A    S  \n",
              "4        303.0       70.0         151.0   565.0     2.0         True    F    S  "
            ],
            "text/html": [
              "\n",
              "  <div id=\"df-256590d7-3252-42d2-a18a-f8fdf5331b79\">\n",
              "    <div class=\"colab-df-container\">\n",
              "      <div>\n",
              "<style scoped>\n",
              "    .dataframe tbody tr th:only-of-type {\n",
              "        vertical-align: middle;\n",
              "    }\n",
              "\n",
              "    .dataframe tbody tr th {\n",
              "        vertical-align: top;\n",
              "    }\n",
              "\n",
              "    .dataframe thead th {\n",
              "        text-align: right;\n",
              "    }\n",
              "</style>\n",
              "<table border=\"1\" class=\"dataframe\">\n",
              "  <thead>\n",
              "    <tr style=\"text-align: right;\">\n",
              "      <th></th>\n",
              "      <th>PassengerId</th>\n",
              "      <th>HomePlanet</th>\n",
              "      <th>CryoSleep</th>\n",
              "      <th>Cabin</th>\n",
              "      <th>Destination</th>\n",
              "      <th>Age</th>\n",
              "      <th>VIP</th>\n",
              "      <th>RoomService</th>\n",
              "      <th>FoodCourt</th>\n",
              "      <th>ShoppingMall</th>\n",
              "      <th>Spa</th>\n",
              "      <th>VRDeck</th>\n",
              "      <th>Transported</th>\n",
              "      <th>Deck</th>\n",
              "      <th>Side</th>\n",
              "    </tr>\n",
              "  </thead>\n",
              "  <tbody>\n",
              "    <tr>\n",
              "      <th>0</th>\n",
              "      <td>0001_01</td>\n",
              "      <td>Europa</td>\n",
              "      <td>False</td>\n",
              "      <td>B/0/P</td>\n",
              "      <td>TRAPPIST-1e</td>\n",
              "      <td>39.0</td>\n",
              "      <td>False</td>\n",
              "      <td>0.0</td>\n",
              "      <td>0.0</td>\n",
              "      <td>0.0</td>\n",
              "      <td>0.0</td>\n",
              "      <td>0.0</td>\n",
              "      <td>False</td>\n",
              "      <td>B</td>\n",
              "      <td>P</td>\n",
              "    </tr>\n",
              "    <tr>\n",
              "      <th>1</th>\n",
              "      <td>0002_01</td>\n",
              "      <td>Earth</td>\n",
              "      <td>False</td>\n",
              "      <td>F/0/S</td>\n",
              "      <td>TRAPPIST-1e</td>\n",
              "      <td>24.0</td>\n",
              "      <td>False</td>\n",
              "      <td>109.0</td>\n",
              "      <td>9.0</td>\n",
              "      <td>25.0</td>\n",
              "      <td>549.0</td>\n",
              "      <td>44.0</td>\n",
              "      <td>True</td>\n",
              "      <td>F</td>\n",
              "      <td>S</td>\n",
              "    </tr>\n",
              "    <tr>\n",
              "      <th>2</th>\n",
              "      <td>0003_01</td>\n",
              "      <td>Europa</td>\n",
              "      <td>False</td>\n",
              "      <td>A/0/S</td>\n",
              "      <td>TRAPPIST-1e</td>\n",
              "      <td>58.0</td>\n",
              "      <td>True</td>\n",
              "      <td>43.0</td>\n",
              "      <td>3576.0</td>\n",
              "      <td>0.0</td>\n",
              "      <td>6715.0</td>\n",
              "      <td>49.0</td>\n",
              "      <td>False</td>\n",
              "      <td>A</td>\n",
              "      <td>S</td>\n",
              "    </tr>\n",
              "    <tr>\n",
              "      <th>3</th>\n",
              "      <td>0003_02</td>\n",
              "      <td>Europa</td>\n",
              "      <td>False</td>\n",
              "      <td>A/0/S</td>\n",
              "      <td>TRAPPIST-1e</td>\n",
              "      <td>33.0</td>\n",
              "      <td>False</td>\n",
              "      <td>0.0</td>\n",
              "      <td>1283.0</td>\n",
              "      <td>371.0</td>\n",
              "      <td>3329.0</td>\n",
              "      <td>193.0</td>\n",
              "      <td>False</td>\n",
              "      <td>A</td>\n",
              "      <td>S</td>\n",
              "    </tr>\n",
              "    <tr>\n",
              "      <th>4</th>\n",
              "      <td>0004_01</td>\n",
              "      <td>Earth</td>\n",
              "      <td>False</td>\n",
              "      <td>F/1/S</td>\n",
              "      <td>TRAPPIST-1e</td>\n",
              "      <td>16.0</td>\n",
              "      <td>False</td>\n",
              "      <td>303.0</td>\n",
              "      <td>70.0</td>\n",
              "      <td>151.0</td>\n",
              "      <td>565.0</td>\n",
              "      <td>2.0</td>\n",
              "      <td>True</td>\n",
              "      <td>F</td>\n",
              "      <td>S</td>\n",
              "    </tr>\n",
              "  </tbody>\n",
              "</table>\n",
              "</div>\n",
              "      <button class=\"colab-df-convert\" onclick=\"convertToInteractive('df-256590d7-3252-42d2-a18a-f8fdf5331b79')\"\n",
              "              title=\"Convert this dataframe to an interactive table.\"\n",
              "              style=\"display:none;\">\n",
              "        \n",
              "  <svg xmlns=\"http://www.w3.org/2000/svg\" height=\"24px\"viewBox=\"0 0 24 24\"\n",
              "       width=\"24px\">\n",
              "    <path d=\"M0 0h24v24H0V0z\" fill=\"none\"/>\n",
              "    <path d=\"M18.56 5.44l.94 2.06.94-2.06 2.06-.94-2.06-.94-.94-2.06-.94 2.06-2.06.94zm-11 1L8.5 8.5l.94-2.06 2.06-.94-2.06-.94L8.5 2.5l-.94 2.06-2.06.94zm10 10l.94 2.06.94-2.06 2.06-.94-2.06-.94-.94-2.06-.94 2.06-2.06.94z\"/><path d=\"M17.41 7.96l-1.37-1.37c-.4-.4-.92-.59-1.43-.59-.52 0-1.04.2-1.43.59L10.3 9.45l-7.72 7.72c-.78.78-.78 2.05 0 2.83L4 21.41c.39.39.9.59 1.41.59.51 0 1.02-.2 1.41-.59l7.78-7.78 2.81-2.81c.8-.78.8-2.07 0-2.86zM5.41 20L4 18.59l7.72-7.72 1.47 1.35L5.41 20z\"/>\n",
              "  </svg>\n",
              "      </button>\n",
              "      \n",
              "  <style>\n",
              "    .colab-df-container {\n",
              "      display:flex;\n",
              "      flex-wrap:wrap;\n",
              "      gap: 12px;\n",
              "    }\n",
              "\n",
              "    .colab-df-convert {\n",
              "      background-color: #E8F0FE;\n",
              "      border: none;\n",
              "      border-radius: 50%;\n",
              "      cursor: pointer;\n",
              "      display: none;\n",
              "      fill: #1967D2;\n",
              "      height: 32px;\n",
              "      padding: 0 0 0 0;\n",
              "      width: 32px;\n",
              "    }\n",
              "\n",
              "    .colab-df-convert:hover {\n",
              "      background-color: #E2EBFA;\n",
              "      box-shadow: 0px 1px 2px rgba(60, 64, 67, 0.3), 0px 1px 3px 1px rgba(60, 64, 67, 0.15);\n",
              "      fill: #174EA6;\n",
              "    }\n",
              "\n",
              "    [theme=dark] .colab-df-convert {\n",
              "      background-color: #3B4455;\n",
              "      fill: #D2E3FC;\n",
              "    }\n",
              "\n",
              "    [theme=dark] .colab-df-convert:hover {\n",
              "      background-color: #434B5C;\n",
              "      box-shadow: 0px 1px 3px 1px rgba(0, 0, 0, 0.15);\n",
              "      filter: drop-shadow(0px 1px 2px rgba(0, 0, 0, 0.3));\n",
              "      fill: #FFFFFF;\n",
              "    }\n",
              "  </style>\n",
              "\n",
              "      <script>\n",
              "        const buttonEl =\n",
              "          document.querySelector('#df-256590d7-3252-42d2-a18a-f8fdf5331b79 button.colab-df-convert');\n",
              "        buttonEl.style.display =\n",
              "          google.colab.kernel.accessAllowed ? 'block' : 'none';\n",
              "\n",
              "        async function convertToInteractive(key) {\n",
              "          const element = document.querySelector('#df-256590d7-3252-42d2-a18a-f8fdf5331b79');\n",
              "          const dataTable =\n",
              "            await google.colab.kernel.invokeFunction('convertToInteractive',\n",
              "                                                     [key], {});\n",
              "          if (!dataTable) return;\n",
              "\n",
              "          const docLinkHtml = 'Like what you see? Visit the ' +\n",
              "            '<a target=\"_blank\" href=https://colab.research.google.com/notebooks/data_table.ipynb>data table notebook</a>'\n",
              "            + ' to learn more about interactive tables.';\n",
              "          element.innerHTML = '';\n",
              "          dataTable['output_type'] = 'display_data';\n",
              "          await google.colab.output.renderOutput(dataTable, element);\n",
              "          const docLink = document.createElement('div');\n",
              "          docLink.innerHTML = docLinkHtml;\n",
              "          element.appendChild(docLink);\n",
              "        }\n",
              "      </script>\n",
              "    </div>\n",
              "  </div>\n",
              "  "
            ]
          },
          "metadata": {},
          "execution_count": 164
        }
      ],
      "source": [
        "# Side 변수를 만들어주세요\n",
        "df_train['Side'] = df_train['Cabin'].str[-1]\n",
        "df_train.head()"
      ],
      "id": "FyZf04YTdhqX"
    },
    {
      "cell_type": "code",
      "source": [
        "df_test['Side'] = df_test['Cabin'].str[-1]\n",
        "df_test.head()"
      ],
      "metadata": {
        "colab": {
          "base_uri": "https://localhost:8080/",
          "height": 206
        },
        "id": "zBgsBvldth5y",
        "outputId": "f1b8c319-3436-4611-b40c-819ae2c3f529"
      },
      "id": "zBgsBvldth5y",
      "execution_count": 165,
      "outputs": [
        {
          "output_type": "execute_result",
          "data": {
            "text/plain": [
              "  PassengerId HomePlanet CryoSleep  Cabin  Destination   Age    VIP  \\\n",
              "0     0013_01      Earth      True  G/3/S  TRAPPIST-1e  27.0  False   \n",
              "1     0018_01      Earth     False  F/4/S  TRAPPIST-1e  19.0  False   \n",
              "2     0019_01     Europa      True  C/0/S  55 Cancri e  31.0  False   \n",
              "3     0021_01     Europa     False  C/1/S  TRAPPIST-1e  38.0  False   \n",
              "4     0023_01      Earth     False  F/5/S  TRAPPIST-1e  20.0  False   \n",
              "\n",
              "   RoomService  FoodCourt  ShoppingMall     Spa  VRDeck Deck Side  \n",
              "0          0.0        0.0           0.0     0.0     0.0    G    S  \n",
              "1          0.0        9.0           0.0  2823.0     0.0    F    S  \n",
              "2          0.0        0.0           0.0     0.0     0.0    C    S  \n",
              "3          0.0     6652.0           0.0   181.0   585.0    C    S  \n",
              "4         10.0        0.0         635.0     0.0     0.0    F    S  "
            ],
            "text/html": [
              "\n",
              "  <div id=\"df-7fc3c33f-1517-403b-a826-05a35d866a56\">\n",
              "    <div class=\"colab-df-container\">\n",
              "      <div>\n",
              "<style scoped>\n",
              "    .dataframe tbody tr th:only-of-type {\n",
              "        vertical-align: middle;\n",
              "    }\n",
              "\n",
              "    .dataframe tbody tr th {\n",
              "        vertical-align: top;\n",
              "    }\n",
              "\n",
              "    .dataframe thead th {\n",
              "        text-align: right;\n",
              "    }\n",
              "</style>\n",
              "<table border=\"1\" class=\"dataframe\">\n",
              "  <thead>\n",
              "    <tr style=\"text-align: right;\">\n",
              "      <th></th>\n",
              "      <th>PassengerId</th>\n",
              "      <th>HomePlanet</th>\n",
              "      <th>CryoSleep</th>\n",
              "      <th>Cabin</th>\n",
              "      <th>Destination</th>\n",
              "      <th>Age</th>\n",
              "      <th>VIP</th>\n",
              "      <th>RoomService</th>\n",
              "      <th>FoodCourt</th>\n",
              "      <th>ShoppingMall</th>\n",
              "      <th>Spa</th>\n",
              "      <th>VRDeck</th>\n",
              "      <th>Deck</th>\n",
              "      <th>Side</th>\n",
              "    </tr>\n",
              "  </thead>\n",
              "  <tbody>\n",
              "    <tr>\n",
              "      <th>0</th>\n",
              "      <td>0013_01</td>\n",
              "      <td>Earth</td>\n",
              "      <td>True</td>\n",
              "      <td>G/3/S</td>\n",
              "      <td>TRAPPIST-1e</td>\n",
              "      <td>27.0</td>\n",
              "      <td>False</td>\n",
              "      <td>0.0</td>\n",
              "      <td>0.0</td>\n",
              "      <td>0.0</td>\n",
              "      <td>0.0</td>\n",
              "      <td>0.0</td>\n",
              "      <td>G</td>\n",
              "      <td>S</td>\n",
              "    </tr>\n",
              "    <tr>\n",
              "      <th>1</th>\n",
              "      <td>0018_01</td>\n",
              "      <td>Earth</td>\n",
              "      <td>False</td>\n",
              "      <td>F/4/S</td>\n",
              "      <td>TRAPPIST-1e</td>\n",
              "      <td>19.0</td>\n",
              "      <td>False</td>\n",
              "      <td>0.0</td>\n",
              "      <td>9.0</td>\n",
              "      <td>0.0</td>\n",
              "      <td>2823.0</td>\n",
              "      <td>0.0</td>\n",
              "      <td>F</td>\n",
              "      <td>S</td>\n",
              "    </tr>\n",
              "    <tr>\n",
              "      <th>2</th>\n",
              "      <td>0019_01</td>\n",
              "      <td>Europa</td>\n",
              "      <td>True</td>\n",
              "      <td>C/0/S</td>\n",
              "      <td>55 Cancri e</td>\n",
              "      <td>31.0</td>\n",
              "      <td>False</td>\n",
              "      <td>0.0</td>\n",
              "      <td>0.0</td>\n",
              "      <td>0.0</td>\n",
              "      <td>0.0</td>\n",
              "      <td>0.0</td>\n",
              "      <td>C</td>\n",
              "      <td>S</td>\n",
              "    </tr>\n",
              "    <tr>\n",
              "      <th>3</th>\n",
              "      <td>0021_01</td>\n",
              "      <td>Europa</td>\n",
              "      <td>False</td>\n",
              "      <td>C/1/S</td>\n",
              "      <td>TRAPPIST-1e</td>\n",
              "      <td>38.0</td>\n",
              "      <td>False</td>\n",
              "      <td>0.0</td>\n",
              "      <td>6652.0</td>\n",
              "      <td>0.0</td>\n",
              "      <td>181.0</td>\n",
              "      <td>585.0</td>\n",
              "      <td>C</td>\n",
              "      <td>S</td>\n",
              "    </tr>\n",
              "    <tr>\n",
              "      <th>4</th>\n",
              "      <td>0023_01</td>\n",
              "      <td>Earth</td>\n",
              "      <td>False</td>\n",
              "      <td>F/5/S</td>\n",
              "      <td>TRAPPIST-1e</td>\n",
              "      <td>20.0</td>\n",
              "      <td>False</td>\n",
              "      <td>10.0</td>\n",
              "      <td>0.0</td>\n",
              "      <td>635.0</td>\n",
              "      <td>0.0</td>\n",
              "      <td>0.0</td>\n",
              "      <td>F</td>\n",
              "      <td>S</td>\n",
              "    </tr>\n",
              "  </tbody>\n",
              "</table>\n",
              "</div>\n",
              "      <button class=\"colab-df-convert\" onclick=\"convertToInteractive('df-7fc3c33f-1517-403b-a826-05a35d866a56')\"\n",
              "              title=\"Convert this dataframe to an interactive table.\"\n",
              "              style=\"display:none;\">\n",
              "        \n",
              "  <svg xmlns=\"http://www.w3.org/2000/svg\" height=\"24px\"viewBox=\"0 0 24 24\"\n",
              "       width=\"24px\">\n",
              "    <path d=\"M0 0h24v24H0V0z\" fill=\"none\"/>\n",
              "    <path d=\"M18.56 5.44l.94 2.06.94-2.06 2.06-.94-2.06-.94-.94-2.06-.94 2.06-2.06.94zm-11 1L8.5 8.5l.94-2.06 2.06-.94-2.06-.94L8.5 2.5l-.94 2.06-2.06.94zm10 10l.94 2.06.94-2.06 2.06-.94-2.06-.94-.94-2.06-.94 2.06-2.06.94z\"/><path d=\"M17.41 7.96l-1.37-1.37c-.4-.4-.92-.59-1.43-.59-.52 0-1.04.2-1.43.59L10.3 9.45l-7.72 7.72c-.78.78-.78 2.05 0 2.83L4 21.41c.39.39.9.59 1.41.59.51 0 1.02-.2 1.41-.59l7.78-7.78 2.81-2.81c.8-.78.8-2.07 0-2.86zM5.41 20L4 18.59l7.72-7.72 1.47 1.35L5.41 20z\"/>\n",
              "  </svg>\n",
              "      </button>\n",
              "      \n",
              "  <style>\n",
              "    .colab-df-container {\n",
              "      display:flex;\n",
              "      flex-wrap:wrap;\n",
              "      gap: 12px;\n",
              "    }\n",
              "\n",
              "    .colab-df-convert {\n",
              "      background-color: #E8F0FE;\n",
              "      border: none;\n",
              "      border-radius: 50%;\n",
              "      cursor: pointer;\n",
              "      display: none;\n",
              "      fill: #1967D2;\n",
              "      height: 32px;\n",
              "      padding: 0 0 0 0;\n",
              "      width: 32px;\n",
              "    }\n",
              "\n",
              "    .colab-df-convert:hover {\n",
              "      background-color: #E2EBFA;\n",
              "      box-shadow: 0px 1px 2px rgba(60, 64, 67, 0.3), 0px 1px 3px 1px rgba(60, 64, 67, 0.15);\n",
              "      fill: #174EA6;\n",
              "    }\n",
              "\n",
              "    [theme=dark] .colab-df-convert {\n",
              "      background-color: #3B4455;\n",
              "      fill: #D2E3FC;\n",
              "    }\n",
              "\n",
              "    [theme=dark] .colab-df-convert:hover {\n",
              "      background-color: #434B5C;\n",
              "      box-shadow: 0px 1px 3px 1px rgba(0, 0, 0, 0.15);\n",
              "      filter: drop-shadow(0px 1px 2px rgba(0, 0, 0, 0.3));\n",
              "      fill: #FFFFFF;\n",
              "    }\n",
              "  </style>\n",
              "\n",
              "      <script>\n",
              "        const buttonEl =\n",
              "          document.querySelector('#df-7fc3c33f-1517-403b-a826-05a35d866a56 button.colab-df-convert');\n",
              "        buttonEl.style.display =\n",
              "          google.colab.kernel.accessAllowed ? 'block' : 'none';\n",
              "\n",
              "        async function convertToInteractive(key) {\n",
              "          const element = document.querySelector('#df-7fc3c33f-1517-403b-a826-05a35d866a56');\n",
              "          const dataTable =\n",
              "            await google.colab.kernel.invokeFunction('convertToInteractive',\n",
              "                                                     [key], {});\n",
              "          if (!dataTable) return;\n",
              "\n",
              "          const docLinkHtml = 'Like what you see? Visit the ' +\n",
              "            '<a target=\"_blank\" href=https://colab.research.google.com/notebooks/data_table.ipynb>data table notebook</a>'\n",
              "            + ' to learn more about interactive tables.';\n",
              "          element.innerHTML = '';\n",
              "          dataTable['output_type'] = 'display_data';\n",
              "          await google.colab.output.renderOutput(dataTable, element);\n",
              "          const docLink = document.createElement('div');\n",
              "          docLink.innerHTML = docLinkHtml;\n",
              "          element.appendChild(docLink);\n",
              "        }\n",
              "      </script>\n",
              "    </div>\n",
              "  </div>\n",
              "  "
            ]
          },
          "metadata": {},
          "execution_count": 165
        }
      ]
    },
    {
      "cell_type": "code",
      "execution_count": 166,
      "metadata": {
        "colab": {
          "base_uri": "https://localhost:8080/",
          "height": 206
        },
        "id": "xaYlYL_2dhqX",
        "outputId": "d503be89-b545-499f-8b8c-87cd88b2dbd3"
      },
      "outputs": [
        {
          "output_type": "execute_result",
          "data": {
            "text/plain": [
              "  PassengerId HomePlanet CryoSleep  Destination   Age    VIP  RoomService  \\\n",
              "0     0001_01     Europa     False  TRAPPIST-1e  39.0  False          0.0   \n",
              "1     0002_01      Earth     False  TRAPPIST-1e  24.0  False        109.0   \n",
              "2     0003_01     Europa     False  TRAPPIST-1e  58.0   True         43.0   \n",
              "3     0003_02     Europa     False  TRAPPIST-1e  33.0  False          0.0   \n",
              "4     0004_01      Earth     False  TRAPPIST-1e  16.0  False        303.0   \n",
              "\n",
              "   FoodCourt  ShoppingMall     Spa  VRDeck  Transported Deck Side  \n",
              "0        0.0           0.0     0.0     0.0        False    B    P  \n",
              "1        9.0          25.0   549.0    44.0         True    F    S  \n",
              "2     3576.0           0.0  6715.0    49.0        False    A    S  \n",
              "3     1283.0         371.0  3329.0   193.0        False    A    S  \n",
              "4       70.0         151.0   565.0     2.0         True    F    S  "
            ],
            "text/html": [
              "\n",
              "  <div id=\"df-9bc4db4e-6036-4655-98fa-d076a63a0d47\">\n",
              "    <div class=\"colab-df-container\">\n",
              "      <div>\n",
              "<style scoped>\n",
              "    .dataframe tbody tr th:only-of-type {\n",
              "        vertical-align: middle;\n",
              "    }\n",
              "\n",
              "    .dataframe tbody tr th {\n",
              "        vertical-align: top;\n",
              "    }\n",
              "\n",
              "    .dataframe thead th {\n",
              "        text-align: right;\n",
              "    }\n",
              "</style>\n",
              "<table border=\"1\" class=\"dataframe\">\n",
              "  <thead>\n",
              "    <tr style=\"text-align: right;\">\n",
              "      <th></th>\n",
              "      <th>PassengerId</th>\n",
              "      <th>HomePlanet</th>\n",
              "      <th>CryoSleep</th>\n",
              "      <th>Destination</th>\n",
              "      <th>Age</th>\n",
              "      <th>VIP</th>\n",
              "      <th>RoomService</th>\n",
              "      <th>FoodCourt</th>\n",
              "      <th>ShoppingMall</th>\n",
              "      <th>Spa</th>\n",
              "      <th>VRDeck</th>\n",
              "      <th>Transported</th>\n",
              "      <th>Deck</th>\n",
              "      <th>Side</th>\n",
              "    </tr>\n",
              "  </thead>\n",
              "  <tbody>\n",
              "    <tr>\n",
              "      <th>0</th>\n",
              "      <td>0001_01</td>\n",
              "      <td>Europa</td>\n",
              "      <td>False</td>\n",
              "      <td>TRAPPIST-1e</td>\n",
              "      <td>39.0</td>\n",
              "      <td>False</td>\n",
              "      <td>0.0</td>\n",
              "      <td>0.0</td>\n",
              "      <td>0.0</td>\n",
              "      <td>0.0</td>\n",
              "      <td>0.0</td>\n",
              "      <td>False</td>\n",
              "      <td>B</td>\n",
              "      <td>P</td>\n",
              "    </tr>\n",
              "    <tr>\n",
              "      <th>1</th>\n",
              "      <td>0002_01</td>\n",
              "      <td>Earth</td>\n",
              "      <td>False</td>\n",
              "      <td>TRAPPIST-1e</td>\n",
              "      <td>24.0</td>\n",
              "      <td>False</td>\n",
              "      <td>109.0</td>\n",
              "      <td>9.0</td>\n",
              "      <td>25.0</td>\n",
              "      <td>549.0</td>\n",
              "      <td>44.0</td>\n",
              "      <td>True</td>\n",
              "      <td>F</td>\n",
              "      <td>S</td>\n",
              "    </tr>\n",
              "    <tr>\n",
              "      <th>2</th>\n",
              "      <td>0003_01</td>\n",
              "      <td>Europa</td>\n",
              "      <td>False</td>\n",
              "      <td>TRAPPIST-1e</td>\n",
              "      <td>58.0</td>\n",
              "      <td>True</td>\n",
              "      <td>43.0</td>\n",
              "      <td>3576.0</td>\n",
              "      <td>0.0</td>\n",
              "      <td>6715.0</td>\n",
              "      <td>49.0</td>\n",
              "      <td>False</td>\n",
              "      <td>A</td>\n",
              "      <td>S</td>\n",
              "    </tr>\n",
              "    <tr>\n",
              "      <th>3</th>\n",
              "      <td>0003_02</td>\n",
              "      <td>Europa</td>\n",
              "      <td>False</td>\n",
              "      <td>TRAPPIST-1e</td>\n",
              "      <td>33.0</td>\n",
              "      <td>False</td>\n",
              "      <td>0.0</td>\n",
              "      <td>1283.0</td>\n",
              "      <td>371.0</td>\n",
              "      <td>3329.0</td>\n",
              "      <td>193.0</td>\n",
              "      <td>False</td>\n",
              "      <td>A</td>\n",
              "      <td>S</td>\n",
              "    </tr>\n",
              "    <tr>\n",
              "      <th>4</th>\n",
              "      <td>0004_01</td>\n",
              "      <td>Earth</td>\n",
              "      <td>False</td>\n",
              "      <td>TRAPPIST-1e</td>\n",
              "      <td>16.0</td>\n",
              "      <td>False</td>\n",
              "      <td>303.0</td>\n",
              "      <td>70.0</td>\n",
              "      <td>151.0</td>\n",
              "      <td>565.0</td>\n",
              "      <td>2.0</td>\n",
              "      <td>True</td>\n",
              "      <td>F</td>\n",
              "      <td>S</td>\n",
              "    </tr>\n",
              "  </tbody>\n",
              "</table>\n",
              "</div>\n",
              "      <button class=\"colab-df-convert\" onclick=\"convertToInteractive('df-9bc4db4e-6036-4655-98fa-d076a63a0d47')\"\n",
              "              title=\"Convert this dataframe to an interactive table.\"\n",
              "              style=\"display:none;\">\n",
              "        \n",
              "  <svg xmlns=\"http://www.w3.org/2000/svg\" height=\"24px\"viewBox=\"0 0 24 24\"\n",
              "       width=\"24px\">\n",
              "    <path d=\"M0 0h24v24H0V0z\" fill=\"none\"/>\n",
              "    <path d=\"M18.56 5.44l.94 2.06.94-2.06 2.06-.94-2.06-.94-.94-2.06-.94 2.06-2.06.94zm-11 1L8.5 8.5l.94-2.06 2.06-.94-2.06-.94L8.5 2.5l-.94 2.06-2.06.94zm10 10l.94 2.06.94-2.06 2.06-.94-2.06-.94-.94-2.06-.94 2.06-2.06.94z\"/><path d=\"M17.41 7.96l-1.37-1.37c-.4-.4-.92-.59-1.43-.59-.52 0-1.04.2-1.43.59L10.3 9.45l-7.72 7.72c-.78.78-.78 2.05 0 2.83L4 21.41c.39.39.9.59 1.41.59.51 0 1.02-.2 1.41-.59l7.78-7.78 2.81-2.81c.8-.78.8-2.07 0-2.86zM5.41 20L4 18.59l7.72-7.72 1.47 1.35L5.41 20z\"/>\n",
              "  </svg>\n",
              "      </button>\n",
              "      \n",
              "  <style>\n",
              "    .colab-df-container {\n",
              "      display:flex;\n",
              "      flex-wrap:wrap;\n",
              "      gap: 12px;\n",
              "    }\n",
              "\n",
              "    .colab-df-convert {\n",
              "      background-color: #E8F0FE;\n",
              "      border: none;\n",
              "      border-radius: 50%;\n",
              "      cursor: pointer;\n",
              "      display: none;\n",
              "      fill: #1967D2;\n",
              "      height: 32px;\n",
              "      padding: 0 0 0 0;\n",
              "      width: 32px;\n",
              "    }\n",
              "\n",
              "    .colab-df-convert:hover {\n",
              "      background-color: #E2EBFA;\n",
              "      box-shadow: 0px 1px 2px rgba(60, 64, 67, 0.3), 0px 1px 3px 1px rgba(60, 64, 67, 0.15);\n",
              "      fill: #174EA6;\n",
              "    }\n",
              "\n",
              "    [theme=dark] .colab-df-convert {\n",
              "      background-color: #3B4455;\n",
              "      fill: #D2E3FC;\n",
              "    }\n",
              "\n",
              "    [theme=dark] .colab-df-convert:hover {\n",
              "      background-color: #434B5C;\n",
              "      box-shadow: 0px 1px 3px 1px rgba(0, 0, 0, 0.15);\n",
              "      filter: drop-shadow(0px 1px 2px rgba(0, 0, 0, 0.3));\n",
              "      fill: #FFFFFF;\n",
              "    }\n",
              "  </style>\n",
              "\n",
              "      <script>\n",
              "        const buttonEl =\n",
              "          document.querySelector('#df-9bc4db4e-6036-4655-98fa-d076a63a0d47 button.colab-df-convert');\n",
              "        buttonEl.style.display =\n",
              "          google.colab.kernel.accessAllowed ? 'block' : 'none';\n",
              "\n",
              "        async function convertToInteractive(key) {\n",
              "          const element = document.querySelector('#df-9bc4db4e-6036-4655-98fa-d076a63a0d47');\n",
              "          const dataTable =\n",
              "            await google.colab.kernel.invokeFunction('convertToInteractive',\n",
              "                                                     [key], {});\n",
              "          if (!dataTable) return;\n",
              "\n",
              "          const docLinkHtml = 'Like what you see? Visit the ' +\n",
              "            '<a target=\"_blank\" href=https://colab.research.google.com/notebooks/data_table.ipynb>data table notebook</a>'\n",
              "            + ' to learn more about interactive tables.';\n",
              "          element.innerHTML = '';\n",
              "          dataTable['output_type'] = 'display_data';\n",
              "          await google.colab.output.renderOutput(dataTable, element);\n",
              "          const docLink = document.createElement('div');\n",
              "          docLink.innerHTML = docLinkHtml;\n",
              "          element.appendChild(docLink);\n",
              "        }\n",
              "      </script>\n",
              "    </div>\n",
              "  </div>\n",
              "  "
            ]
          },
          "metadata": {},
          "execution_count": 166
        }
      ],
      "source": [
        "# Cabin 변수를 삭제해주세요\n",
        "df_train.drop(['Cabin'], inplace=True, axis=1)\n",
        "df_train.head()"
      ],
      "id": "xaYlYL_2dhqX"
    },
    {
      "cell_type": "code",
      "source": [
        "df_test.drop(['Cabin'], inplace=True, axis=1)\n",
        "df_test.head()"
      ],
      "metadata": {
        "colab": {
          "base_uri": "https://localhost:8080/",
          "height": 206
        },
        "id": "gC4Ph0sytn9A",
        "outputId": "ab526dd9-057b-4af4-fd95-29ae56fe97d7"
      },
      "id": "gC4Ph0sytn9A",
      "execution_count": 167,
      "outputs": [
        {
          "output_type": "execute_result",
          "data": {
            "text/plain": [
              "  PassengerId HomePlanet CryoSleep  Destination   Age    VIP  RoomService  \\\n",
              "0     0013_01      Earth      True  TRAPPIST-1e  27.0  False          0.0   \n",
              "1     0018_01      Earth     False  TRAPPIST-1e  19.0  False          0.0   \n",
              "2     0019_01     Europa      True  55 Cancri e  31.0  False          0.0   \n",
              "3     0021_01     Europa     False  TRAPPIST-1e  38.0  False          0.0   \n",
              "4     0023_01      Earth     False  TRAPPIST-1e  20.0  False         10.0   \n",
              "\n",
              "   FoodCourt  ShoppingMall     Spa  VRDeck Deck Side  \n",
              "0        0.0           0.0     0.0     0.0    G    S  \n",
              "1        9.0           0.0  2823.0     0.0    F    S  \n",
              "2        0.0           0.0     0.0     0.0    C    S  \n",
              "3     6652.0           0.0   181.0   585.0    C    S  \n",
              "4        0.0         635.0     0.0     0.0    F    S  "
            ],
            "text/html": [
              "\n",
              "  <div id=\"df-996db2b6-1c82-4248-ac3f-4dfb17203b19\">\n",
              "    <div class=\"colab-df-container\">\n",
              "      <div>\n",
              "<style scoped>\n",
              "    .dataframe tbody tr th:only-of-type {\n",
              "        vertical-align: middle;\n",
              "    }\n",
              "\n",
              "    .dataframe tbody tr th {\n",
              "        vertical-align: top;\n",
              "    }\n",
              "\n",
              "    .dataframe thead th {\n",
              "        text-align: right;\n",
              "    }\n",
              "</style>\n",
              "<table border=\"1\" class=\"dataframe\">\n",
              "  <thead>\n",
              "    <tr style=\"text-align: right;\">\n",
              "      <th></th>\n",
              "      <th>PassengerId</th>\n",
              "      <th>HomePlanet</th>\n",
              "      <th>CryoSleep</th>\n",
              "      <th>Destination</th>\n",
              "      <th>Age</th>\n",
              "      <th>VIP</th>\n",
              "      <th>RoomService</th>\n",
              "      <th>FoodCourt</th>\n",
              "      <th>ShoppingMall</th>\n",
              "      <th>Spa</th>\n",
              "      <th>VRDeck</th>\n",
              "      <th>Deck</th>\n",
              "      <th>Side</th>\n",
              "    </tr>\n",
              "  </thead>\n",
              "  <tbody>\n",
              "    <tr>\n",
              "      <th>0</th>\n",
              "      <td>0013_01</td>\n",
              "      <td>Earth</td>\n",
              "      <td>True</td>\n",
              "      <td>TRAPPIST-1e</td>\n",
              "      <td>27.0</td>\n",
              "      <td>False</td>\n",
              "      <td>0.0</td>\n",
              "      <td>0.0</td>\n",
              "      <td>0.0</td>\n",
              "      <td>0.0</td>\n",
              "      <td>0.0</td>\n",
              "      <td>G</td>\n",
              "      <td>S</td>\n",
              "    </tr>\n",
              "    <tr>\n",
              "      <th>1</th>\n",
              "      <td>0018_01</td>\n",
              "      <td>Earth</td>\n",
              "      <td>False</td>\n",
              "      <td>TRAPPIST-1e</td>\n",
              "      <td>19.0</td>\n",
              "      <td>False</td>\n",
              "      <td>0.0</td>\n",
              "      <td>9.0</td>\n",
              "      <td>0.0</td>\n",
              "      <td>2823.0</td>\n",
              "      <td>0.0</td>\n",
              "      <td>F</td>\n",
              "      <td>S</td>\n",
              "    </tr>\n",
              "    <tr>\n",
              "      <th>2</th>\n",
              "      <td>0019_01</td>\n",
              "      <td>Europa</td>\n",
              "      <td>True</td>\n",
              "      <td>55 Cancri e</td>\n",
              "      <td>31.0</td>\n",
              "      <td>False</td>\n",
              "      <td>0.0</td>\n",
              "      <td>0.0</td>\n",
              "      <td>0.0</td>\n",
              "      <td>0.0</td>\n",
              "      <td>0.0</td>\n",
              "      <td>C</td>\n",
              "      <td>S</td>\n",
              "    </tr>\n",
              "    <tr>\n",
              "      <th>3</th>\n",
              "      <td>0021_01</td>\n",
              "      <td>Europa</td>\n",
              "      <td>False</td>\n",
              "      <td>TRAPPIST-1e</td>\n",
              "      <td>38.0</td>\n",
              "      <td>False</td>\n",
              "      <td>0.0</td>\n",
              "      <td>6652.0</td>\n",
              "      <td>0.0</td>\n",
              "      <td>181.0</td>\n",
              "      <td>585.0</td>\n",
              "      <td>C</td>\n",
              "      <td>S</td>\n",
              "    </tr>\n",
              "    <tr>\n",
              "      <th>4</th>\n",
              "      <td>0023_01</td>\n",
              "      <td>Earth</td>\n",
              "      <td>False</td>\n",
              "      <td>TRAPPIST-1e</td>\n",
              "      <td>20.0</td>\n",
              "      <td>False</td>\n",
              "      <td>10.0</td>\n",
              "      <td>0.0</td>\n",
              "      <td>635.0</td>\n",
              "      <td>0.0</td>\n",
              "      <td>0.0</td>\n",
              "      <td>F</td>\n",
              "      <td>S</td>\n",
              "    </tr>\n",
              "  </tbody>\n",
              "</table>\n",
              "</div>\n",
              "      <button class=\"colab-df-convert\" onclick=\"convertToInteractive('df-996db2b6-1c82-4248-ac3f-4dfb17203b19')\"\n",
              "              title=\"Convert this dataframe to an interactive table.\"\n",
              "              style=\"display:none;\">\n",
              "        \n",
              "  <svg xmlns=\"http://www.w3.org/2000/svg\" height=\"24px\"viewBox=\"0 0 24 24\"\n",
              "       width=\"24px\">\n",
              "    <path d=\"M0 0h24v24H0V0z\" fill=\"none\"/>\n",
              "    <path d=\"M18.56 5.44l.94 2.06.94-2.06 2.06-.94-2.06-.94-.94-2.06-.94 2.06-2.06.94zm-11 1L8.5 8.5l.94-2.06 2.06-.94-2.06-.94L8.5 2.5l-.94 2.06-2.06.94zm10 10l.94 2.06.94-2.06 2.06-.94-2.06-.94-.94-2.06-.94 2.06-2.06.94z\"/><path d=\"M17.41 7.96l-1.37-1.37c-.4-.4-.92-.59-1.43-.59-.52 0-1.04.2-1.43.59L10.3 9.45l-7.72 7.72c-.78.78-.78 2.05 0 2.83L4 21.41c.39.39.9.59 1.41.59.51 0 1.02-.2 1.41-.59l7.78-7.78 2.81-2.81c.8-.78.8-2.07 0-2.86zM5.41 20L4 18.59l7.72-7.72 1.47 1.35L5.41 20z\"/>\n",
              "  </svg>\n",
              "      </button>\n",
              "      \n",
              "  <style>\n",
              "    .colab-df-container {\n",
              "      display:flex;\n",
              "      flex-wrap:wrap;\n",
              "      gap: 12px;\n",
              "    }\n",
              "\n",
              "    .colab-df-convert {\n",
              "      background-color: #E8F0FE;\n",
              "      border: none;\n",
              "      border-radius: 50%;\n",
              "      cursor: pointer;\n",
              "      display: none;\n",
              "      fill: #1967D2;\n",
              "      height: 32px;\n",
              "      padding: 0 0 0 0;\n",
              "      width: 32px;\n",
              "    }\n",
              "\n",
              "    .colab-df-convert:hover {\n",
              "      background-color: #E2EBFA;\n",
              "      box-shadow: 0px 1px 2px rgba(60, 64, 67, 0.3), 0px 1px 3px 1px rgba(60, 64, 67, 0.15);\n",
              "      fill: #174EA6;\n",
              "    }\n",
              "\n",
              "    [theme=dark] .colab-df-convert {\n",
              "      background-color: #3B4455;\n",
              "      fill: #D2E3FC;\n",
              "    }\n",
              "\n",
              "    [theme=dark] .colab-df-convert:hover {\n",
              "      background-color: #434B5C;\n",
              "      box-shadow: 0px 1px 3px 1px rgba(0, 0, 0, 0.15);\n",
              "      filter: drop-shadow(0px 1px 2px rgba(0, 0, 0, 0.3));\n",
              "      fill: #FFFFFF;\n",
              "    }\n",
              "  </style>\n",
              "\n",
              "      <script>\n",
              "        const buttonEl =\n",
              "          document.querySelector('#df-996db2b6-1c82-4248-ac3f-4dfb17203b19 button.colab-df-convert');\n",
              "        buttonEl.style.display =\n",
              "          google.colab.kernel.accessAllowed ? 'block' : 'none';\n",
              "\n",
              "        async function convertToInteractive(key) {\n",
              "          const element = document.querySelector('#df-996db2b6-1c82-4248-ac3f-4dfb17203b19');\n",
              "          const dataTable =\n",
              "            await google.colab.kernel.invokeFunction('convertToInteractive',\n",
              "                                                     [key], {});\n",
              "          if (!dataTable) return;\n",
              "\n",
              "          const docLinkHtml = 'Like what you see? Visit the ' +\n",
              "            '<a target=\"_blank\" href=https://colab.research.google.com/notebooks/data_table.ipynb>data table notebook</a>'\n",
              "            + ' to learn more about interactive tables.';\n",
              "          element.innerHTML = '';\n",
              "          dataTable['output_type'] = 'display_data';\n",
              "          await google.colab.output.renderOutput(dataTable, element);\n",
              "          const docLink = document.createElement('div');\n",
              "          docLink.innerHTML = docLinkHtml;\n",
              "          element.appendChild(docLink);\n",
              "        }\n",
              "      </script>\n",
              "    </div>\n",
              "  </div>\n",
              "  "
            ]
          },
          "metadata": {},
          "execution_count": 167
        }
      ]
    },
    {
      "cell_type": "code",
      "source": [
        "df_train.info()"
      ],
      "metadata": {
        "colab": {
          "base_uri": "https://localhost:8080/"
        },
        "id": "X-ni-hfqVVLs",
        "outputId": "f5aaa4a0-0cbb-4b4a-bb3b-fe3514ca8ccb"
      },
      "id": "X-ni-hfqVVLs",
      "execution_count": 168,
      "outputs": [
        {
          "output_type": "stream",
          "name": "stdout",
          "text": [
            "<class 'pandas.core.frame.DataFrame'>\n",
            "RangeIndex: 8693 entries, 0 to 8692\n",
            "Data columns (total 14 columns):\n",
            " #   Column        Non-Null Count  Dtype  \n",
            "---  ------        --------------  -----  \n",
            " 0   PassengerId   8693 non-null   object \n",
            " 1   HomePlanet    8492 non-null   object \n",
            " 2   CryoSleep     8476 non-null   object \n",
            " 3   Destination   8511 non-null   object \n",
            " 4   Age           8514 non-null   float64\n",
            " 5   VIP           8490 non-null   object \n",
            " 6   RoomService   8512 non-null   float64\n",
            " 7   FoodCourt     8510 non-null   float64\n",
            " 8   ShoppingMall  8485 non-null   float64\n",
            " 9   Spa           8510 non-null   float64\n",
            " 10  VRDeck        8505 non-null   float64\n",
            " 11  Transported   8693 non-null   bool   \n",
            " 12  Deck          8494 non-null   object \n",
            " 13  Side          8494 non-null   object \n",
            "dtypes: bool(1), float64(6), object(7)\n",
            "memory usage: 891.5+ KB\n"
          ]
        }
      ]
    },
    {
      "cell_type": "code",
      "source": [
        "df_test.info()"
      ],
      "metadata": {
        "colab": {
          "base_uri": "https://localhost:8080/"
        },
        "id": "K3Cxjm02VYta",
        "outputId": "488f4f72-fd20-4120-a793-f7bd1d7fdc60"
      },
      "id": "K3Cxjm02VYta",
      "execution_count": 169,
      "outputs": [
        {
          "output_type": "stream",
          "name": "stdout",
          "text": [
            "<class 'pandas.core.frame.DataFrame'>\n",
            "RangeIndex: 4277 entries, 0 to 4276\n",
            "Data columns (total 13 columns):\n",
            " #   Column        Non-Null Count  Dtype  \n",
            "---  ------        --------------  -----  \n",
            " 0   PassengerId   4277 non-null   object \n",
            " 1   HomePlanet    4190 non-null   object \n",
            " 2   CryoSleep     4184 non-null   object \n",
            " 3   Destination   4185 non-null   object \n",
            " 4   Age           4186 non-null   float64\n",
            " 5   VIP           4184 non-null   object \n",
            " 6   RoomService   4195 non-null   float64\n",
            " 7   FoodCourt     4171 non-null   float64\n",
            " 8   ShoppingMall  4179 non-null   float64\n",
            " 9   Spa           4176 non-null   float64\n",
            " 10  VRDeck        4197 non-null   float64\n",
            " 11  Deck          4177 non-null   object \n",
            " 12  Side          4177 non-null   object \n",
            "dtypes: float64(6), object(7)\n",
            "memory usage: 434.5+ KB\n"
          ]
        }
      ]
    },
    {
      "cell_type": "code",
      "execution_count": 170,
      "metadata": {
        "colab": {
          "base_uri": "https://localhost:8080/"
        },
        "id": "xHxFaxSZdhqX",
        "outputId": "36c52436-4b11-45a7-b1c3-edf1b5de0bcc"
      },
      "outputs": [
        {
          "output_type": "stream",
          "name": "stdout",
          "text": [
            "PassengerId :\t ['0001_01' '0002_01' '0003_01' ... '9279_01' '9280_01' '9280_02']\n",
            "HomePlanet :\t ['Europa' 'Earth' 'Mars' nan]\n",
            "CryoSleep :\t [False True nan]\n",
            "Destination :\t ['TRAPPIST-1e' 'PSO J318.5-22' '55 Cancri e' nan]\n",
            "VIP :\t [False True nan]\n",
            "Deck :\t ['B' 'F' 'A' 'G' nan 'E' 'D' 'C' 'T']\n",
            "Side :\t ['P' 'S' nan]\n"
          ]
        }
      ],
      "source": [
        "# object type 변수의 구성을 다시 확인해봅시다\n",
        "\n",
        "object_type = ['PassengerId','HomePlanet', 'CryoSleep', 'Destination', 'VIP', 'Deck', 'Side']\n",
        "\n",
        "for column in object_type:\n",
        "    a = df_train[column].unique()\n",
        "    print(column, ':\\t', a)\n",
        "\n",
        "# \"컬럼 이름: [unique로 확인한 변수 구성]\""
      ],
      "id": "xHxFaxSZdhqX"
    },
    {
      "cell_type": "markdown",
      "metadata": {
        "id": "DUuE-oCQssNO"
      },
      "source": [
        "[평가]\n",
        "* 'CryoSleep', 'VIP'는 bool 형태 또는 수치형으로 바꿀 필요가 있다.\n",
        "* HomePlanet, Destination은 label -> one-hot 인코딩을 해야할 것 같다\n",
        "* Cabin은 해결\n",
        "    * Deck 생성 -> 인코딩 필요\n",
        "    * Side 생성 -> 인코딩 필요"
      ],
      "id": "DUuE-oCQssNO"
    },
    {
      "cell_type": "code",
      "execution_count": 171,
      "metadata": {
        "colab": {
          "base_uri": "https://localhost:8080/"
        },
        "id": "IiQs8MzEdhqY",
        "outputId": "d756c1f2-773f-4b4b-966d-8304bee9c51a"
      },
      "outputs": [
        {
          "output_type": "stream",
          "name": "stdout",
          "text": [
            "['HomePlanet', 'CryoSleep', 'Destination', 'Age', 'VIP', 'RoomService', 'FoodCourt', 'ShoppingMall', 'Spa', 'VRDeck', 'Deck', 'Side']\n"
          ]
        }
      ],
      "source": [
        "## 결측치가 있는 컬럼은 무엇인가요??\n",
        "\n",
        "## 결측치가 얼만큼 존재하나요??\n",
        "\n",
        "# df_train.isna().sum()\n",
        "\n",
        "## 결측치가 있는 변수를 N 리스트로 생성해주세요\n",
        "\n",
        "N=[]\n",
        "for col in df_train.columns:\n",
        "    a = df_train[col].isna().sum()\n",
        "    if a != 0:\n",
        "        N.append(col)\n",
        "\n",
        "print(N)"
      ],
      "id": "IiQs8MzEdhqY"
    },
    {
      "cell_type": "code",
      "source": [
        "M=[]\n",
        "for col in df_test.columns:\n",
        "    a = df_test[col].isna().sum()\n",
        "    if a != 0:\n",
        "        M.append(col)\n",
        "\n",
        "print(M)"
      ],
      "metadata": {
        "colab": {
          "base_uri": "https://localhost:8080/"
        },
        "id": "BMS5tmsXj3uY",
        "outputId": "cbbb1998-f303-47f9-fa74-cd3fbdf46b44"
      },
      "id": "BMS5tmsXj3uY",
      "execution_count": 172,
      "outputs": [
        {
          "output_type": "stream",
          "name": "stdout",
          "text": [
            "['HomePlanet', 'CryoSleep', 'Destination', 'Age', 'VIP', 'RoomService', 'FoodCourt', 'ShoppingMall', 'Spa', 'VRDeck', 'Deck', 'Side']\n"
          ]
        }
      ]
    },
    {
      "cell_type": "markdown",
      "metadata": {
        "id": "WG4gWNktdhqY"
      },
      "source": [
        "결측치를 어떻게 처리하는 것이 좋을까요?\n",
        "* 빈도수가 가장 많은 변수 또는 평균값으로 대체한다 => df_train_1\n",
        "* 다 없앤다 -> 단점: 데이터가 손실될 위험이 있음 => df_train_2"
      ],
      "id": "WG4gWNktdhqY"
    },
    {
      "cell_type": "markdown",
      "metadata": {
        "id": "Eth-OWgNdhqZ"
      },
      "source": [
        "(1) 빈도수가 가장 많은 변수 또는 평균값으로 대체한 것을 df_train_1 로 생성한다"
      ],
      "id": "Eth-OWgNdhqZ"
    },
    {
      "cell_type": "code",
      "execution_count": 173,
      "metadata": {
        "colab": {
          "base_uri": "https://localhost:8080/",
          "height": 300
        },
        "id": "QkQZuTUhdhqZ",
        "outputId": "8784c1ca-e417-4374-a0de-77d4626d0711"
      },
      "outputs": [
        {
          "output_type": "execute_result",
          "data": {
            "text/plain": [
              "               Age   RoomService     FoodCourt  ShoppingMall           Spa  \\\n",
              "count  8514.000000   8512.000000   8510.000000   8485.000000   8510.000000   \n",
              "mean     28.827930    224.687617    458.077203    173.729169    311.138778   \n",
              "std      14.489021    666.717663   1611.489240    604.696458   1136.705535   \n",
              "min       0.000000      0.000000      0.000000      0.000000      0.000000   \n",
              "25%      19.000000      0.000000      0.000000      0.000000      0.000000   \n",
              "50%      27.000000      0.000000      0.000000      0.000000      0.000000   \n",
              "75%      38.000000     47.000000     76.000000     27.000000     59.000000   \n",
              "max      79.000000  14327.000000  29813.000000  23492.000000  22408.000000   \n",
              "\n",
              "             VRDeck  \n",
              "count   8505.000000  \n",
              "mean     304.854791  \n",
              "std     1145.717189  \n",
              "min        0.000000  \n",
              "25%        0.000000  \n",
              "50%        0.000000  \n",
              "75%       46.000000  \n",
              "max    24133.000000  "
            ],
            "text/html": [
              "\n",
              "  <div id=\"df-f80585cd-1769-4c91-b935-2f00e6e9d9a9\">\n",
              "    <div class=\"colab-df-container\">\n",
              "      <div>\n",
              "<style scoped>\n",
              "    .dataframe tbody tr th:only-of-type {\n",
              "        vertical-align: middle;\n",
              "    }\n",
              "\n",
              "    .dataframe tbody tr th {\n",
              "        vertical-align: top;\n",
              "    }\n",
              "\n",
              "    .dataframe thead th {\n",
              "        text-align: right;\n",
              "    }\n",
              "</style>\n",
              "<table border=\"1\" class=\"dataframe\">\n",
              "  <thead>\n",
              "    <tr style=\"text-align: right;\">\n",
              "      <th></th>\n",
              "      <th>Age</th>\n",
              "      <th>RoomService</th>\n",
              "      <th>FoodCourt</th>\n",
              "      <th>ShoppingMall</th>\n",
              "      <th>Spa</th>\n",
              "      <th>VRDeck</th>\n",
              "    </tr>\n",
              "  </thead>\n",
              "  <tbody>\n",
              "    <tr>\n",
              "      <th>count</th>\n",
              "      <td>8514.000000</td>\n",
              "      <td>8512.000000</td>\n",
              "      <td>8510.000000</td>\n",
              "      <td>8485.000000</td>\n",
              "      <td>8510.000000</td>\n",
              "      <td>8505.000000</td>\n",
              "    </tr>\n",
              "    <tr>\n",
              "      <th>mean</th>\n",
              "      <td>28.827930</td>\n",
              "      <td>224.687617</td>\n",
              "      <td>458.077203</td>\n",
              "      <td>173.729169</td>\n",
              "      <td>311.138778</td>\n",
              "      <td>304.854791</td>\n",
              "    </tr>\n",
              "    <tr>\n",
              "      <th>std</th>\n",
              "      <td>14.489021</td>\n",
              "      <td>666.717663</td>\n",
              "      <td>1611.489240</td>\n",
              "      <td>604.696458</td>\n",
              "      <td>1136.705535</td>\n",
              "      <td>1145.717189</td>\n",
              "    </tr>\n",
              "    <tr>\n",
              "      <th>min</th>\n",
              "      <td>0.000000</td>\n",
              "      <td>0.000000</td>\n",
              "      <td>0.000000</td>\n",
              "      <td>0.000000</td>\n",
              "      <td>0.000000</td>\n",
              "      <td>0.000000</td>\n",
              "    </tr>\n",
              "    <tr>\n",
              "      <th>25%</th>\n",
              "      <td>19.000000</td>\n",
              "      <td>0.000000</td>\n",
              "      <td>0.000000</td>\n",
              "      <td>0.000000</td>\n",
              "      <td>0.000000</td>\n",
              "      <td>0.000000</td>\n",
              "    </tr>\n",
              "    <tr>\n",
              "      <th>50%</th>\n",
              "      <td>27.000000</td>\n",
              "      <td>0.000000</td>\n",
              "      <td>0.000000</td>\n",
              "      <td>0.000000</td>\n",
              "      <td>0.000000</td>\n",
              "      <td>0.000000</td>\n",
              "    </tr>\n",
              "    <tr>\n",
              "      <th>75%</th>\n",
              "      <td>38.000000</td>\n",
              "      <td>47.000000</td>\n",
              "      <td>76.000000</td>\n",
              "      <td>27.000000</td>\n",
              "      <td>59.000000</td>\n",
              "      <td>46.000000</td>\n",
              "    </tr>\n",
              "    <tr>\n",
              "      <th>max</th>\n",
              "      <td>79.000000</td>\n",
              "      <td>14327.000000</td>\n",
              "      <td>29813.000000</td>\n",
              "      <td>23492.000000</td>\n",
              "      <td>22408.000000</td>\n",
              "      <td>24133.000000</td>\n",
              "    </tr>\n",
              "  </tbody>\n",
              "</table>\n",
              "</div>\n",
              "      <button class=\"colab-df-convert\" onclick=\"convertToInteractive('df-f80585cd-1769-4c91-b935-2f00e6e9d9a9')\"\n",
              "              title=\"Convert this dataframe to an interactive table.\"\n",
              "              style=\"display:none;\">\n",
              "        \n",
              "  <svg xmlns=\"http://www.w3.org/2000/svg\" height=\"24px\"viewBox=\"0 0 24 24\"\n",
              "       width=\"24px\">\n",
              "    <path d=\"M0 0h24v24H0V0z\" fill=\"none\"/>\n",
              "    <path d=\"M18.56 5.44l.94 2.06.94-2.06 2.06-.94-2.06-.94-.94-2.06-.94 2.06-2.06.94zm-11 1L8.5 8.5l.94-2.06 2.06-.94-2.06-.94L8.5 2.5l-.94 2.06-2.06.94zm10 10l.94 2.06.94-2.06 2.06-.94-2.06-.94-.94-2.06-.94 2.06-2.06.94z\"/><path d=\"M17.41 7.96l-1.37-1.37c-.4-.4-.92-.59-1.43-.59-.52 0-1.04.2-1.43.59L10.3 9.45l-7.72 7.72c-.78.78-.78 2.05 0 2.83L4 21.41c.39.39.9.59 1.41.59.51 0 1.02-.2 1.41-.59l7.78-7.78 2.81-2.81c.8-.78.8-2.07 0-2.86zM5.41 20L4 18.59l7.72-7.72 1.47 1.35L5.41 20z\"/>\n",
              "  </svg>\n",
              "      </button>\n",
              "      \n",
              "  <style>\n",
              "    .colab-df-container {\n",
              "      display:flex;\n",
              "      flex-wrap:wrap;\n",
              "      gap: 12px;\n",
              "    }\n",
              "\n",
              "    .colab-df-convert {\n",
              "      background-color: #E8F0FE;\n",
              "      border: none;\n",
              "      border-radius: 50%;\n",
              "      cursor: pointer;\n",
              "      display: none;\n",
              "      fill: #1967D2;\n",
              "      height: 32px;\n",
              "      padding: 0 0 0 0;\n",
              "      width: 32px;\n",
              "    }\n",
              "\n",
              "    .colab-df-convert:hover {\n",
              "      background-color: #E2EBFA;\n",
              "      box-shadow: 0px 1px 2px rgba(60, 64, 67, 0.3), 0px 1px 3px 1px rgba(60, 64, 67, 0.15);\n",
              "      fill: #174EA6;\n",
              "    }\n",
              "\n",
              "    [theme=dark] .colab-df-convert {\n",
              "      background-color: #3B4455;\n",
              "      fill: #D2E3FC;\n",
              "    }\n",
              "\n",
              "    [theme=dark] .colab-df-convert:hover {\n",
              "      background-color: #434B5C;\n",
              "      box-shadow: 0px 1px 3px 1px rgba(0, 0, 0, 0.15);\n",
              "      filter: drop-shadow(0px 1px 2px rgba(0, 0, 0, 0.3));\n",
              "      fill: #FFFFFF;\n",
              "    }\n",
              "  </style>\n",
              "\n",
              "      <script>\n",
              "        const buttonEl =\n",
              "          document.querySelector('#df-f80585cd-1769-4c91-b935-2f00e6e9d9a9 button.colab-df-convert');\n",
              "        buttonEl.style.display =\n",
              "          google.colab.kernel.accessAllowed ? 'block' : 'none';\n",
              "\n",
              "        async function convertToInteractive(key) {\n",
              "          const element = document.querySelector('#df-f80585cd-1769-4c91-b935-2f00e6e9d9a9');\n",
              "          const dataTable =\n",
              "            await google.colab.kernel.invokeFunction('convertToInteractive',\n",
              "                                                     [key], {});\n",
              "          if (!dataTable) return;\n",
              "\n",
              "          const docLinkHtml = 'Like what you see? Visit the ' +\n",
              "            '<a target=\"_blank\" href=https://colab.research.google.com/notebooks/data_table.ipynb>data table notebook</a>'\n",
              "            + ' to learn more about interactive tables.';\n",
              "          element.innerHTML = '';\n",
              "          dataTable['output_type'] = 'display_data';\n",
              "          await google.colab.output.renderOutput(dataTable, element);\n",
              "          const docLink = document.createElement('div');\n",
              "          docLink.innerHTML = docLinkHtml;\n",
              "          element.appendChild(docLink);\n",
              "        }\n",
              "      </script>\n",
              "    </div>\n",
              "  </div>\n",
              "  "
            ]
          },
          "metadata": {},
          "execution_count": 173
        }
      ],
      "source": [
        "# df_train 에서 결측치가 있는 변수 리스트 N 을 활용해\n",
        "# 결측치가 있는 변수들의 평균을 알아봅시다\n",
        "# (힌트: describe 사용)\n",
        "\n",
        "df_train[N].describe()"
      ],
      "id": "QkQZuTUhdhqZ"
    },
    {
      "cell_type": "code",
      "execution_count": 174,
      "metadata": {
        "id": "t6csJttqus2W",
        "colab": {
          "base_uri": "https://localhost:8080/"
        },
        "outputId": "62405468-900e-424b-d663-8d1987510a10"
      },
      "outputs": [
        {
          "output_type": "execute_result",
          "data": {
            "text/plain": [
              "28.82793046746535"
            ]
          },
          "metadata": {},
          "execution_count": 174
        }
      ],
      "source": [
        "df_train[N].describe()['Age']['mean']"
      ],
      "id": "t6csJttqus2W"
    },
    {
      "cell_type": "code",
      "execution_count": 175,
      "metadata": {
        "colab": {
          "base_uri": "https://localhost:8080/"
        },
        "id": "kbxj2IdKdhqZ",
        "outputId": "2f9053d7-feac-4235-dc3d-19e7997c8baf"
      },
      "outputs": [
        {
          "output_type": "stream",
          "name": "stdout",
          "text": [
            "{'Age': 28.83, 'RoomService': 224.69, 'FoodCourt': 458.08, 'ShoppingMall': 173.73, 'Spa': 311.14, 'VRDeck': 304.85}\n"
          ]
        }
      ],
      "source": [
        "# 위에서 확인한 변수를 key, 평균값을 value로 가지는 딕셔너리 re 를 생성해봅시다\n",
        "# 단, 평균값은 소수점 2째 자리까지 생성합시다\n",
        "\n",
        "re = {}\n",
        "for col in df_train[N].describe().columns:\n",
        "    a = df_train[N].describe()[col]['mean']\n",
        "    a = round(a, 2)\n",
        "    re[col] = a\n",
        "print(re)"
      ],
      "id": "kbxj2IdKdhqZ"
    },
    {
      "cell_type": "code",
      "source": [
        "fe = {}\n",
        "for col in df_test[N].describe().columns:\n",
        "    a = df_test[N].describe()[col]['mean']\n",
        "    a = round(a, 2)\n",
        "    fe[col] = a\n",
        "print(fe)"
      ],
      "metadata": {
        "colab": {
          "base_uri": "https://localhost:8080/"
        },
        "id": "ZeqNf9I6t47J",
        "outputId": "867e2d2c-d77b-4c0a-d57d-a3b198e007f3"
      },
      "id": "ZeqNf9I6t47J",
      "execution_count": 176,
      "outputs": [
        {
          "output_type": "stream",
          "name": "stdout",
          "text": [
            "{'Age': 28.66, 'RoomService': 219.27, 'FoodCourt': 439.48, 'ShoppingMall': 177.3, 'Spa': 303.05, 'VRDeck': 310.71}\n"
          ]
        }
      ]
    },
    {
      "cell_type": "code",
      "execution_count": 177,
      "metadata": {
        "colab": {
          "base_uri": "https://localhost:8080/",
          "height": 175
        },
        "id": "4as6VOigdhqZ",
        "outputId": "86c3c25b-dfd6-487c-d030-65b381e417f7"
      },
      "outputs": [
        {
          "output_type": "execute_result",
          "data": {
            "text/plain": [
              "       PassengerId HomePlanet CryoSleep  Destination    VIP Transported  Deck  \\\n",
              "count         8693       8492      8476         8511   8490        8693  8494   \n",
              "unique        8693          3         2            3      2           2     8   \n",
              "top        0001_01      Earth     False  TRAPPIST-1e  False        True     F   \n",
              "freq             1       4602      5439         5915   8291        4378  2794   \n",
              "\n",
              "        Side  \n",
              "count   8494  \n",
              "unique     2  \n",
              "top        S  \n",
              "freq    4288  "
            ],
            "text/html": [
              "\n",
              "  <div id=\"df-23134b73-d6cb-45f0-8fc5-8955284003a6\">\n",
              "    <div class=\"colab-df-container\">\n",
              "      <div>\n",
              "<style scoped>\n",
              "    .dataframe tbody tr th:only-of-type {\n",
              "        vertical-align: middle;\n",
              "    }\n",
              "\n",
              "    .dataframe tbody tr th {\n",
              "        vertical-align: top;\n",
              "    }\n",
              "\n",
              "    .dataframe thead th {\n",
              "        text-align: right;\n",
              "    }\n",
              "</style>\n",
              "<table border=\"1\" class=\"dataframe\">\n",
              "  <thead>\n",
              "    <tr style=\"text-align: right;\">\n",
              "      <th></th>\n",
              "      <th>PassengerId</th>\n",
              "      <th>HomePlanet</th>\n",
              "      <th>CryoSleep</th>\n",
              "      <th>Destination</th>\n",
              "      <th>VIP</th>\n",
              "      <th>Transported</th>\n",
              "      <th>Deck</th>\n",
              "      <th>Side</th>\n",
              "    </tr>\n",
              "  </thead>\n",
              "  <tbody>\n",
              "    <tr>\n",
              "      <th>count</th>\n",
              "      <td>8693</td>\n",
              "      <td>8492</td>\n",
              "      <td>8476</td>\n",
              "      <td>8511</td>\n",
              "      <td>8490</td>\n",
              "      <td>8693</td>\n",
              "      <td>8494</td>\n",
              "      <td>8494</td>\n",
              "    </tr>\n",
              "    <tr>\n",
              "      <th>unique</th>\n",
              "      <td>8693</td>\n",
              "      <td>3</td>\n",
              "      <td>2</td>\n",
              "      <td>3</td>\n",
              "      <td>2</td>\n",
              "      <td>2</td>\n",
              "      <td>8</td>\n",
              "      <td>2</td>\n",
              "    </tr>\n",
              "    <tr>\n",
              "      <th>top</th>\n",
              "      <td>0001_01</td>\n",
              "      <td>Earth</td>\n",
              "      <td>False</td>\n",
              "      <td>TRAPPIST-1e</td>\n",
              "      <td>False</td>\n",
              "      <td>True</td>\n",
              "      <td>F</td>\n",
              "      <td>S</td>\n",
              "    </tr>\n",
              "    <tr>\n",
              "      <th>freq</th>\n",
              "      <td>1</td>\n",
              "      <td>4602</td>\n",
              "      <td>5439</td>\n",
              "      <td>5915</td>\n",
              "      <td>8291</td>\n",
              "      <td>4378</td>\n",
              "      <td>2794</td>\n",
              "      <td>4288</td>\n",
              "    </tr>\n",
              "  </tbody>\n",
              "</table>\n",
              "</div>\n",
              "      <button class=\"colab-df-convert\" onclick=\"convertToInteractive('df-23134b73-d6cb-45f0-8fc5-8955284003a6')\"\n",
              "              title=\"Convert this dataframe to an interactive table.\"\n",
              "              style=\"display:none;\">\n",
              "        \n",
              "  <svg xmlns=\"http://www.w3.org/2000/svg\" height=\"24px\"viewBox=\"0 0 24 24\"\n",
              "       width=\"24px\">\n",
              "    <path d=\"M0 0h24v24H0V0z\" fill=\"none\"/>\n",
              "    <path d=\"M18.56 5.44l.94 2.06.94-2.06 2.06-.94-2.06-.94-.94-2.06-.94 2.06-2.06.94zm-11 1L8.5 8.5l.94-2.06 2.06-.94-2.06-.94L8.5 2.5l-.94 2.06-2.06.94zm10 10l.94 2.06.94-2.06 2.06-.94-2.06-.94-.94-2.06-.94 2.06-2.06.94z\"/><path d=\"M17.41 7.96l-1.37-1.37c-.4-.4-.92-.59-1.43-.59-.52 0-1.04.2-1.43.59L10.3 9.45l-7.72 7.72c-.78.78-.78 2.05 0 2.83L4 21.41c.39.39.9.59 1.41.59.51 0 1.02-.2 1.41-.59l7.78-7.78 2.81-2.81c.8-.78.8-2.07 0-2.86zM5.41 20L4 18.59l7.72-7.72 1.47 1.35L5.41 20z\"/>\n",
              "  </svg>\n",
              "      </button>\n",
              "      \n",
              "  <style>\n",
              "    .colab-df-container {\n",
              "      display:flex;\n",
              "      flex-wrap:wrap;\n",
              "      gap: 12px;\n",
              "    }\n",
              "\n",
              "    .colab-df-convert {\n",
              "      background-color: #E8F0FE;\n",
              "      border: none;\n",
              "      border-radius: 50%;\n",
              "      cursor: pointer;\n",
              "      display: none;\n",
              "      fill: #1967D2;\n",
              "      height: 32px;\n",
              "      padding: 0 0 0 0;\n",
              "      width: 32px;\n",
              "    }\n",
              "\n",
              "    .colab-df-convert:hover {\n",
              "      background-color: #E2EBFA;\n",
              "      box-shadow: 0px 1px 2px rgba(60, 64, 67, 0.3), 0px 1px 3px 1px rgba(60, 64, 67, 0.15);\n",
              "      fill: #174EA6;\n",
              "    }\n",
              "\n",
              "    [theme=dark] .colab-df-convert {\n",
              "      background-color: #3B4455;\n",
              "      fill: #D2E3FC;\n",
              "    }\n",
              "\n",
              "    [theme=dark] .colab-df-convert:hover {\n",
              "      background-color: #434B5C;\n",
              "      box-shadow: 0px 1px 3px 1px rgba(0, 0, 0, 0.15);\n",
              "      filter: drop-shadow(0px 1px 2px rgba(0, 0, 0, 0.3));\n",
              "      fill: #FFFFFF;\n",
              "    }\n",
              "  </style>\n",
              "\n",
              "      <script>\n",
              "        const buttonEl =\n",
              "          document.querySelector('#df-23134b73-d6cb-45f0-8fc5-8955284003a6 button.colab-df-convert');\n",
              "        buttonEl.style.display =\n",
              "          google.colab.kernel.accessAllowed ? 'block' : 'none';\n",
              "\n",
              "        async function convertToInteractive(key) {\n",
              "          const element = document.querySelector('#df-23134b73-d6cb-45f0-8fc5-8955284003a6');\n",
              "          const dataTable =\n",
              "            await google.colab.kernel.invokeFunction('convertToInteractive',\n",
              "                                                     [key], {});\n",
              "          if (!dataTable) return;\n",
              "\n",
              "          const docLinkHtml = 'Like what you see? Visit the ' +\n",
              "            '<a target=\"_blank\" href=https://colab.research.google.com/notebooks/data_table.ipynb>data table notebook</a>'\n",
              "            + ' to learn more about interactive tables.';\n",
              "          element.innerHTML = '';\n",
              "          dataTable['output_type'] = 'display_data';\n",
              "          await google.colab.output.renderOutput(dataTable, element);\n",
              "          const docLink = document.createElement('div');\n",
              "          docLink.innerHTML = docLinkHtml;\n",
              "          element.appendChild(docLink);\n",
              "        }\n",
              "      </script>\n",
              "    </div>\n",
              "  </div>\n",
              "  "
            ]
          },
          "metadata": {},
          "execution_count": 177
        }
      ],
      "source": [
        "# df_train에서 결측치가 있는 변수 리스트 N 을 활용해\n",
        "# 결측치가 있는 변수들의 최빈값을 알아봅시다\n",
        "# (힌트: describe exclude=np.number 사용)\n",
        "\n",
        "import numpy as np\n",
        "df_train.describe(exclude=np.number)"
      ],
      "id": "4as6VOigdhqZ"
    },
    {
      "cell_type": "code",
      "execution_count": 178,
      "metadata": {
        "colab": {
          "base_uri": "https://localhost:8080/"
        },
        "id": "sUwe068cdhqa",
        "outputId": "429a7d4b-0b3b-4469-d323-a2e721c40308"
      },
      "outputs": [
        {
          "output_type": "stream",
          "name": "stdout",
          "text": [
            "{'Age': 28.83, 'RoomService': 224.69, 'FoodCourt': 458.08, 'ShoppingMall': 173.73, 'Spa': 311.14, 'VRDeck': 304.85, 'PassengerId': '0001_01', 'HomePlanet': 'Earth', 'CryoSleep': False, 'Destination': 'TRAPPIST-1e', 'VIP': False, 'Transported': True, 'Deck': 'F', 'Side': 'S'}\n"
          ]
        }
      ],
      "source": [
        "# 위에서 확인한 변수를 key, 최빈값을 value로 설정해\n",
        "# re 딕셔너리에 추가해봅시다\n",
        "\n",
        "for col in df_train.describe(exclude=np.number).columns:\n",
        "    a = df_train.describe(exclude=np.number)[col]['top']\n",
        "    re[col] = a\n",
        "print(re)"
      ],
      "id": "sUwe068cdhqa"
    },
    {
      "cell_type": "code",
      "source": [
        "for col in df_test.describe(exclude=np.number).columns:\n",
        "    a = df_train.describe(exclude=np.number)[col]['top']\n",
        "    fe[col] = a\n",
        "print(fe)"
      ],
      "metadata": {
        "colab": {
          "base_uri": "https://localhost:8080/"
        },
        "id": "5JtivLpilhal",
        "outputId": "38eaae8b-f5dd-4d33-b900-a83f1e3cb647"
      },
      "id": "5JtivLpilhal",
      "execution_count": 179,
      "outputs": [
        {
          "output_type": "stream",
          "name": "stdout",
          "text": [
            "{'Age': 28.66, 'RoomService': 219.27, 'FoodCourt': 439.48, 'ShoppingMall': 177.3, 'Spa': 303.05, 'VRDeck': 310.71, 'PassengerId': '0001_01', 'HomePlanet': 'Earth', 'CryoSleep': False, 'Destination': 'TRAPPIST-1e', 'VIP': False, 'Deck': 'F', 'Side': 'S'}\n"
          ]
        }
      ]
    },
    {
      "cell_type": "markdown",
      "metadata": {
        "id": "9OwJ6yzpgBzZ"
      },
      "source": [
        "<font color=green> re 딕셔너리를 수정하고, 결측치 대체 부분부터 코드를 실행하면 됩니당 </font>    \n",
        "\n",
        "---"
      ],
      "id": "9OwJ6yzpgBzZ"
    },
    {
      "cell_type": "code",
      "execution_count": 180,
      "metadata": {
        "id": "FDQDU-_Mdhqa"
      },
      "outputs": [],
      "source": [
        "# 결측치가 있는 변수에 대체값을 넣어 보정하기\n",
        "# 데이터프레임.fillna(대체할 값)\n",
        "\n",
        "for key, value in re.items():\n",
        "    df_train[key] = df_train[key].fillna(value)"
      ],
      "id": "FDQDU-_Mdhqa"
    },
    {
      "cell_type": "code",
      "source": [
        "for key, value in fe.items():\n",
        "    df_test[key] = df_test[key].fillna(value) # test에는 Transported 컬럼이 없고, 사전에는 Transported가 있어서 결측치 정리 불가"
      ],
      "metadata": {
        "id": "pkUdS4aJuGng"
      },
      "id": "pkUdS4aJuGng",
      "execution_count": 181,
      "outputs": []
    },
    {
      "cell_type": "code",
      "execution_count": 182,
      "metadata": {
        "colab": {
          "base_uri": "https://localhost:8080/"
        },
        "id": "i8Tec_Zxdhqa",
        "outputId": "8abb369d-ce30-4b7e-85bb-ba6d45a191b9"
      },
      "outputs": [
        {
          "output_type": "execute_result",
          "data": {
            "text/plain": [
              "PassengerId     0\n",
              "HomePlanet      0\n",
              "CryoSleep       0\n",
              "Destination     0\n",
              "Age             0\n",
              "VIP             0\n",
              "RoomService     0\n",
              "FoodCourt       0\n",
              "ShoppingMall    0\n",
              "Spa             0\n",
              "VRDeck          0\n",
              "Transported     0\n",
              "Deck            0\n",
              "Side            0\n",
              "dtype: int64"
            ]
          },
          "metadata": {},
          "execution_count": 182
        }
      ],
      "source": [
        "df_train.isna().sum()"
      ],
      "id": "i8Tec_Zxdhqa"
    },
    {
      "cell_type": "code",
      "source": [
        "df_test.isna().sum()"
      ],
      "metadata": {
        "colab": {
          "base_uri": "https://localhost:8080/"
        },
        "id": "QjtkA9mqmEw7",
        "outputId": "6684d4d9-23dc-4d39-a67f-66959c577b8b"
      },
      "id": "QjtkA9mqmEw7",
      "execution_count": 183,
      "outputs": [
        {
          "output_type": "execute_result",
          "data": {
            "text/plain": [
              "PassengerId     0\n",
              "HomePlanet      0\n",
              "CryoSleep       0\n",
              "Destination     0\n",
              "Age             0\n",
              "VIP             0\n",
              "RoomService     0\n",
              "FoodCourt       0\n",
              "ShoppingMall    0\n",
              "Spa             0\n",
              "VRDeck          0\n",
              "Deck            0\n",
              "Side            0\n",
              "dtype: int64"
            ]
          },
          "metadata": {},
          "execution_count": 183
        }
      ]
    },
    {
      "cell_type": "markdown",
      "source": [
        "# 2-2. EDA"
      ],
      "metadata": {
        "id": "KB1RojGB_FoW"
      },
      "id": "KB1RojGB_FoW"
    },
    {
      "cell_type": "markdown",
      "metadata": {
        "id": "CPB_iLzcdhqc"
      },
      "source": [
        "## 레이블인코딩 / 원핫인코딩"
      ],
      "id": "CPB_iLzcdhqc"
    },
    {
      "cell_type": "code",
      "source": [
        "df_train.info()"
      ],
      "metadata": {
        "colab": {
          "base_uri": "https://localhost:8080/"
        },
        "id": "hx2jclWWXJnj",
        "outputId": "5ed028ef-2cfe-47b7-88fe-58fca5f9143d"
      },
      "id": "hx2jclWWXJnj",
      "execution_count": 184,
      "outputs": [
        {
          "output_type": "stream",
          "name": "stdout",
          "text": [
            "<class 'pandas.core.frame.DataFrame'>\n",
            "RangeIndex: 8693 entries, 0 to 8692\n",
            "Data columns (total 14 columns):\n",
            " #   Column        Non-Null Count  Dtype  \n",
            "---  ------        --------------  -----  \n",
            " 0   PassengerId   8693 non-null   object \n",
            " 1   HomePlanet    8693 non-null   object \n",
            " 2   CryoSleep     8693 non-null   bool   \n",
            " 3   Destination   8693 non-null   object \n",
            " 4   Age           8693 non-null   float64\n",
            " 5   VIP           8693 non-null   bool   \n",
            " 6   RoomService   8693 non-null   float64\n",
            " 7   FoodCourt     8693 non-null   float64\n",
            " 8   ShoppingMall  8693 non-null   float64\n",
            " 9   Spa           8693 non-null   float64\n",
            " 10  VRDeck        8693 non-null   float64\n",
            " 11  Transported   8693 non-null   bool   \n",
            " 12  Deck          8693 non-null   object \n",
            " 13  Side          8693 non-null   object \n",
            "dtypes: bool(3), float64(6), object(5)\n",
            "memory usage: 772.6+ KB\n"
          ]
        }
      ]
    },
    {
      "cell_type": "code",
      "execution_count": 185,
      "metadata": {
        "id": "uYfC9NPcdhqd",
        "colab": {
          "base_uri": "https://localhost:8080/",
          "height": 104
        },
        "outputId": "e2eec392-b3c6-41e4-bc84-3038d35a226e"
      },
      "outputs": [
        {
          "output_type": "execute_result",
          "data": {
            "text/plain": [
              "\"\\ndef onehot_encoding(df_train, df_test, column):\\n    from sklearn.preprocessing import OneHotEncoder\\n\\n    # labelencoder 생성\\n    oe = OneHotEncoder(sparse=False)\\n\\n    # data 입력\\n    # (선형회귀와 다른 점): test data가 없더라도 그냥 가~\\n    if df_test is not None:\\n        data = pd.concat([df_train[[column]], df_test[[column]]], axis=0).reset_index(drop=True) \\n    else:\\n        data = df_train[[column]]\\n    oe.fit( data )                                 \\n\\n    # 적용\\n    tr_onehot_enc = oe.transform( df_train[[column]] )\\n    print(tr_onehot_enc.shape)\\n    \\n    if df_test is not None:\\n        te_onehot_enc = oe.transform( df_test[[column]] )\\n        print(te_onehot_enc.shape)\\n    \\n    #columns = oe.categories_[0]\\n    columns = ['{}_{}'.format(column, i) \\n               for i in range(tr_onehot_enc.shape[1])]\\n    df_onehot_tr = pd.DataFrame(tr_onehot_enc, columns=columns)  \\n    df_train = pd.concat((df_train.reset_index(drop=True), df_onehot_tr), axis=1)\\n    \\n    if df_test is not None:\\n        df_onehot_te = pd.DataFrame(te_onehot_enc, columns=columns)\\n        df_test = pd.concat((df_test.reset_index(drop=True), df_onehot_te), axis=1)\\n    else:\\n        df_test = None\\n    return df_train, df_test\\n\""
            ],
            "application/vnd.google.colaboratory.intrinsic+json": {
              "type": "string"
            }
          },
          "metadata": {},
          "execution_count": 185
        }
      ],
      "source": [
        "import pandas as pd\n",
        "import numpy as np\n",
        "\n",
        "\n",
        "def label_encoding(df_train, df_test, column):\n",
        "    from sklearn.preprocessing import LabelEncoder\n",
        "\n",
        "    # labelencoder 생성\n",
        "    le = LabelEncoder()\n",
        "\n",
        "    # data 입력 \n",
        "    le.fit( df_train[column] )                                 \n",
        "\n",
        "    print(\"({}) classes: {}\".format(column, le.classes_))\n",
        "\n",
        "    # 적용\n",
        "    new_column = '{}_encoded'.format(column)\n",
        "    df_train[new_column] = le.transform( df_train[column] )    \n",
        "    df_train = df_train.reset_index(drop=True)\n",
        "    \n",
        "    if df_test is not None:\n",
        "        df_test[new_column] = le.transform( df_test[column] )      \n",
        "        df_test = df_test.reset_index(drop=True)\n",
        "    else:\n",
        "        df_test = None\n",
        "    return df_train, df_test\n",
        "\n",
        "\"\"\"\n",
        "def onehot_encoding(df_train, df_test, column):\n",
        "    from sklearn.preprocessing import OneHotEncoder\n",
        "\n",
        "    # labelencoder 생성\n",
        "    oe = OneHotEncoder(sparse=False)\n",
        "\n",
        "    # data 입력\n",
        "    # (선형회귀와 다른 점): test data가 없더라도 그냥 가~\n",
        "    if df_test is not None:\n",
        "        data = pd.concat([df_train[[column]], df_test[[column]]], axis=0).reset_index(drop=True) \n",
        "    else:\n",
        "        data = df_train[[column]]\n",
        "    oe.fit( data )                                 \n",
        "\n",
        "    # 적용\n",
        "    tr_onehot_enc = oe.transform( df_train[[column]] )\n",
        "    print(tr_onehot_enc.shape)\n",
        "    \n",
        "    if df_test is not None:\n",
        "        te_onehot_enc = oe.transform( df_test[[column]] )\n",
        "        print(te_onehot_enc.shape)\n",
        "    \n",
        "    #columns = oe.categories_[0]\n",
        "    columns = ['{}_{}'.format(column, i) \n",
        "               for i in range(tr_onehot_enc.shape[1])]\n",
        "    df_onehot_tr = pd.DataFrame(tr_onehot_enc, columns=columns)  \n",
        "    df_train = pd.concat((df_train.reset_index(drop=True), df_onehot_tr), axis=1)\n",
        "    \n",
        "    if df_test is not None:\n",
        "        df_onehot_te = pd.DataFrame(te_onehot_enc, columns=columns)\n",
        "        df_test = pd.concat((df_test.reset_index(drop=True), df_onehot_te), axis=1)\n",
        "    else:\n",
        "        df_test = None\n",
        "    return df_train, df_test\n",
        "\"\"\""
      ],
      "id": "uYfC9NPcdhqd"
    },
    {
      "cell_type": "markdown",
      "metadata": {
        "id": "Otvr5QbUdhqd"
      },
      "source": [
        "df_train 로 원핫인코딩 하기"
      ],
      "id": "Otvr5QbUdhqd"
    },
    {
      "cell_type": "code",
      "source": [
        "df_train.info()"
      ],
      "metadata": {
        "colab": {
          "base_uri": "https://localhost:8080/"
        },
        "id": "-n0_ZYx0nESY",
        "outputId": "9f65d037-b882-42a2-f1b6-669a00a9c74b"
      },
      "id": "-n0_ZYx0nESY",
      "execution_count": 186,
      "outputs": [
        {
          "output_type": "stream",
          "name": "stdout",
          "text": [
            "<class 'pandas.core.frame.DataFrame'>\n",
            "RangeIndex: 8693 entries, 0 to 8692\n",
            "Data columns (total 14 columns):\n",
            " #   Column        Non-Null Count  Dtype  \n",
            "---  ------        --------------  -----  \n",
            " 0   PassengerId   8693 non-null   object \n",
            " 1   HomePlanet    8693 non-null   object \n",
            " 2   CryoSleep     8693 non-null   bool   \n",
            " 3   Destination   8693 non-null   object \n",
            " 4   Age           8693 non-null   float64\n",
            " 5   VIP           8693 non-null   bool   \n",
            " 6   RoomService   8693 non-null   float64\n",
            " 7   FoodCourt     8693 non-null   float64\n",
            " 8   ShoppingMall  8693 non-null   float64\n",
            " 9   Spa           8693 non-null   float64\n",
            " 10  VRDeck        8693 non-null   float64\n",
            " 11  Transported   8693 non-null   bool   \n",
            " 12  Deck          8693 non-null   object \n",
            " 13  Side          8693 non-null   object \n",
            "dtypes: bool(3), float64(6), object(5)\n",
            "memory usage: 772.6+ KB\n"
          ]
        }
      ]
    },
    {
      "cell_type": "code",
      "source": [
        "df_test.info()"
      ],
      "metadata": {
        "colab": {
          "base_uri": "https://localhost:8080/"
        },
        "id": "JJRXbg8AnEHa",
        "outputId": "42642ede-47f1-4f38-d336-c57c4087aee1"
      },
      "id": "JJRXbg8AnEHa",
      "execution_count": 187,
      "outputs": [
        {
          "output_type": "stream",
          "name": "stdout",
          "text": [
            "<class 'pandas.core.frame.DataFrame'>\n",
            "RangeIndex: 4277 entries, 0 to 4276\n",
            "Data columns (total 13 columns):\n",
            " #   Column        Non-Null Count  Dtype  \n",
            "---  ------        --------------  -----  \n",
            " 0   PassengerId   4277 non-null   object \n",
            " 1   HomePlanet    4277 non-null   object \n",
            " 2   CryoSleep     4277 non-null   bool   \n",
            " 3   Destination   4277 non-null   object \n",
            " 4   Age           4277 non-null   float64\n",
            " 5   VIP           4277 non-null   bool   \n",
            " 6   RoomService   4277 non-null   float64\n",
            " 7   FoodCourt     4277 non-null   float64\n",
            " 8   ShoppingMall  4277 non-null   float64\n",
            " 9   Spa           4277 non-null   float64\n",
            " 10  VRDeck        4277 non-null   float64\n",
            " 11  Deck          4277 non-null   object \n",
            " 12  Side          4277 non-null   object \n",
            "dtypes: bool(2), float64(6), object(5)\n",
            "memory usage: 376.0+ KB\n"
          ]
        }
      ]
    },
    {
      "cell_type": "code",
      "source": [
        "df_train.columns"
      ],
      "metadata": {
        "colab": {
          "base_uri": "https://localhost:8080/"
        },
        "id": "xfRDzEE3nTKP",
        "outputId": "78d76a33-fb79-4ac6-9e1f-ce3519ece4b1"
      },
      "id": "xfRDzEE3nTKP",
      "execution_count": 188,
      "outputs": [
        {
          "output_type": "execute_result",
          "data": {
            "text/plain": [
              "Index(['PassengerId', 'HomePlanet', 'CryoSleep', 'Destination', 'Age', 'VIP',\n",
              "       'RoomService', 'FoodCourt', 'ShoppingMall', 'Spa', 'VRDeck',\n",
              "       'Transported', 'Deck', 'Side'],\n",
              "      dtype='object')"
            ]
          },
          "metadata": {},
          "execution_count": 188
        }
      ]
    },
    {
      "cell_type": "code",
      "source": [
        "df_train.head()"
      ],
      "metadata": {
        "id": "Xwcn_N6qp6g1",
        "colab": {
          "base_uri": "https://localhost:8080/",
          "height": 206
        },
        "outputId": "ac981eb5-32e9-45d1-9de2-c78904b2554e"
      },
      "id": "Xwcn_N6qp6g1",
      "execution_count": 189,
      "outputs": [
        {
          "output_type": "execute_result",
          "data": {
            "text/plain": [
              "  PassengerId HomePlanet  CryoSleep  Destination   Age    VIP  RoomService  \\\n",
              "0     0001_01     Europa      False  TRAPPIST-1e  39.0  False          0.0   \n",
              "1     0002_01      Earth      False  TRAPPIST-1e  24.0  False        109.0   \n",
              "2     0003_01     Europa      False  TRAPPIST-1e  58.0   True         43.0   \n",
              "3     0003_02     Europa      False  TRAPPIST-1e  33.0  False          0.0   \n",
              "4     0004_01      Earth      False  TRAPPIST-1e  16.0  False        303.0   \n",
              "\n",
              "   FoodCourt  ShoppingMall     Spa  VRDeck  Transported Deck Side  \n",
              "0        0.0           0.0     0.0     0.0        False    B    P  \n",
              "1        9.0          25.0   549.0    44.0         True    F    S  \n",
              "2     3576.0           0.0  6715.0    49.0        False    A    S  \n",
              "3     1283.0         371.0  3329.0   193.0        False    A    S  \n",
              "4       70.0         151.0   565.0     2.0         True    F    S  "
            ],
            "text/html": [
              "\n",
              "  <div id=\"df-2f8f3d7d-ac90-4f04-badc-f461b55c4e91\">\n",
              "    <div class=\"colab-df-container\">\n",
              "      <div>\n",
              "<style scoped>\n",
              "    .dataframe tbody tr th:only-of-type {\n",
              "        vertical-align: middle;\n",
              "    }\n",
              "\n",
              "    .dataframe tbody tr th {\n",
              "        vertical-align: top;\n",
              "    }\n",
              "\n",
              "    .dataframe thead th {\n",
              "        text-align: right;\n",
              "    }\n",
              "</style>\n",
              "<table border=\"1\" class=\"dataframe\">\n",
              "  <thead>\n",
              "    <tr style=\"text-align: right;\">\n",
              "      <th></th>\n",
              "      <th>PassengerId</th>\n",
              "      <th>HomePlanet</th>\n",
              "      <th>CryoSleep</th>\n",
              "      <th>Destination</th>\n",
              "      <th>Age</th>\n",
              "      <th>VIP</th>\n",
              "      <th>RoomService</th>\n",
              "      <th>FoodCourt</th>\n",
              "      <th>ShoppingMall</th>\n",
              "      <th>Spa</th>\n",
              "      <th>VRDeck</th>\n",
              "      <th>Transported</th>\n",
              "      <th>Deck</th>\n",
              "      <th>Side</th>\n",
              "    </tr>\n",
              "  </thead>\n",
              "  <tbody>\n",
              "    <tr>\n",
              "      <th>0</th>\n",
              "      <td>0001_01</td>\n",
              "      <td>Europa</td>\n",
              "      <td>False</td>\n",
              "      <td>TRAPPIST-1e</td>\n",
              "      <td>39.0</td>\n",
              "      <td>False</td>\n",
              "      <td>0.0</td>\n",
              "      <td>0.0</td>\n",
              "      <td>0.0</td>\n",
              "      <td>0.0</td>\n",
              "      <td>0.0</td>\n",
              "      <td>False</td>\n",
              "      <td>B</td>\n",
              "      <td>P</td>\n",
              "    </tr>\n",
              "    <tr>\n",
              "      <th>1</th>\n",
              "      <td>0002_01</td>\n",
              "      <td>Earth</td>\n",
              "      <td>False</td>\n",
              "      <td>TRAPPIST-1e</td>\n",
              "      <td>24.0</td>\n",
              "      <td>False</td>\n",
              "      <td>109.0</td>\n",
              "      <td>9.0</td>\n",
              "      <td>25.0</td>\n",
              "      <td>549.0</td>\n",
              "      <td>44.0</td>\n",
              "      <td>True</td>\n",
              "      <td>F</td>\n",
              "      <td>S</td>\n",
              "    </tr>\n",
              "    <tr>\n",
              "      <th>2</th>\n",
              "      <td>0003_01</td>\n",
              "      <td>Europa</td>\n",
              "      <td>False</td>\n",
              "      <td>TRAPPIST-1e</td>\n",
              "      <td>58.0</td>\n",
              "      <td>True</td>\n",
              "      <td>43.0</td>\n",
              "      <td>3576.0</td>\n",
              "      <td>0.0</td>\n",
              "      <td>6715.0</td>\n",
              "      <td>49.0</td>\n",
              "      <td>False</td>\n",
              "      <td>A</td>\n",
              "      <td>S</td>\n",
              "    </tr>\n",
              "    <tr>\n",
              "      <th>3</th>\n",
              "      <td>0003_02</td>\n",
              "      <td>Europa</td>\n",
              "      <td>False</td>\n",
              "      <td>TRAPPIST-1e</td>\n",
              "      <td>33.0</td>\n",
              "      <td>False</td>\n",
              "      <td>0.0</td>\n",
              "      <td>1283.0</td>\n",
              "      <td>371.0</td>\n",
              "      <td>3329.0</td>\n",
              "      <td>193.0</td>\n",
              "      <td>False</td>\n",
              "      <td>A</td>\n",
              "      <td>S</td>\n",
              "    </tr>\n",
              "    <tr>\n",
              "      <th>4</th>\n",
              "      <td>0004_01</td>\n",
              "      <td>Earth</td>\n",
              "      <td>False</td>\n",
              "      <td>TRAPPIST-1e</td>\n",
              "      <td>16.0</td>\n",
              "      <td>False</td>\n",
              "      <td>303.0</td>\n",
              "      <td>70.0</td>\n",
              "      <td>151.0</td>\n",
              "      <td>565.0</td>\n",
              "      <td>2.0</td>\n",
              "      <td>True</td>\n",
              "      <td>F</td>\n",
              "      <td>S</td>\n",
              "    </tr>\n",
              "  </tbody>\n",
              "</table>\n",
              "</div>\n",
              "      <button class=\"colab-df-convert\" onclick=\"convertToInteractive('df-2f8f3d7d-ac90-4f04-badc-f461b55c4e91')\"\n",
              "              title=\"Convert this dataframe to an interactive table.\"\n",
              "              style=\"display:none;\">\n",
              "        \n",
              "  <svg xmlns=\"http://www.w3.org/2000/svg\" height=\"24px\"viewBox=\"0 0 24 24\"\n",
              "       width=\"24px\">\n",
              "    <path d=\"M0 0h24v24H0V0z\" fill=\"none\"/>\n",
              "    <path d=\"M18.56 5.44l.94 2.06.94-2.06 2.06-.94-2.06-.94-.94-2.06-.94 2.06-2.06.94zm-11 1L8.5 8.5l.94-2.06 2.06-.94-2.06-.94L8.5 2.5l-.94 2.06-2.06.94zm10 10l.94 2.06.94-2.06 2.06-.94-2.06-.94-.94-2.06-.94 2.06-2.06.94z\"/><path d=\"M17.41 7.96l-1.37-1.37c-.4-.4-.92-.59-1.43-.59-.52 0-1.04.2-1.43.59L10.3 9.45l-7.72 7.72c-.78.78-.78 2.05 0 2.83L4 21.41c.39.39.9.59 1.41.59.51 0 1.02-.2 1.41-.59l7.78-7.78 2.81-2.81c.8-.78.8-2.07 0-2.86zM5.41 20L4 18.59l7.72-7.72 1.47 1.35L5.41 20z\"/>\n",
              "  </svg>\n",
              "      </button>\n",
              "      \n",
              "  <style>\n",
              "    .colab-df-container {\n",
              "      display:flex;\n",
              "      flex-wrap:wrap;\n",
              "      gap: 12px;\n",
              "    }\n",
              "\n",
              "    .colab-df-convert {\n",
              "      background-color: #E8F0FE;\n",
              "      border: none;\n",
              "      border-radius: 50%;\n",
              "      cursor: pointer;\n",
              "      display: none;\n",
              "      fill: #1967D2;\n",
              "      height: 32px;\n",
              "      padding: 0 0 0 0;\n",
              "      width: 32px;\n",
              "    }\n",
              "\n",
              "    .colab-df-convert:hover {\n",
              "      background-color: #E2EBFA;\n",
              "      box-shadow: 0px 1px 2px rgba(60, 64, 67, 0.3), 0px 1px 3px 1px rgba(60, 64, 67, 0.15);\n",
              "      fill: #174EA6;\n",
              "    }\n",
              "\n",
              "    [theme=dark] .colab-df-convert {\n",
              "      background-color: #3B4455;\n",
              "      fill: #D2E3FC;\n",
              "    }\n",
              "\n",
              "    [theme=dark] .colab-df-convert:hover {\n",
              "      background-color: #434B5C;\n",
              "      box-shadow: 0px 1px 3px 1px rgba(0, 0, 0, 0.15);\n",
              "      filter: drop-shadow(0px 1px 2px rgba(0, 0, 0, 0.3));\n",
              "      fill: #FFFFFF;\n",
              "    }\n",
              "  </style>\n",
              "\n",
              "      <script>\n",
              "        const buttonEl =\n",
              "          document.querySelector('#df-2f8f3d7d-ac90-4f04-badc-f461b55c4e91 button.colab-df-convert');\n",
              "        buttonEl.style.display =\n",
              "          google.colab.kernel.accessAllowed ? 'block' : 'none';\n",
              "\n",
              "        async function convertToInteractive(key) {\n",
              "          const element = document.querySelector('#df-2f8f3d7d-ac90-4f04-badc-f461b55c4e91');\n",
              "          const dataTable =\n",
              "            await google.colab.kernel.invokeFunction('convertToInteractive',\n",
              "                                                     [key], {});\n",
              "          if (!dataTable) return;\n",
              "\n",
              "          const docLinkHtml = 'Like what you see? Visit the ' +\n",
              "            '<a target=\"_blank\" href=https://colab.research.google.com/notebooks/data_table.ipynb>data table notebook</a>'\n",
              "            + ' to learn more about interactive tables.';\n",
              "          element.innerHTML = '';\n",
              "          dataTable['output_type'] = 'display_data';\n",
              "          await google.colab.output.renderOutput(dataTable, element);\n",
              "          const docLink = document.createElement('div');\n",
              "          docLink.innerHTML = docLinkHtml;\n",
              "          element.appendChild(docLink);\n",
              "        }\n",
              "      </script>\n",
              "    </div>\n",
              "  </div>\n",
              "  "
            ]
          },
          "metadata": {},
          "execution_count": 189
        }
      ]
    },
    {
      "cell_type": "code",
      "execution_count": 190,
      "metadata": {
        "colab": {
          "base_uri": "https://localhost:8080/"
        },
        "id": "Mu1zZZjxdhqd",
        "outputId": "25d93faa-04fd-4bbf-a3fc-20abd2f4f102"
      },
      "outputs": [
        {
          "output_type": "stream",
          "name": "stdout",
          "text": [
            "(PassengerId) classes: ['0001_01' '0002_01' '0003_01' ... '9279_01' '9280_01' '9280_02']\n",
            "(HomePlanet) classes: ['Earth' 'Europa' 'Mars']\n",
            "(CryoSleep) classes: [False  True]\n",
            "(Destination) classes: ['55 Cancri e' 'PSO J318.5-22' 'TRAPPIST-1e']\n",
            "(VIP) classes: [False  True]\n",
            "(Deck) classes: ['A' 'B' 'C' 'D' 'E' 'F' 'G' 'T']\n",
            "(Side) classes: ['P' 'S']\n"
          ]
        }
      ],
      "source": [
        "object_type = ['PassengerId', 'HomePlanet', 'CryoSleep', 'Destination', 'VIP', 'Deck', 'Side']\n",
        "\n",
        "for column in object_type:\n",
        "    df_train, _ = label_encoding(df_train, None, column)\n",
        "    #df_train, _ = onehot_encoding(df_train, None, f'{column}_encoded')"
      ],
      "id": "Mu1zZZjxdhqd"
    },
    {
      "cell_type": "code",
      "source": [
        "object_type2 = ['PassengerId', 'HomePlanet', 'CryoSleep', 'Destination', 'VIP', 'Deck', 'Side']\n",
        "\n",
        "for column in object_type2:\n",
        "    df_test, _ = label_encoding(df_test, None, column)\n",
        "    #df_test, _ = onehot_encoding(df_test, None, f'{column}_encoded')"
      ],
      "metadata": {
        "colab": {
          "base_uri": "https://localhost:8080/"
        },
        "id": "sayZ2kLcu68e",
        "outputId": "3372fc23-48e2-4c5d-aac7-699a24a57e20"
      },
      "id": "sayZ2kLcu68e",
      "execution_count": 191,
      "outputs": [
        {
          "output_type": "stream",
          "name": "stdout",
          "text": [
            "(PassengerId) classes: ['0013_01' '0018_01' '0019_01' ... '9271_01' '9273_01' '9277_01']\n",
            "(HomePlanet) classes: ['Earth' 'Europa' 'Mars']\n",
            "(CryoSleep) classes: [False  True]\n",
            "(Destination) classes: ['55 Cancri e' 'PSO J318.5-22' 'TRAPPIST-1e']\n",
            "(VIP) classes: [False  True]\n",
            "(Deck) classes: ['A' 'B' 'C' 'D' 'E' 'F' 'G' 'T']\n",
            "(Side) classes: ['P' 'S']\n"
          ]
        }
      ]
    },
    {
      "cell_type": "code",
      "source": [
        "df_train.info()"
      ],
      "metadata": {
        "colab": {
          "base_uri": "https://localhost:8080/"
        },
        "id": "BOTJFdxCoGQm",
        "outputId": "54d0ab7f-3997-4027-b954-0ad71cd350f4"
      },
      "id": "BOTJFdxCoGQm",
      "execution_count": 192,
      "outputs": [
        {
          "output_type": "stream",
          "name": "stdout",
          "text": [
            "<class 'pandas.core.frame.DataFrame'>\n",
            "RangeIndex: 8693 entries, 0 to 8692\n",
            "Data columns (total 21 columns):\n",
            " #   Column               Non-Null Count  Dtype  \n",
            "---  ------               --------------  -----  \n",
            " 0   PassengerId          8693 non-null   object \n",
            " 1   HomePlanet           8693 non-null   object \n",
            " 2   CryoSleep            8693 non-null   bool   \n",
            " 3   Destination          8693 non-null   object \n",
            " 4   Age                  8693 non-null   float64\n",
            " 5   VIP                  8693 non-null   bool   \n",
            " 6   RoomService          8693 non-null   float64\n",
            " 7   FoodCourt            8693 non-null   float64\n",
            " 8   ShoppingMall         8693 non-null   float64\n",
            " 9   Spa                  8693 non-null   float64\n",
            " 10  VRDeck               8693 non-null   float64\n",
            " 11  Transported          8693 non-null   bool   \n",
            " 12  Deck                 8693 non-null   object \n",
            " 13  Side                 8693 non-null   object \n",
            " 14  PassengerId_encoded  8693 non-null   int64  \n",
            " 15  HomePlanet_encoded   8693 non-null   int64  \n",
            " 16  CryoSleep_encoded    8693 non-null   int64  \n",
            " 17  Destination_encoded  8693 non-null   int64  \n",
            " 18  VIP_encoded          8693 non-null   int64  \n",
            " 19  Deck_encoded         8693 non-null   int64  \n",
            " 20  Side_encoded         8693 non-null   int64  \n",
            "dtypes: bool(3), float64(6), int64(7), object(5)\n",
            "memory usage: 1.2+ MB\n"
          ]
        }
      ]
    },
    {
      "cell_type": "code",
      "source": [
        "len(df_train.columns)"
      ],
      "metadata": {
        "colab": {
          "base_uri": "https://localhost:8080/"
        },
        "id": "KCLi3-8rZOS9",
        "outputId": "f70871e6-58e2-4b72-e5e5-d08eaa910946"
      },
      "id": "KCLi3-8rZOS9",
      "execution_count": 193,
      "outputs": [
        {
          "output_type": "execute_result",
          "data": {
            "text/plain": [
              "21"
            ]
          },
          "metadata": {},
          "execution_count": 193
        }
      ]
    },
    {
      "cell_type": "code",
      "source": [
        "len(df_test.columns)"
      ],
      "metadata": {
        "colab": {
          "base_uri": "https://localhost:8080/"
        },
        "id": "L9_nCWliZS0i",
        "outputId": "e2354814-bfe2-44db-a5ee-e662111d593c"
      },
      "id": "L9_nCWliZS0i",
      "execution_count": 194,
      "outputs": [
        {
          "output_type": "execute_result",
          "data": {
            "text/plain": [
              "20"
            ]
          },
          "metadata": {},
          "execution_count": 194
        }
      ]
    },
    {
      "cell_type": "code",
      "source": [
        "df_test.info()"
      ],
      "metadata": {
        "colab": {
          "base_uri": "https://localhost:8080/"
        },
        "id": "1jyYdsGUoOoz",
        "outputId": "19d56576-db74-42b8-e667-130fffae33b2"
      },
      "id": "1jyYdsGUoOoz",
      "execution_count": 195,
      "outputs": [
        {
          "output_type": "stream",
          "name": "stdout",
          "text": [
            "<class 'pandas.core.frame.DataFrame'>\n",
            "RangeIndex: 4277 entries, 0 to 4276\n",
            "Data columns (total 20 columns):\n",
            " #   Column               Non-Null Count  Dtype  \n",
            "---  ------               --------------  -----  \n",
            " 0   PassengerId          4277 non-null   object \n",
            " 1   HomePlanet           4277 non-null   object \n",
            " 2   CryoSleep            4277 non-null   bool   \n",
            " 3   Destination          4277 non-null   object \n",
            " 4   Age                  4277 non-null   float64\n",
            " 5   VIP                  4277 non-null   bool   \n",
            " 6   RoomService          4277 non-null   float64\n",
            " 7   FoodCourt            4277 non-null   float64\n",
            " 8   ShoppingMall         4277 non-null   float64\n",
            " 9   Spa                  4277 non-null   float64\n",
            " 10  VRDeck               4277 non-null   float64\n",
            " 11  Deck                 4277 non-null   object \n",
            " 12  Side                 4277 non-null   object \n",
            " 13  PassengerId_encoded  4277 non-null   int64  \n",
            " 14  HomePlanet_encoded   4277 non-null   int64  \n",
            " 15  CryoSleep_encoded    4277 non-null   int64  \n",
            " 16  Destination_encoded  4277 non-null   int64  \n",
            " 17  VIP_encoded          4277 non-null   int64  \n",
            " 18  Deck_encoded         4277 non-null   int64  \n",
            " 19  Side_encoded         4277 non-null   int64  \n",
            "dtypes: bool(2), float64(6), int64(7), object(5)\n",
            "memory usage: 609.9+ KB\n"
          ]
        }
      ]
    },
    {
      "cell_type": "markdown",
      "metadata": {
        "id": "V67QqSsSdhqf"
      },
      "source": [
        "레이블 컬럼 & feature 컬럼 확인"
      ],
      "id": "V67QqSsSdhqf"
    },
    {
      "cell_type": "code",
      "source": [
        "df_train.head()"
      ],
      "metadata": {
        "colab": {
          "base_uri": "https://localhost:8080/",
          "height": 299
        },
        "id": "8sgsVXqVbO6K",
        "outputId": "b92c56b0-16d1-4d66-b3ec-9a82294e2992"
      },
      "id": "8sgsVXqVbO6K",
      "execution_count": 198,
      "outputs": [
        {
          "output_type": "execute_result",
          "data": {
            "text/plain": [
              "  PassengerId HomePlanet  CryoSleep  Destination   Age    VIP  RoomService  \\\n",
              "0     0001_01     Europa      False  TRAPPIST-1e  39.0  False          0.0   \n",
              "1     0002_01      Earth      False  TRAPPIST-1e  24.0  False        109.0   \n",
              "2     0003_01     Europa      False  TRAPPIST-1e  58.0   True         43.0   \n",
              "3     0003_02     Europa      False  TRAPPIST-1e  33.0  False          0.0   \n",
              "4     0004_01      Earth      False  TRAPPIST-1e  16.0  False        303.0   \n",
              "\n",
              "   FoodCourt  ShoppingMall     Spa  ...  Transported  Deck Side  \\\n",
              "0        0.0           0.0     0.0  ...        False     B    P   \n",
              "1        9.0          25.0   549.0  ...         True     F    S   \n",
              "2     3576.0           0.0  6715.0  ...        False     A    S   \n",
              "3     1283.0         371.0  3329.0  ...        False     A    S   \n",
              "4       70.0         151.0   565.0  ...         True     F    S   \n",
              "\n",
              "  PassengerId_encoded  HomePlanet_encoded  CryoSleep_encoded  \\\n",
              "0                   0                   1                  0   \n",
              "1                   1                   0                  0   \n",
              "2                   2                   1                  0   \n",
              "3                   3                   1                  0   \n",
              "4                   4                   0                  0   \n",
              "\n",
              "   Destination_encoded  VIP_encoded  Deck_encoded  Side_encoded  \n",
              "0                    2            0             1             0  \n",
              "1                    2            0             5             1  \n",
              "2                    2            1             0             1  \n",
              "3                    2            0             0             1  \n",
              "4                    2            0             5             1  \n",
              "\n",
              "[5 rows x 21 columns]"
            ],
            "text/html": [
              "\n",
              "  <div id=\"df-60d8199d-e7a7-4e62-a48c-ee5422e943ee\">\n",
              "    <div class=\"colab-df-container\">\n",
              "      <div>\n",
              "<style scoped>\n",
              "    .dataframe tbody tr th:only-of-type {\n",
              "        vertical-align: middle;\n",
              "    }\n",
              "\n",
              "    .dataframe tbody tr th {\n",
              "        vertical-align: top;\n",
              "    }\n",
              "\n",
              "    .dataframe thead th {\n",
              "        text-align: right;\n",
              "    }\n",
              "</style>\n",
              "<table border=\"1\" class=\"dataframe\">\n",
              "  <thead>\n",
              "    <tr style=\"text-align: right;\">\n",
              "      <th></th>\n",
              "      <th>PassengerId</th>\n",
              "      <th>HomePlanet</th>\n",
              "      <th>CryoSleep</th>\n",
              "      <th>Destination</th>\n",
              "      <th>Age</th>\n",
              "      <th>VIP</th>\n",
              "      <th>RoomService</th>\n",
              "      <th>FoodCourt</th>\n",
              "      <th>ShoppingMall</th>\n",
              "      <th>Spa</th>\n",
              "      <th>...</th>\n",
              "      <th>Transported</th>\n",
              "      <th>Deck</th>\n",
              "      <th>Side</th>\n",
              "      <th>PassengerId_encoded</th>\n",
              "      <th>HomePlanet_encoded</th>\n",
              "      <th>CryoSleep_encoded</th>\n",
              "      <th>Destination_encoded</th>\n",
              "      <th>VIP_encoded</th>\n",
              "      <th>Deck_encoded</th>\n",
              "      <th>Side_encoded</th>\n",
              "    </tr>\n",
              "  </thead>\n",
              "  <tbody>\n",
              "    <tr>\n",
              "      <th>0</th>\n",
              "      <td>0001_01</td>\n",
              "      <td>Europa</td>\n",
              "      <td>False</td>\n",
              "      <td>TRAPPIST-1e</td>\n",
              "      <td>39.0</td>\n",
              "      <td>False</td>\n",
              "      <td>0.0</td>\n",
              "      <td>0.0</td>\n",
              "      <td>0.0</td>\n",
              "      <td>0.0</td>\n",
              "      <td>...</td>\n",
              "      <td>False</td>\n",
              "      <td>B</td>\n",
              "      <td>P</td>\n",
              "      <td>0</td>\n",
              "      <td>1</td>\n",
              "      <td>0</td>\n",
              "      <td>2</td>\n",
              "      <td>0</td>\n",
              "      <td>1</td>\n",
              "      <td>0</td>\n",
              "    </tr>\n",
              "    <tr>\n",
              "      <th>1</th>\n",
              "      <td>0002_01</td>\n",
              "      <td>Earth</td>\n",
              "      <td>False</td>\n",
              "      <td>TRAPPIST-1e</td>\n",
              "      <td>24.0</td>\n",
              "      <td>False</td>\n",
              "      <td>109.0</td>\n",
              "      <td>9.0</td>\n",
              "      <td>25.0</td>\n",
              "      <td>549.0</td>\n",
              "      <td>...</td>\n",
              "      <td>True</td>\n",
              "      <td>F</td>\n",
              "      <td>S</td>\n",
              "      <td>1</td>\n",
              "      <td>0</td>\n",
              "      <td>0</td>\n",
              "      <td>2</td>\n",
              "      <td>0</td>\n",
              "      <td>5</td>\n",
              "      <td>1</td>\n",
              "    </tr>\n",
              "    <tr>\n",
              "      <th>2</th>\n",
              "      <td>0003_01</td>\n",
              "      <td>Europa</td>\n",
              "      <td>False</td>\n",
              "      <td>TRAPPIST-1e</td>\n",
              "      <td>58.0</td>\n",
              "      <td>True</td>\n",
              "      <td>43.0</td>\n",
              "      <td>3576.0</td>\n",
              "      <td>0.0</td>\n",
              "      <td>6715.0</td>\n",
              "      <td>...</td>\n",
              "      <td>False</td>\n",
              "      <td>A</td>\n",
              "      <td>S</td>\n",
              "      <td>2</td>\n",
              "      <td>1</td>\n",
              "      <td>0</td>\n",
              "      <td>2</td>\n",
              "      <td>1</td>\n",
              "      <td>0</td>\n",
              "      <td>1</td>\n",
              "    </tr>\n",
              "    <tr>\n",
              "      <th>3</th>\n",
              "      <td>0003_02</td>\n",
              "      <td>Europa</td>\n",
              "      <td>False</td>\n",
              "      <td>TRAPPIST-1e</td>\n",
              "      <td>33.0</td>\n",
              "      <td>False</td>\n",
              "      <td>0.0</td>\n",
              "      <td>1283.0</td>\n",
              "      <td>371.0</td>\n",
              "      <td>3329.0</td>\n",
              "      <td>...</td>\n",
              "      <td>False</td>\n",
              "      <td>A</td>\n",
              "      <td>S</td>\n",
              "      <td>3</td>\n",
              "      <td>1</td>\n",
              "      <td>0</td>\n",
              "      <td>2</td>\n",
              "      <td>0</td>\n",
              "      <td>0</td>\n",
              "      <td>1</td>\n",
              "    </tr>\n",
              "    <tr>\n",
              "      <th>4</th>\n",
              "      <td>0004_01</td>\n",
              "      <td>Earth</td>\n",
              "      <td>False</td>\n",
              "      <td>TRAPPIST-1e</td>\n",
              "      <td>16.0</td>\n",
              "      <td>False</td>\n",
              "      <td>303.0</td>\n",
              "      <td>70.0</td>\n",
              "      <td>151.0</td>\n",
              "      <td>565.0</td>\n",
              "      <td>...</td>\n",
              "      <td>True</td>\n",
              "      <td>F</td>\n",
              "      <td>S</td>\n",
              "      <td>4</td>\n",
              "      <td>0</td>\n",
              "      <td>0</td>\n",
              "      <td>2</td>\n",
              "      <td>0</td>\n",
              "      <td>5</td>\n",
              "      <td>1</td>\n",
              "    </tr>\n",
              "  </tbody>\n",
              "</table>\n",
              "<p>5 rows × 21 columns</p>\n",
              "</div>\n",
              "      <button class=\"colab-df-convert\" onclick=\"convertToInteractive('df-60d8199d-e7a7-4e62-a48c-ee5422e943ee')\"\n",
              "              title=\"Convert this dataframe to an interactive table.\"\n",
              "              style=\"display:none;\">\n",
              "        \n",
              "  <svg xmlns=\"http://www.w3.org/2000/svg\" height=\"24px\"viewBox=\"0 0 24 24\"\n",
              "       width=\"24px\">\n",
              "    <path d=\"M0 0h24v24H0V0z\" fill=\"none\"/>\n",
              "    <path d=\"M18.56 5.44l.94 2.06.94-2.06 2.06-.94-2.06-.94-.94-2.06-.94 2.06-2.06.94zm-11 1L8.5 8.5l.94-2.06 2.06-.94-2.06-.94L8.5 2.5l-.94 2.06-2.06.94zm10 10l.94 2.06.94-2.06 2.06-.94-2.06-.94-.94-2.06-.94 2.06-2.06.94z\"/><path d=\"M17.41 7.96l-1.37-1.37c-.4-.4-.92-.59-1.43-.59-.52 0-1.04.2-1.43.59L10.3 9.45l-7.72 7.72c-.78.78-.78 2.05 0 2.83L4 21.41c.39.39.9.59 1.41.59.51 0 1.02-.2 1.41-.59l7.78-7.78 2.81-2.81c.8-.78.8-2.07 0-2.86zM5.41 20L4 18.59l7.72-7.72 1.47 1.35L5.41 20z\"/>\n",
              "  </svg>\n",
              "      </button>\n",
              "      \n",
              "  <style>\n",
              "    .colab-df-container {\n",
              "      display:flex;\n",
              "      flex-wrap:wrap;\n",
              "      gap: 12px;\n",
              "    }\n",
              "\n",
              "    .colab-df-convert {\n",
              "      background-color: #E8F0FE;\n",
              "      border: none;\n",
              "      border-radius: 50%;\n",
              "      cursor: pointer;\n",
              "      display: none;\n",
              "      fill: #1967D2;\n",
              "      height: 32px;\n",
              "      padding: 0 0 0 0;\n",
              "      width: 32px;\n",
              "    }\n",
              "\n",
              "    .colab-df-convert:hover {\n",
              "      background-color: #E2EBFA;\n",
              "      box-shadow: 0px 1px 2px rgba(60, 64, 67, 0.3), 0px 1px 3px 1px rgba(60, 64, 67, 0.15);\n",
              "      fill: #174EA6;\n",
              "    }\n",
              "\n",
              "    [theme=dark] .colab-df-convert {\n",
              "      background-color: #3B4455;\n",
              "      fill: #D2E3FC;\n",
              "    }\n",
              "\n",
              "    [theme=dark] .colab-df-convert:hover {\n",
              "      background-color: #434B5C;\n",
              "      box-shadow: 0px 1px 3px 1px rgba(0, 0, 0, 0.15);\n",
              "      filter: drop-shadow(0px 1px 2px rgba(0, 0, 0, 0.3));\n",
              "      fill: #FFFFFF;\n",
              "    }\n",
              "  </style>\n",
              "\n",
              "      <script>\n",
              "        const buttonEl =\n",
              "          document.querySelector('#df-60d8199d-e7a7-4e62-a48c-ee5422e943ee button.colab-df-convert');\n",
              "        buttonEl.style.display =\n",
              "          google.colab.kernel.accessAllowed ? 'block' : 'none';\n",
              "\n",
              "        async function convertToInteractive(key) {\n",
              "          const element = document.querySelector('#df-60d8199d-e7a7-4e62-a48c-ee5422e943ee');\n",
              "          const dataTable =\n",
              "            await google.colab.kernel.invokeFunction('convertToInteractive',\n",
              "                                                     [key], {});\n",
              "          if (!dataTable) return;\n",
              "\n",
              "          const docLinkHtml = 'Like what you see? Visit the ' +\n",
              "            '<a target=\"_blank\" href=https://colab.research.google.com/notebooks/data_table.ipynb>data table notebook</a>'\n",
              "            + ' to learn more about interactive tables.';\n",
              "          element.innerHTML = '';\n",
              "          dataTable['output_type'] = 'display_data';\n",
              "          await google.colab.output.renderOutput(dataTable, element);\n",
              "          const docLink = document.createElement('div');\n",
              "          docLink.innerHTML = docLinkHtml;\n",
              "          element.appendChild(docLink);\n",
              "        }\n",
              "      </script>\n",
              "    </div>\n",
              "  </div>\n",
              "  "
            ]
          },
          "metadata": {},
          "execution_count": 198
        }
      ]
    },
    {
      "cell_type": "code",
      "source": [
        "df_train=df_train.drop(columns='PassengerId')\n",
        "df_train=df_train.drop(columns='HomePlanet')\n",
        "df_train=df_train.drop(columns='CryoSleep')\n",
        "df_train=df_train.drop(columns='Destination')\n",
        "df_train=df_train.drop(columns='VIP')\n",
        "df_train=df_train.drop(columns='Deck')\n",
        "df_train=df_train.drop(columns='Side')"
      ],
      "metadata": {
        "id": "41yomonfbaUR"
      },
      "id": "41yomonfbaUR",
      "execution_count": 199,
      "outputs": []
    },
    {
      "cell_type": "code",
      "source": [
        "df_train.info()"
      ],
      "metadata": {
        "colab": {
          "base_uri": "https://localhost:8080/"
        },
        "id": "Wpy4t68roXDb",
        "outputId": "55eee8a8-de29-4295-dcae-2a5ac82acfc2"
      },
      "id": "Wpy4t68roXDb",
      "execution_count": 200,
      "outputs": [
        {
          "output_type": "stream",
          "name": "stdout",
          "text": [
            "<class 'pandas.core.frame.DataFrame'>\n",
            "RangeIndex: 8693 entries, 0 to 8692\n",
            "Data columns (total 14 columns):\n",
            " #   Column               Non-Null Count  Dtype  \n",
            "---  ------               --------------  -----  \n",
            " 0   Age                  8693 non-null   float64\n",
            " 1   RoomService          8693 non-null   float64\n",
            " 2   FoodCourt            8693 non-null   float64\n",
            " 3   ShoppingMall         8693 non-null   float64\n",
            " 4   Spa                  8693 non-null   float64\n",
            " 5   VRDeck               8693 non-null   float64\n",
            " 6   Transported          8693 non-null   bool   \n",
            " 7   PassengerId_encoded  8693 non-null   int64  \n",
            " 8   HomePlanet_encoded   8693 non-null   int64  \n",
            " 9   CryoSleep_encoded    8693 non-null   int64  \n",
            " 10  Destination_encoded  8693 non-null   int64  \n",
            " 11  VIP_encoded          8693 non-null   int64  \n",
            " 12  Deck_encoded         8693 non-null   int64  \n",
            " 13  Side_encoded         8693 non-null   int64  \n",
            "dtypes: bool(1), float64(6), int64(7)\n",
            "memory usage: 891.5 KB\n"
          ]
        }
      ]
    },
    {
      "cell_type": "code",
      "source": [
        "df_test.info()"
      ],
      "metadata": {
        "colab": {
          "base_uri": "https://localhost:8080/"
        },
        "id": "hebvC3RCcF-p",
        "outputId": "8a4bdc11-22dd-4110-d569-4ff0b41e886e"
      },
      "id": "hebvC3RCcF-p",
      "execution_count": 201,
      "outputs": [
        {
          "output_type": "stream",
          "name": "stdout",
          "text": [
            "<class 'pandas.core.frame.DataFrame'>\n",
            "RangeIndex: 4277 entries, 0 to 4276\n",
            "Data columns (total 20 columns):\n",
            " #   Column               Non-Null Count  Dtype  \n",
            "---  ------               --------------  -----  \n",
            " 0   PassengerId          4277 non-null   object \n",
            " 1   HomePlanet           4277 non-null   object \n",
            " 2   CryoSleep            4277 non-null   bool   \n",
            " 3   Destination          4277 non-null   object \n",
            " 4   Age                  4277 non-null   float64\n",
            " 5   VIP                  4277 non-null   bool   \n",
            " 6   RoomService          4277 non-null   float64\n",
            " 7   FoodCourt            4277 non-null   float64\n",
            " 8   ShoppingMall         4277 non-null   float64\n",
            " 9   Spa                  4277 non-null   float64\n",
            " 10  VRDeck               4277 non-null   float64\n",
            " 11  Deck                 4277 non-null   object \n",
            " 12  Side                 4277 non-null   object \n",
            " 13  PassengerId_encoded  4277 non-null   int64  \n",
            " 14  HomePlanet_encoded   4277 non-null   int64  \n",
            " 15  CryoSleep_encoded    4277 non-null   int64  \n",
            " 16  Destination_encoded  4277 non-null   int64  \n",
            " 17  VIP_encoded          4277 non-null   int64  \n",
            " 18  Deck_encoded         4277 non-null   int64  \n",
            " 19  Side_encoded         4277 non-null   int64  \n",
            "dtypes: bool(2), float64(6), int64(7), object(5)\n",
            "memory usage: 609.9+ KB\n"
          ]
        }
      ]
    },
    {
      "cell_type": "code",
      "source": [
        "df_test=df_test.drop(columns='PassengerId')\n",
        "df_test=df_test.drop(columns='HomePlanet')\n",
        "df_test=df_test.drop(columns='CryoSleep')\n",
        "df_test=df_test.drop(columns='Destination')\n",
        "df_test=df_test.drop(columns='VIP')\n",
        "df_test=df_test.drop(columns='Deck')\n",
        "df_test=df_test.drop(columns='Side')"
      ],
      "metadata": {
        "id": "CqkHFN6jcEax"
      },
      "id": "CqkHFN6jcEax",
      "execution_count": 202,
      "outputs": []
    },
    {
      "cell_type": "code",
      "source": [
        "df_test.info()"
      ],
      "metadata": {
        "colab": {
          "base_uri": "https://localhost:8080/"
        },
        "id": "u8Ey31tZcgQC",
        "outputId": "caceb6ee-c500-4761-b65a-4132b9f7ccd8"
      },
      "id": "u8Ey31tZcgQC",
      "execution_count": 203,
      "outputs": [
        {
          "output_type": "stream",
          "name": "stdout",
          "text": [
            "<class 'pandas.core.frame.DataFrame'>\n",
            "RangeIndex: 4277 entries, 0 to 4276\n",
            "Data columns (total 13 columns):\n",
            " #   Column               Non-Null Count  Dtype  \n",
            "---  ------               --------------  -----  \n",
            " 0   Age                  4277 non-null   float64\n",
            " 1   RoomService          4277 non-null   float64\n",
            " 2   FoodCourt            4277 non-null   float64\n",
            " 3   ShoppingMall         4277 non-null   float64\n",
            " 4   Spa                  4277 non-null   float64\n",
            " 5   VRDeck               4277 non-null   float64\n",
            " 6   PassengerId_encoded  4277 non-null   int64  \n",
            " 7   HomePlanet_encoded   4277 non-null   int64  \n",
            " 8   CryoSleep_encoded    4277 non-null   int64  \n",
            " 9   Destination_encoded  4277 non-null   int64  \n",
            " 10  VIP_encoded          4277 non-null   int64  \n",
            " 11  Deck_encoded         4277 non-null   int64  \n",
            " 12  Side_encoded         4277 non-null   int64  \n",
            "dtypes: float64(6), int64(7)\n",
            "memory usage: 434.5 KB\n"
          ]
        }
      ]
    },
    {
      "cell_type": "code",
      "source": [
        "df_train.info()"
      ],
      "metadata": {
        "colab": {
          "base_uri": "https://localhost:8080/"
        },
        "id": "ceYoMIpVcjLo",
        "outputId": "3f6680b4-5512-486e-f8b8-5f2a8008f04e"
      },
      "id": "ceYoMIpVcjLo",
      "execution_count": 204,
      "outputs": [
        {
          "output_type": "stream",
          "name": "stdout",
          "text": [
            "<class 'pandas.core.frame.DataFrame'>\n",
            "RangeIndex: 8693 entries, 0 to 8692\n",
            "Data columns (total 14 columns):\n",
            " #   Column               Non-Null Count  Dtype  \n",
            "---  ------               --------------  -----  \n",
            " 0   Age                  8693 non-null   float64\n",
            " 1   RoomService          8693 non-null   float64\n",
            " 2   FoodCourt            8693 non-null   float64\n",
            " 3   ShoppingMall         8693 non-null   float64\n",
            " 4   Spa                  8693 non-null   float64\n",
            " 5   VRDeck               8693 non-null   float64\n",
            " 6   Transported          8693 non-null   bool   \n",
            " 7   PassengerId_encoded  8693 non-null   int64  \n",
            " 8   HomePlanet_encoded   8693 non-null   int64  \n",
            " 9   CryoSleep_encoded    8693 non-null   int64  \n",
            " 10  Destination_encoded  8693 non-null   int64  \n",
            " 11  VIP_encoded          8693 non-null   int64  \n",
            " 12  Deck_encoded         8693 non-null   int64  \n",
            " 13  Side_encoded         8693 non-null   int64  \n",
            "dtypes: bool(1), float64(6), int64(7)\n",
            "memory usage: 891.5 KB\n"
          ]
        }
      ]
    },
    {
      "cell_type": "code",
      "source": [
        "df_train.columns"
      ],
      "metadata": {
        "colab": {
          "base_uri": "https://localhost:8080/"
        },
        "id": "Vf_GdQwHc_Z4",
        "outputId": "b1c7083e-baa7-45e7-f8ad-dccf12244d48"
      },
      "id": "Vf_GdQwHc_Z4",
      "execution_count": 206,
      "outputs": [
        {
          "output_type": "execute_result",
          "data": {
            "text/plain": [
              "Index(['Age', 'RoomService', 'FoodCourt', 'ShoppingMall', 'Spa', 'VRDeck',\n",
              "       'Transported', 'PassengerId_encoded', 'HomePlanet_encoded',\n",
              "       'CryoSleep_encoded', 'Destination_encoded', 'VIP_encoded',\n",
              "       'Deck_encoded', 'Side_encoded'],\n",
              "      dtype='object')"
            ]
          },
          "metadata": {},
          "execution_count": 206
        }
      ]
    },
    {
      "cell_type": "code",
      "source": [
        "feature_columns =df_test.columns"
      ],
      "metadata": {
        "id": "KVrTBns1dGyI"
      },
      "id": "KVrTBns1dGyI",
      "execution_count": 208,
      "outputs": []
    },
    {
      "cell_type": "code",
      "source": [
        "feature_columns"
      ],
      "metadata": {
        "colab": {
          "base_uri": "https://localhost:8080/"
        },
        "id": "V5PhSbZxdKJo",
        "outputId": "7d99cf3b-0b3b-4e0b-a989-431c96878429"
      },
      "id": "V5PhSbZxdKJo",
      "execution_count": 209,
      "outputs": [
        {
          "output_type": "execute_result",
          "data": {
            "text/plain": [
              "Index(['Age', 'RoomService', 'FoodCourt', 'ShoppingMall', 'Spa', 'VRDeck',\n",
              "       'PassengerId_encoded', 'HomePlanet_encoded', 'CryoSleep_encoded',\n",
              "       'Destination_encoded', 'VIP_encoded', 'Deck_encoded', 'Side_encoded'],\n",
              "      dtype='object')"
            ]
          },
          "metadata": {},
          "execution_count": 209
        }
      ]
    },
    {
      "cell_type": "code",
      "source": [
        "label_columns='Transported'"
      ],
      "metadata": {
        "id": "v_IC_4QjdPZp"
      },
      "id": "v_IC_4QjdPZp",
      "execution_count": 210,
      "outputs": []
    },
    {
      "cell_type": "code",
      "execution_count": null,
      "metadata": {
        "id": "zIgpeFY7dhqf"
      },
      "outputs": [],
      "source": [
        "\"\"\"\n",
        "feature_columns = df_train.columns\n",
        "feature_columns \"\"\""
      ],
      "id": "zIgpeFY7dhqf"
    },
    {
      "cell_type": "code",
      "execution_count": null,
      "metadata": {
        "id": "yxTuc4OFdhqf"
      },
      "outputs": [],
      "source": [
        "#label_columns"
      ],
      "id": "yxTuc4OFdhqf"
    },
    {
      "cell_type": "code",
      "source": [
        "#df_train.info()"
      ],
      "metadata": {
        "id": "AS8rGbGHq6ZJ"
      },
      "id": "AS8rGbGHq6ZJ",
      "execution_count": null,
      "outputs": []
    },
    {
      "cell_type": "code",
      "source": [
        "\"\"\"object_type3 = ['HomePlanet', 'CryoSleep', 'Destination', 'VIP', 'Deck', 'Side']\n",
        "\n",
        "for column in object_type3:\n",
        "    df_train, _ = label_encoding(df_train, None, column)\n",
        "    df_train, _ = onehot_encoding(df_train, None, f'{column}_encoded')\"\"\""
      ],
      "metadata": {
        "id": "dbOyqASwrE3F"
      },
      "id": "dbOyqASwrE3F",
      "execution_count": null,
      "outputs": []
    },
    {
      "cell_type": "code",
      "source": [
        "\"\"\"object_type3 = ['HomePlanet', 'CryoSleep', 'Destination', 'VIP', 'Deck', 'Side']\n",
        "\n",
        "for column in object_type3:\n",
        "    df_test, _ = label_encoding(df_test, None, column)\n",
        "    df_test, _ = onehot_encoding(df_test, None, f'{column}_encoded')\"\"\""
      ],
      "metadata": {
        "id": "2jubthXqroPo"
      },
      "id": "2jubthXqroPo",
      "execution_count": null,
      "outputs": []
    },
    {
      "cell_type": "code",
      "source": [
        "df_train.isnull().sum()"
      ],
      "metadata": {
        "colab": {
          "base_uri": "https://localhost:8080/"
        },
        "id": "-DJFv4F4r3dA",
        "outputId": "de1717c2-bc2a-409a-83d8-96f0ff5201df"
      },
      "id": "-DJFv4F4r3dA",
      "execution_count": 205,
      "outputs": [
        {
          "output_type": "execute_result",
          "data": {
            "text/plain": [
              "Age                    0\n",
              "RoomService            0\n",
              "FoodCourt              0\n",
              "ShoppingMall           0\n",
              "Spa                    0\n",
              "VRDeck                 0\n",
              "Transported            0\n",
              "PassengerId_encoded    0\n",
              "HomePlanet_encoded     0\n",
              "CryoSleep_encoded      0\n",
              "Destination_encoded    0\n",
              "VIP_encoded            0\n",
              "Deck_encoded           0\n",
              "Side_encoded           0\n",
              "dtype: int64"
            ]
          },
          "metadata": {},
          "execution_count": 205
        }
      ]
    },
    {
      "cell_type": "markdown",
      "metadata": {
        "id": "878dccc3"
      },
      "source": [
        "# 3. 모델 개발"
      ],
      "id": "878dccc3"
    },
    {
      "cell_type": "markdown",
      "metadata": {
        "id": "U396170idhqh"
      },
      "source": [
        "train_test_split"
      ],
      "id": "U396170idhqh"
    },
    {
      "cell_type": "markdown",
      "source": [
        "총 2개의 데이터셋을 만들었지만, df_train_1만 모델에 fit할 것임 (df_train_2는 앞으로 이용 X)"
      ],
      "metadata": {
        "id": "qGGuJgC0F_Pa"
      },
      "id": "qGGuJgC0F_Pa"
    },
    {
      "cell_type": "code",
      "execution_count": 211,
      "metadata": {
        "colab": {
          "base_uri": "https://localhost:8080/"
        },
        "id": "uESLqeNjdhqi",
        "outputId": "0515132c-b117-4c26-8fab-fe2d823b05ba"
      },
      "outputs": [
        {
          "output_type": "stream",
          "name": "stdout",
          "text": [
            "x_train: 6954\n",
            "x_val: 1739\n"
          ]
        }
      ],
      "source": [
        "# train_test_split\n",
        "from sklearn.model_selection import train_test_split\n",
        "\n",
        "x_train, x_val, y_train, y_val = train_test_split(\n",
        "    df_train[feature_columns], df_train[label_columns], stratify=df_train[label_columns], test_size=0.2)\n",
        "\n",
        "x_train = x_train.reset_index(drop=True)\n",
        "x_val = x_val.reset_index(drop=True)\n",
        "y_train = y_train.reset_index(drop=True)\n",
        "y_val = y_val.reset_index(drop=True)\n",
        "\n",
        "print(\"x_train: {}\".format(len(x_train)))\n",
        "print(\"x_val: {}\".format(len(x_val)))"
      ],
      "id": "uESLqeNjdhqi"
    },
    {
      "cell_type": "markdown",
      "metadata": {
        "id": "U-zl-9KDdhqk"
      },
      "source": [
        "로지스틱"
      ],
      "id": "U-zl-9KDdhqk"
    },
    {
      "cell_type": "code",
      "execution_count": 212,
      "metadata": {
        "colab": {
          "base_uri": "https://localhost:8080/"
        },
        "id": "_CR4yRZzdhqk",
        "outputId": "08c6842d-4372-4c00-c61e-eae2629b4090"
      },
      "outputs": [
        {
          "output_type": "stream",
          "name": "stdout",
          "text": [
            "accuracy: 0.797\n",
            "logloss: 7.011\n",
            "auc: 0.869\n"
          ]
        },
        {
          "output_type": "stream",
          "name": "stderr",
          "text": [
            "/usr/local/lib/python3.7/dist-packages/sklearn/linear_model/_logistic.py:818: ConvergenceWarning: lbfgs failed to converge (status=1):\n",
            "STOP: TOTAL NO. of ITERATIONS REACHED LIMIT.\n",
            "\n",
            "Increase the number of iterations (max_iter) or scale the data as shown in:\n",
            "    https://scikit-learn.org/stable/modules/preprocessing.html\n",
            "Please also refer to the documentation for alternative solver options:\n",
            "    https://scikit-learn.org/stable/modules/linear_model.html#logistic-regression\n",
            "  extra_warning_msg=_LOGISTIC_SOLVER_CONVERGENCE_MSG,\n"
          ]
        }
      ],
      "source": [
        "# 로지스틱\n",
        "from sklearn.linear_model import LogisticRegression\n",
        "from sklearn.metrics import accuracy_score\n",
        "from sklearn.metrics import log_loss\n",
        "from sklearn.metrics import roc_auc_score\n",
        "\n",
        "# 모델 학습\n",
        "model = LogisticRegression(random_state=0) \n",
        "model.fit(x_train, y_train)\n",
        "\n",
        "# 모델 적용\n",
        "y_pred = model.predict(x_val) \n",
        "y_pred_prob = model.predict_proba(x_val) \n",
        "\n",
        "# 평가\n",
        "score_acc = accuracy_score(y_true=y_val, y_pred=y_pred)\n",
        "score_ll = log_loss(y_true=y_val, y_pred=y_pred)\n",
        "auc = roc_auc_score(y_true=y_val, y_score=y_pred_prob[:, 1])\n",
        "\n",
        "print(\"accuracy: {:.3f}\".format(score_acc))\n",
        "print(\"logloss: {:.3f}\".format(score_ll))\n",
        "print(\"auc: {:.3f}\".format(auc))"
      ],
      "id": "_CR4yRZzdhqk"
    },
    {
      "cell_type": "markdown",
      "metadata": {
        "id": "csW3LTlmdhqk"
      },
      "source": [
        "KNN"
      ],
      "id": "csW3LTlmdhqk"
    },
    {
      "cell_type": "code",
      "execution_count": 213,
      "metadata": {
        "colab": {
          "base_uri": "https://localhost:8080/"
        },
        "id": "JBDKUTkRdhql",
        "outputId": "22db558b-cdf5-465f-8977-4fe7378efdf3"
      },
      "outputs": [
        {
          "output_type": "stream",
          "name": "stdout",
          "text": [
            "accuracy: 0.758\n",
            "logloss: 8.362\n",
            "auc: 0.808\n"
          ]
        }
      ],
      "source": [
        "# KNN\n",
        "from sklearn.neighbors import KNeighborsClassifier\n",
        "from sklearn.metrics import accuracy_score\n",
        "from sklearn.metrics import log_loss\n",
        "from sklearn.metrics import roc_auc_score\n",
        "\n",
        "# 모델 학습\n",
        "k = 5 # hyper-parameter로 k는 5 선정\n",
        "model = KNeighborsClassifier(n_neighbors=k) \n",
        "model.fit(x_train, y_train)\n",
        "\n",
        "# 모델 적용\n",
        "y_pred = model.predict(x_val) \n",
        "y_pred_prob = model.predict_proba(x_val) \n",
        "\n",
        "# 평가\n",
        "score_acc = accuracy_score(y_true=y_val, y_pred=y_pred)\n",
        "score_ll = log_loss(y_true=y_val, y_pred=y_pred)\n",
        "auc = roc_auc_score(y_true=y_val, y_score=y_pred_prob[:, 1])\n",
        "\n",
        "print(\"accuracy: {:.3f}\".format(score_acc))\n",
        "print(\"logloss: {:.3f}\".format(score_ll))\n",
        "print(\"auc: {:.3f}\".format(auc))"
      ],
      "id": "JBDKUTkRdhql"
    },
    {
      "cell_type": "markdown",
      "metadata": {
        "id": "z9EWjwQZdhql"
      },
      "source": [
        "의사결정나무"
      ],
      "id": "z9EWjwQZdhql"
    },
    {
      "cell_type": "code",
      "execution_count": 214,
      "metadata": {
        "colab": {
          "base_uri": "https://localhost:8080/"
        },
        "id": "i5HKv8OIdhql",
        "outputId": "e16c1c4d-6d84-45b5-d586-b698df2400c9"
      },
      "outputs": [
        {
          "output_type": "stream",
          "name": "stdout",
          "text": [
            "accuracy: 0.745\n",
            "logloss: 8.819\n",
            "auc: 0.745\n"
          ]
        }
      ],
      "source": [
        "# 의사결정나무\n",
        "from sklearn.tree import DecisionTreeClassifier\n",
        "\n",
        "clf = DecisionTreeClassifier()\n",
        "clf.fit(x_train, y_train)\n",
        "\n",
        "# 모델 적용\n",
        "y_pred = clf.predict(x_val) \n",
        "y_pred_prob = clf.predict_proba(x_val) \n",
        "\n",
        "# 평가\n",
        "score_acc = accuracy_score(y_true=y_val, y_pred=y_pred)\n",
        "score_ll = log_loss(y_true=y_val, y_pred=y_pred)\n",
        "auc = roc_auc_score(y_true=y_val, y_score=y_pred_prob[:, 1])\n",
        "\n",
        "print(\"accuracy: {:.3f}\".format(score_acc))\n",
        "print(\"logloss: {:.3f}\".format(score_ll))\n",
        "print(\"auc: {:.3f}\".format(auc))"
      ],
      "id": "i5HKv8OIdhql"
    },
    {
      "cell_type": "markdown",
      "metadata": {
        "id": "Pehm1Ifudhqm"
      },
      "source": [
        "랜덤포레스트"
      ],
      "id": "Pehm1Ifudhqm"
    },
    {
      "cell_type": "code",
      "execution_count": 215,
      "metadata": {
        "colab": {
          "base_uri": "https://localhost:8080/"
        },
        "id": "Xkqx6Avddhqm",
        "outputId": "5a38323a-2acc-43a5-cbc6-0a0831672f81"
      },
      "outputs": [
        {
          "output_type": "stream",
          "name": "stdout",
          "text": [
            "accuracy: 0.795\n",
            "logloss: 7.071\n",
            "auc: 0.888\n"
          ]
        }
      ],
      "source": [
        "# 랜덤포레스트\n",
        "from sklearn.ensemble import RandomForestClassifier\n",
        "\n",
        "clf = RandomForestClassifier()\n",
        "clf.fit(x_train, y_train)\n",
        "\n",
        "# 모델 적용\n",
        "y_pred = clf.predict(x_val) \n",
        "y_pred_prob = clf.predict_proba(x_val) \n",
        "\n",
        "# 평가\n",
        "score_acc = accuracy_score(y_true=y_val, y_pred=y_pred)\n",
        "score_ll = log_loss(y_true=y_val, y_pred=y_pred)\n",
        "auc = roc_auc_score(y_true=y_val, y_score=y_pred_prob[:, 1])\n",
        "\n",
        "print(\"accuracy: {:.3f}\".format(score_acc))\n",
        "print(\"logloss: {:.3f}\".format(score_ll))\n",
        "print(\"auc: {:.3f}\".format(auc))"
      ],
      "id": "Xkqx6Avddhqm"
    },
    {
      "cell_type": "markdown",
      "source": [
        "- Accuracy; 정확도(Accuracy)는 전체 데이터에 대한 예측 오류의 수로 볼 수 있다. 쉽게 말해, 전체 데이터 중에서 몇 개를 맞췄는가이다. 100개 중 97개를 맞췄다면 accuracy는 97%이다.\n",
        "\n",
        "- Log Loss; 손실(Loss)은 실제 정답과 모델이 예측 한 값 사이의 차이(거리 또는 오차)이다. 즉, 손실이 클수록 데이터에 대한 오류도 커진다. 쉽게 말해, 틀리게 예측한 경우 얼마나 오류를 범했는가로 볼 수 있다. 따라서 2개의 모델이 100개 중 97개를 똑같이 맞춰도 둘의 오차는 다를 수 있다.\n",
        "\n",
        "- classification 모델평가시 Log Loss를 사용하지만, 회귀분석 모델에서는 MSE(Mean Squared Error)를 loss function으로 사용함 why? 로지스틱 회귀에서는 Non-convex한 경우 지역해에 빠질 위험이 있음"
      ],
      "metadata": {
        "id": "oEjdxW47HadD"
      },
      "id": "oEjdxW47HadD"
    },
    {
      "cell_type": "markdown",
      "source": [
        "앙상블모형"
      ],
      "metadata": {
        "id": "oMIm8uoyDaDm"
      },
      "id": "oMIm8uoyDaDm"
    },
    {
      "cell_type": "code",
      "source": [
        "# 앙상블 모형\n",
        "from sklearn.model_selection import train_test_split\n",
        "\n",
        "from sklearn.linear_model import LogisticRegression\n",
        "from sklearn.neighbors import KNeighborsClassifier\n",
        "from sklearn.tree import DecisionTreeClassifier\n",
        "from sklearn.ensemble import VotingClassifier\n",
        "\n",
        "from sklearn.metrics import accuracy_score\n",
        "from sklearn.metrics import roc_auc_score\n",
        "from sklearn.metrics import precision_recall_fscore_support\n",
        "from sklearn.metrics import classification_report\n",
        "\n",
        "\n",
        "\n",
        "# 서로 다른 3개의 모델을 가지고 각각 hetero하게 학습시킨 다음에 결과물에 대해 voting을 진행함\n",
        "model_lr = LogisticRegression(random_state=999, solver='liblinear')\n",
        "model_knn = KNeighborsClassifier(n_neighbors=5) # hyper-parameter\n",
        "model_dt = DecisionTreeClassifier(criterion='entropy', random_state=999)\n",
        "\n",
        "model_ensemble = VotingClassifier(\n",
        "    estimators=[('lr', model_lr), ('knn', model_knn), ('dt', model_dt)],\n",
        "    voting='soft'\n",
        ")\n",
        "\n",
        "# VotingClassifier\n",
        "# estimators=[('lr', model_lr), ('knn', model_knn), ('dt', model_dt)] -> 각각 estimator에 pair로 넣어줌\n",
        "# voting = 'soft' or 'hard'\n",
        "\n",
        "## train \n",
        "model_ensemble.fit(x_train, y_train)\n",
        "\n",
        "## eval (test)\n",
        "y_pred = model_ensemble.predict(x_val)\n",
        "y_pred_prob = model_ensemble.predict_proba(x_val)\n",
        "\n",
        "score_acc = accuracy_score(y_true=y_val, y_pred=y_pred)\n",
        "#score_acc = model_ensemble.score(x_test, y_test)  # mean_accuracy를 return 해줍니다\n",
        "score_auc = roc_auc_score(y_true=y_val, y_score=y_pred_prob[:, 1])\n",
        "\n",
        "print(\"(ensemble) acc: {:.3f}, auc: {:.3f}\".format(score_acc, score_auc))"
      ],
      "metadata": {
        "colab": {
          "base_uri": "https://localhost:8080/"
        },
        "id": "ygfwLiNhH6Aa",
        "outputId": "faf93f75-a8fa-4c8e-a5dc-86be31203df5"
      },
      "id": "ygfwLiNhH6Aa",
      "execution_count": 216,
      "outputs": [
        {
          "output_type": "stream",
          "name": "stdout",
          "text": [
            "(ensemble) acc: 0.783, auc: 0.871\n"
          ]
        }
      ]
    },
    {
      "cell_type": "code",
      "source": [
        "# 각각 세개 모델 따로따로 넣어서 해주지 않고, for문 돌려서 각 모델마다 산출하게 함\n",
        "\n",
        "for model_name, model in [('lr', model_lr), ('knn', model_knn), ('dt', model_dt)]:\n",
        "    model.fit(x_train, y_train)\n",
        "    y_pred = model.predict(x_val)\n",
        "    y_pred_prob = model.predict_proba(x_val)\n",
        "    score_acc = accuracy_score(y_true=y_val, y_pred=y_pred)\n",
        "    score_auc = roc_auc_score(y_true=y_val, y_score=y_pred_prob[:, 1])\n",
        "    print(\"(model_{}) acc: {:.3f}, auc: {:.3f}\".format(model_name, score_acc, score_auc))\n",
        "    "
      ],
      "metadata": {
        "colab": {
          "base_uri": "https://localhost:8080/"
        },
        "id": "ZswBE2UgJqf_",
        "outputId": "89a10dea-722f-4d1e-9725-ae15a88f083d"
      },
      "id": "ZswBE2UgJqf_",
      "execution_count": 217,
      "outputs": [
        {
          "output_type": "stream",
          "name": "stdout",
          "text": [
            "(model_lr) acc: 0.795, auc: 0.887\n",
            "(model_knn) acc: 0.758, auc: 0.808\n",
            "(model_dt) acc: 0.742, auc: 0.742\n"
          ]
        }
      ]
    },
    {
      "cell_type": "markdown",
      "source": [
        "<GBM과 변주모델들 개요>\n",
        "(1) Gradient Boosting (GBM)\n",
        "- 예측력이 좋지 못한 데이터/변수들을 복제해서 \n",
        "     예측력이 약했던 데이터/변수들의 성능을 높이는 모델\n",
        "- 어떻게 노드를 분할할 것인가에 대한 경우의 수를 다 고려\n",
        "- (단) 속도가 느릴 수 있다, 하드웨어의 성능에 민감\n",
        "\n",
        "(2) XGBoost\n",
        "- 노드 탐색을 할 때 모든 경우의 수를 고려 X\n",
        "- (1) Approximation Algorithm\n",
        "- 데이터 분포---> 데이터를 퍼센타일로 나눔--->버킷 안에서 노드분할 split 지점을 고려 (하나의 변수 안에서 모든 데이터 고려X, 하나의 변수 안에서 퍼센타일로 버킷 나눈 후 split 지점 고려)\n",
        "- (2) Column Sampling\n",
        "- 트리를 생성할 때, 변수를 임의적으로 샘플링 해서 사용\n",
        "\n",
        "(3) LightGBM\n",
        "- 변수가 너무 많아서 데이터가 클 때 \n",
        "- (1) 단측 표본 추출법\n",
        "- 데이터의 개수를 줄임\n",
        "- 예측성능이 우수한 데이터들은 살려둠\n",
        "- 예측성능이 우수하지 않았던 데이터(약한 기울기를 가진 데이터)--> 랜덤 샘플\n",
        "데이터 비워진 것들을 우수한/약했던 데이터들로 복제/생성\n",
        "- (2) 배타적 변수 추출\n",
        "- (one hot encoding) 배타적 변수들을 단일변수 묶음으로 묶어 취급해 모델링에 사용\n",
        "- GBM 장점 O. 단점 보완"
      ],
      "metadata": {
        "id": "2vzKZBJtLDio"
      },
      "id": "2vzKZBJtLDio"
    },
    {
      "cell_type": "markdown",
      "source": [
        "XG Boost"
      ],
      "metadata": {
        "id": "CQT-gjV2Ltw9"
      },
      "id": "CQT-gjV2Ltw9"
    },
    {
      "cell_type": "code",
      "source": [
        "import xgboost as xgb\n",
        "from sklearn.model_selection import GridSearchCV, train_test_split\n",
        "import pandas as pd\n",
        "\n",
        "\n",
        "## model\n",
        "model_xgb = xgb.XGBClassifier(\n",
        "    objective=\"binary:logistic\", \n",
        "    eval_metric='auc',\n",
        "    random_state=999,\n",
        ")\n",
        "\n",
        "## train \n",
        "model_xgb.fit(x_train, y_train)\n",
        "\n",
        "## test\n",
        "y_pred_prob = model_xgb.predict_proba(x_val)\n",
        "score = roc_auc_score(y_true=y_val, y_score=y_pred_prob[:, 1])\n",
        "\n",
        "print(\"(test) score: {:.3f}\".format(score))"
      ],
      "metadata": {
        "colab": {
          "base_uri": "https://localhost:8080/"
        },
        "id": "0zbWmi3wLouO",
        "outputId": "335a3474-15ad-41f9-d868-d2aaa40347d9"
      },
      "id": "0zbWmi3wLouO",
      "execution_count": 218,
      "outputs": [
        {
          "output_type": "stream",
          "name": "stdout",
          "text": [
            "(test) score: 0.902\n"
          ]
        }
      ]
    },
    {
      "cell_type": "markdown",
      "source": [
        "Light GBM"
      ],
      "metadata": {
        "id": "5-VMP82cDb78"
      },
      "id": "5-VMP82cDb78"
    },
    {
      "cell_type": "code",
      "source": [
        "import lightgbm as lgb\n",
        "from sklearn.model_selection import GridSearchCV, train_test_split\n",
        "import pandas as pd\n",
        "\n",
        "## model\n",
        "model_lgb = lgb.LGBMClassifier(\n",
        "    objective=\"binary\", random_state=999,\n",
        ")\n",
        "\n",
        "## train \n",
        "model_lgb.fit(x_train, y_train)\n",
        "\n",
        "## test\n",
        "y_pred_prob = model_lgb.predict_proba(x_val)\n",
        "score = roc_auc_score(y_true=y_val, y_score=y_pred_prob[:, 1])\n",
        "\n",
        "print(\"(test) score: {:.3f}\".format(score))"
      ],
      "metadata": {
        "colab": {
          "base_uri": "https://localhost:8080/"
        },
        "id": "lQZ6SYv1Dgmn",
        "outputId": "9f784802-c9b2-413e-8d1a-4d5fb41fcdcb"
      },
      "id": "lQZ6SYv1Dgmn",
      "execution_count": 219,
      "outputs": [
        {
          "output_type": "stream",
          "name": "stdout",
          "text": [
            "(test) score: 0.904\n"
          ]
        }
      ]
    },
    {
      "cell_type": "markdown",
      "source": [
        "K-fold 검증기법, Cross Validation"
      ],
      "metadata": {
        "id": "-LR9zbpmMAIi"
      },
      "id": "-LR9zbpmMAIi"
    },
    {
      "cell_type": "markdown",
      "metadata": {
        "id": "xMVNGuBZdhqm"
      },
      "source": [
        "### 어떤 것을 최종모델로 결정할까요?\n",
        "- Light GBM"
      ],
      "id": "xMVNGuBZdhqm"
    },
    {
      "cell_type": "markdown",
      "source": [
        "# 5. 제출 데이터 생성"
      ],
      "metadata": {
        "id": "FMaVAQu_DJ_E"
      },
      "id": "FMaVAQu_DJ_E"
    },
    {
      "cell_type": "markdown",
      "source": [
        "sample_submission.csv - 제출 파일 형식의 예시입니다.\n",
        "\n",
        "- PassengerId : 각 승객에 대한 ID입니다.\n",
        "- Transported : 목표값 입니다. 승객에 따라True 또는 False 를 예측합니다."
      ],
      "metadata": {
        "id": "fOX90UN8ZvxM"
      },
      "id": "fOX90UN8ZvxM"
    },
    {
      "cell_type": "code",
      "source": [
        "## inference\n",
        "#x_test = df_test_clean[features].values\n",
        "#df_test_clean['Survived'] = best_model.predict(x_test)\n",
        "\n",
        "## dump\n",
        "#df_test_clean[['PassengerId', 'Survived']].to_csv('./submission.csv', index=False)"
      ],
      "metadata": {
        "id": "54BJAASCZY1k"
      },
      "id": "54BJAASCZY1k",
      "execution_count": null,
      "outputs": []
    },
    {
      "cell_type": "code",
      "source": [
        "#df_sub = pd.read_csv('./sample_submission.csv')\n",
        "#df_sub['Transported'] = result\n",
        "#df_sub.to_csv('./submission.csv', index=False)"
      ],
      "metadata": {
        "id": "ThINHA-AZb8S"
      },
      "id": "ThINHA-AZb8S",
      "execution_count": null,
      "outputs": []
    },
    {
      "cell_type": "code",
      "source": [
        "d = model_lgb.predict(df_test)\n",
        "da_lgb = pd.DataFrame(d)\n",
        "\n",
        "# da_lgb\n",
        "da_lgb.columns = ['Transported']\n",
        "da_lgb['PassengerId'] = id\n",
        "da_lgb['kk'] = da_lgb['Transported']\n",
        "da_lgb = da_lgb.drop(['Transported'],axis=1)\n",
        "da_lgb.columns = ['PassengerId','Transported']\n",
        "da_lgb['Transported'] = da_lgb['Transported'].apply(lambda x:True if x==1 else False)\n",
        "# da_lgb = da_lgb.set_index('PassengerId')\n",
        "\n",
        "print(da_lgb)\n",
        "\n",
        "## dump\n",
        "da_lgb.to_csv('./submission3.csv', index=False)"
      ],
      "metadata": {
        "id": "rbJ3c-gJZrbo",
        "colab": {
          "base_uri": "https://localhost:8080/"
        },
        "outputId": "0f9d2957-5c2c-44bc-cc2d-90f692cf3b97"
      },
      "id": "rbJ3c-gJZrbo",
      "execution_count": 220,
      "outputs": [
        {
          "output_type": "stream",
          "name": "stdout",
          "text": [
            "                 PassengerId  Transported\n",
            "0     <built-in function id>         True\n",
            "1     <built-in function id>        False\n",
            "2     <built-in function id>         True\n",
            "3     <built-in function id>         True\n",
            "4     <built-in function id>         True\n",
            "...                      ...          ...\n",
            "4272  <built-in function id>         True\n",
            "4273  <built-in function id>         True\n",
            "4274  <built-in function id>         True\n",
            "4275  <built-in function id>         True\n",
            "4276  <built-in function id>         True\n",
            "\n",
            "[4277 rows x 2 columns]\n"
          ]
        }
      ]
    },
    {
      "cell_type": "markdown",
      "metadata": {
        "id": "6fa2bc2c"
      },
      "source": [
        "## [!] submit results"
      ],
      "id": "6fa2bc2c"
    },
    {
      "cell_type": "code",
      "execution_count": 221,
      "metadata": {
        "id": "a6da102d",
        "colab": {
          "base_uri": "https://localhost:8080/"
        },
        "outputId": "7d444346-bf88-4082-ff7c-ba85937266fe"
      },
      "outputs": [
        {
          "output_type": "stream",
          "name": "stdout",
          "text": [
            "Traceback (most recent call last):\n",
            "  File \"/usr/local/bin/kaggle\", line 8, in <module>\n",
            "    sys.exit(main())\n",
            "  File \"/usr/local/lib/python3.7/dist-packages/kaggle/cli.py\", line 67, in main\n",
            "    out = args.func(**command_args)\n",
            "  File \"/usr/local/lib/python3.7/dist-packages/kaggle/api/kaggle_api_extended.py\", line 562, in competition_submit_cli\n",
            "    competition, quiet)\n",
            "  File \"/usr/local/lib/python3.7/dist-packages/kaggle/api/kaggle_api_extended.py\", line 513, in competition_submit\n",
            "    content_length=os.path.getsize(file_name),\n",
            "  File \"/usr/lib/python3.7/genericpath.py\", line 50, in getsize\n",
            "    return os.stat(filename).st_size\n",
            "FileNotFoundError: [Errno 2] No such file or directory: 'submission.csv'\n"
          ]
        }
      ],
      "source": [
        "! kaggle competitions submit -c spaceship-titanic -f submission.csv -m \"GSI7645.01-00__week03\""
      ],
      "id": "a6da102d"
    },
    {
      "cell_type": "code",
      "execution_count": null,
      "metadata": {
        "id": "749752f3"
      },
      "outputs": [],
      "source": [
        "! kaggle competitions submissions -c spaceship-titanic"
      ],
      "id": "749752f3"
    }
  ],
  "metadata": {
    "colab": {
      "name": "머신러닝_week03_assignment_(김지민)의_사본(2).ipynb",
      "provenance": [],
      "collapsed_sections": [
        "xMVNGuBZdhqm",
        "6fa2bc2c"
      ],
      "include_colab_link": true
    },
    "kernelspec": {
      "display_name": "Python 3",
      "language": "python",
      "name": "python3"
    },
    "language_info": {
      "codemirror_mode": {
        "name": "ipython",
        "version": 3
      },
      "file_extension": ".py",
      "mimetype": "text/x-python",
      "name": "python",
      "nbconvert_exporter": "python",
      "pygments_lexer": "ipython3",
      "version": "3.7.6"
    }
  },
  "nbformat": 4,
  "nbformat_minor": 5
}